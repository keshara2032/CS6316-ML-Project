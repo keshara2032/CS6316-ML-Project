{
 "cells": [
  {
   "cell_type": "code",
   "execution_count": 2,
   "id": "b69705b0",
   "metadata": {},
   "outputs": [],
   "source": [
    "# install dependencies\n",
    "import sys\n",
    "# !{sys.executable} -m pip install pandas"
   ]
  },
  {
   "cell_type": "code",
   "execution_count": 3,
   "id": "caf1934d",
   "metadata": {},
   "outputs": [],
   "source": [
    "# import dependencies\n",
    "import numpy as np\n",
    "import pandas as pd\n",
    "\n",
    "from sklearn.model_selection import train_test_split\n",
    "from sklearn.linear_model import LogisticRegression\n",
    "from sklearn import preprocessing\n",
    "from sklearn import metrics\n",
    "from sklearn.pipeline import make_pipeline\n",
    "from sklearn.preprocessing import StandardScaler\n",
    "from sklearn.neighbors import KNeighborsClassifier\n",
    "from sklearn import tree\n",
    "from sklearn.svm import SVC\n",
    "from sklearn.datasets import load_iris\n",
    "from sklearn.preprocessing import LabelEncoder\n",
    "\n",
    "import seaborn as sns\n",
    "import matplotlib.pyplot as plt\n",
    "\n",
    "from sklearn.ensemble import AdaBoostClassifier\n",
    "from sklearn.ensemble import RandomForestClassifier\n",
    "from sklearn.metrics import make_scorer\n",
    "from sklearn.model_selection import cross_validate\n",
    "\n",
    "import warnings\n",
    "from sklearn.model_selection import GridSearchCV"
   ]
  },
  {
   "cell_type": "markdown",
   "id": "3886cde5-d03d-4a59-9ee1-c0c2e49db4c5",
   "metadata": {},
   "source": [
    "#### Exploratory Data Analysis"
   ]
  },
  {
   "cell_type": "code",
   "execution_count": 4,
   "id": "f921582c",
   "metadata": {},
   "outputs": [],
   "source": [
    "##### data loading and feature extraction\n",
    "\n",
    "dataset_1_path = './datasets/project3_dataset1.txt'\n",
    "dataset_1 = pd.read_csv(dataset_1_path,sep='\\t',header=None)\n",
    "num_columns = len(dataset_1.columns)\n",
    "num_features = num_columns - 1\n",
    "dataset_1.columns=[\"F\"+str(i) for i in range(1, num_columns + 1)]\n",
    "label_column = \"F{0}\".format(num_columns)\n",
    "dataset_1_features = dataset_1.loc[:, dataset_1.columns != label_column]\n",
    "dataset_1_label = dataset_1.loc[:, dataset_1.columns == label_column]\n",
    "\n",
    "\n",
    "\n",
    "dataset_2_path = './datasets/project3_dataset2.txt'\n",
    "# load the CSV file as a dataframe\n",
    "dataset_2 = pd.read_csv(dataset_2_path,sep='\\t',header=None)\n",
    "num_columns = len(dataset_2.columns)\n",
    "num_features = num_columns - 1\n",
    "dataset_2.columns=[\"F\"+str(i) for i in range(1, num_columns + 1)]\n",
    "label_column = \"F{0}\".format(num_columns)\n",
    "custom_encoding = {'Present':1, 'Absent':0}\n",
    "dataset_2[\"F5\"] = dataset_2[\"F5\"].map(custom_encoding)\n",
    "dataset_2_features = dataset_2.loc[:, dataset_2.columns != label_column]\n",
    "dataset_2_label = dataset_2.loc[:, dataset_2.columns == label_column]\n"
   ]
  },
  {
   "cell_type": "code",
   "execution_count": 5,
   "id": "8c68d804-607f-46a3-903b-acec827937ec",
   "metadata": {},
   "outputs": [],
   "source": [
    "X, Y = dataset_1_features, dataset_1_label"
   ]
  },
  {
   "cell_type": "code",
   "execution_count": 6,
   "id": "57496a0f-4743-4eb5-af0b-6062b50dc969",
   "metadata": {},
   "outputs": [],
   "source": [
    "X2, Y2 = dataset_2_features, dataset_2_label"
   ]
  },
  {
   "cell_type": "markdown",
   "id": "00efbd8e-9a90-4443-8218-7e18a0b13630",
   "metadata": {},
   "source": [
    "#### Hyperparameter Tuning Models"
   ]
  },
  {
   "cell_type": "code",
   "execution_count": 12,
   "id": "8cad8b7b-aa6b-4f47-9352-41f64ac4ef05",
   "metadata": {},
   "outputs": [],
   "source": [
    "def tune_svm(X,Y):\n",
    "    svc = SVC()\n",
    "    parameters = {'kernel':('linear', 'rbf'), 'C':[1, 10]}\n",
    "    clf = GridSearchCV(svc, parameters, scoring='accuracy')\n",
    "    clf.fit(X,Y.values.ravel())\n",
    "    #cv_results = cross_validate(clf, X,Y.values.ravel(), cv=10, scoring=('accuracy', 'precision', 'recall', 'f1','roc_auc'), return_train_score=True)\n",
    "    return clf.best_params_"
   ]
  },
  {
   "cell_type": "code",
   "execution_count": 18,
   "id": "dfc85dc5-f8bc-4a7f-bd56-b4f283d98861",
   "metadata": {},
   "outputs": [],
   "source": [
    "def tune_adaboost(X,Y):\n",
    "    ada = AdaBoostClassifier(random_state=0)\n",
    "    parameters = {'n_estimators': [100,200,300]}\n",
    "    clf = GridSearchCV(ada, parameters, scoring='accuracy')\n",
    "    clf = clf.fit(X, Y.values.ravel())\n",
    "    #cv_results = cross_validate(clf, X,Y.values.ravel(), cv=10, scoring=('accuracy', 'precision', 'recall', 'f1','roc_auc'), return_train_score=True)\n",
    "    return clf.best_params_"
   ]
  },
  {
   "cell_type": "code",
   "execution_count": 27,
   "id": "994fbce1-09f2-49c1-9d57-6a02ee904a57",
   "metadata": {},
   "outputs": [],
   "source": [
    "def tune_logistic_regression(X,y, max_iter=100):\n",
    "    logisticRegr = LogisticRegression(max_iter=max_iter)    \n",
    "    scaler = preprocessing.StandardScaler().fit(X)\n",
    "    x_scaled = scaler.transform(X)\n",
    "    parameters={\"C\":np.logspace(-3,5,10)}\n",
    "    clf = GridSearchCV(logisticRegr, parameters, scoring='accuracy', cv = 10)\n",
    "    clf = clf.fit(x_scaled,y.values.ravel())\n",
    "    return clf.best_params_\n",
    "    #cv_results = cross_validate(logisticRegr, x_scaled,y.values.ravel(), cv=10, scoring=('accuracy', 'precision', 'recall', 'f1','roc_auc'), return_train_score=True)"
   ]
  },
  {
   "cell_type": "code",
   "execution_count": 33,
   "id": "aec1102a-499e-4572-9030-29aa64f8d6bf",
   "metadata": {},
   "outputs": [],
   "source": [
    "# TODO: Can I use the sklearn implementation? Or should I use the decision tree classifier to create custom random forest methodß\n",
    "def tune_random_forest(X,y):\n",
    "    param_grid = { \n",
    "    'n_estimators': [200, 500],\n",
    "    'max_features': ['auto', 'sqrt', 'log2'],\n",
    "    'max_depth' : [4,5,6,7,8],\n",
    "    'criterion' :['gini', 'entropy']\n",
    "        }\n",
    "    rf = RandomForestClassifier()\n",
    "    clf = GridSearchCV(rf, param_grid, scoring='accuracy', cv = 10)\n",
    "    clf = clf.fit(X,y.values.ravel())\n",
    "    return clf.best_params_"
   ]
  },
  {
   "cell_type": "code",
   "execution_count": 37,
   "id": "1cce5a5a-b4be-44e1-91f1-9a8d08f8a0aa",
   "metadata": {},
   "outputs": [],
   "source": [
    "def tune_knn(X,y):\n",
    "    \n",
    "    scaler = preprocessing.StandardScaler().fit(X)\n",
    "    x_scaled = scaler.transform(X)\n",
    "    #x_scaled_test = scaler.transform(x_test)\n",
    "    k_range = list(range(1, 31))\n",
    "    param_grid = dict(n_neighbors=k_range)\n",
    "    knn = KNeighborsClassifier()\n",
    "    clf = GridSearchCV(knn, param_grid, scoring='accuracy', cv = 10)\n",
    "    clf = clf.fit(x_scaled,y.values.ravel())\n",
    "    return clf.best_params_"
   ]
  },
  {
   "cell_type": "code",
   "execution_count": 39,
   "id": "4dc3eaa5-3a22-48ff-aaf5-7ab025c4b880",
   "metadata": {},
   "outputs": [],
   "source": [
    "def tune_decision_tree(X,y):\n",
    "    params = {'max_leaf_nodes': list(range(2, 100)), 'min_samples_split': [2, 3, 4]}\n",
    "    dt = tree.DecisionTreeClassifier()\n",
    "    clf = GridSearchCV(dt, params, scoring='accuracy', cv = 10)\n",
    "    clf = clf.fit(X,y)\n",
    "    return clf.best_params_"
   ]
  },
  {
   "cell_type": "markdown",
   "id": "1d6067f0-d0f3-4370-a3c7-55786945f6ee",
   "metadata": {},
   "source": [
    "#### Dataset 1 Hyperparameter Tuning"
   ]
  },
  {
   "cell_type": "code",
   "execution_count": 13,
   "id": "357f237b-37f3-413c-8619-29dc85e8f696",
   "metadata": {},
   "outputs": [
    {
     "data": {
      "text/plain": [
       "{'C': 1, 'kernel': 'linear'}"
      ]
     },
     "execution_count": 13,
     "metadata": {},
     "output_type": "execute_result"
    }
   ],
   "source": [
    "tune_svm(X,Y)"
   ]
  },
  {
   "cell_type": "code",
   "execution_count": 19,
   "id": "f9aef17a-c0ae-4d2f-bede-1138abcebc29",
   "metadata": {},
   "outputs": [
    {
     "data": {
      "text/plain": [
       "{'n_estimators': 300}"
      ]
     },
     "execution_count": 19,
     "metadata": {},
     "output_type": "execute_result"
    }
   ],
   "source": [
    "tune_adaboost(X,Y)"
   ]
  },
  {
   "cell_type": "code",
   "execution_count": 30,
   "id": "0332b7ae-4e91-497b-a315-6717ed123229",
   "metadata": {},
   "outputs": [
    {
     "name": "stdout",
     "output_type": "stream",
     "text": [
      "{'C': 3.593813663804626}\n"
     ]
    }
   ],
   "source": [
    "warnings.filterwarnings('ignore')\n",
    "print(tune_logistic_regression(X,Y, max_iter=1000))\n",
    "warnings.filterwarnings('always')"
   ]
  },
  {
   "cell_type": "code",
   "execution_count": 34,
   "id": "8d2520d5-a1d3-453b-b388-ad67fa0d3b43",
   "metadata": {},
   "outputs": [
    {
     "data": {
      "text/plain": [
       "{'criterion': 'gini',\n",
       " 'max_depth': 5,\n",
       " 'max_features': 'sqrt',\n",
       " 'n_estimators': 500}"
      ]
     },
     "execution_count": 34,
     "metadata": {},
     "output_type": "execute_result"
    }
   ],
   "source": [
    "tune_random_forest(X,Y)"
   ]
  },
  {
   "cell_type": "code",
   "execution_count": 38,
   "id": "865bd6e6-96dc-49a1-8676-a18f18b57829",
   "metadata": {},
   "outputs": [
    {
     "data": {
      "text/plain": [
       "{'n_neighbors': 11}"
      ]
     },
     "execution_count": 38,
     "metadata": {},
     "output_type": "execute_result"
    }
   ],
   "source": [
    "tune_knn(X,Y)"
   ]
  },
  {
   "cell_type": "code",
   "execution_count": 40,
   "id": "bb952447-9e80-45d2-a00e-746b444a0051",
   "metadata": {
    "tags": []
   },
   "outputs": [
    {
     "data": {
      "text/plain": [
       "{'max_leaf_nodes': 13, 'min_samples_split': 3}"
      ]
     },
     "execution_count": 40,
     "metadata": {},
     "output_type": "execute_result"
    }
   ],
   "source": [
    "tune_decision_tree(X,Y)"
   ]
  },
  {
   "cell_type": "markdown",
   "id": "72fdaa65-d755-4234-a303-0a6bbcc5033f",
   "metadata": {},
   "source": [
    "#### Dataset 2 Hyperparameter Tuning"
   ]
  },
  {
   "cell_type": "code",
   "execution_count": 67,
   "id": "970823e8-feb6-49c1-b84c-b20ba026aba5",
   "metadata": {},
   "outputs": [
    {
     "data": {
      "text/plain": [
       "{'C': 1, 'kernel': 'linear'}"
      ]
     },
     "execution_count": 67,
     "metadata": {},
     "output_type": "execute_result"
    }
   ],
   "source": [
    "tune_svm(X2,Y2)"
   ]
  },
  {
   "cell_type": "code",
   "execution_count": 68,
   "id": "e0cb3111-c4c5-4d32-ac16-577b7a1c75f7",
   "metadata": {},
   "outputs": [
    {
     "data": {
      "text/plain": [
       "{'n_estimators': 100}"
      ]
     },
     "execution_count": 68,
     "metadata": {},
     "output_type": "execute_result"
    }
   ],
   "source": [
    "tune_adaboost(X2,Y2)"
   ]
  },
  {
   "cell_type": "code",
   "execution_count": 69,
   "id": "015a1a93-f6a2-4039-b508-05e1bab60bf5",
   "metadata": {},
   "outputs": [
    {
     "name": "stdout",
     "output_type": "stream",
     "text": [
      "{'C': 0.05994842503189409}\n"
     ]
    }
   ],
   "source": [
    "warnings.filterwarnings('ignore')\n",
    "print(tune_logistic_regression(X2,Y2, max_iter=1000))\n",
    "warnings.filterwarnings('always')"
   ]
  },
  {
   "cell_type": "code",
   "execution_count": 70,
   "id": "e3164c2b-2900-4caa-b6b6-53a1dcefcde5",
   "metadata": {},
   "outputs": [
    {
     "data": {
      "text/plain": [
       "{'criterion': 'entropy',\n",
       " 'max_depth': 4,\n",
       " 'max_features': 'auto',\n",
       " 'n_estimators': 200}"
      ]
     },
     "execution_count": 70,
     "metadata": {},
     "output_type": "execute_result"
    }
   ],
   "source": [
    "tune_random_forest(X2,Y2)"
   ]
  },
  {
   "cell_type": "code",
   "execution_count": 71,
   "id": "87b979a5-8590-4fe3-b23e-9d40d1b07a39",
   "metadata": {},
   "outputs": [
    {
     "data": {
      "text/plain": [
       "{'n_neighbors': 25}"
      ]
     },
     "execution_count": 71,
     "metadata": {},
     "output_type": "execute_result"
    }
   ],
   "source": [
    "tune_knn(X2,Y2)"
   ]
  },
  {
   "cell_type": "code",
   "execution_count": 72,
   "id": "c6b852a1-8a77-4e95-b2f2-e2f5707acc9c",
   "metadata": {
    "tags": []
   },
   "outputs": [
    {
     "data": {
      "text/plain": [
       "{'max_leaf_nodes': 6, 'min_samples_split': 2}"
      ]
     },
     "execution_count": 72,
     "metadata": {},
     "output_type": "execute_result"
    }
   ],
   "source": [
    "tune_decision_tree(X2,Y2)"
   ]
  },
  {
   "cell_type": "markdown",
   "id": "d7ee2ebf-da9b-44e1-81e9-bffa0ee1961f",
   "metadata": {},
   "source": [
    "#### Model Definitions"
   ]
  },
  {
   "cell_type": "code",
   "execution_count": 41,
   "id": "428965ff-8e04-4e58-a833-7cc93d4c4912",
   "metadata": {},
   "outputs": [],
   "source": [
    "def svm(X,Y,C, kernel):\n",
    "    clf = SVC(C=C, kernel=kernel)\n",
    "    cv_results = cross_validate(clf, X,Y.values.ravel(), cv=10, scoring=('accuracy', 'precision', 'recall', 'f1','roc_auc'), return_train_score=True)\n",
    "    return cv_results"
   ]
  },
  {
   "cell_type": "code",
   "execution_count": 44,
   "id": "85e024e8-16d8-4929-beb0-fa816351a36d",
   "metadata": {},
   "outputs": [],
   "source": [
    "def adaboost(X,Y, n_estimators):\n",
    "    clf = AdaBoostClassifier(n_estimators=n_estimators, random_state=0)\n",
    "    clf = clf.fit(X, Y.values.ravel())\n",
    "    cv_results = cross_validate(clf, X,Y.values.ravel(), cv=10, scoring=('accuracy', 'precision', 'recall', 'f1','roc_auc'), return_train_score=True)\n",
    "    return cv_results"
   ]
  },
  {
   "cell_type": "code",
   "execution_count": 50,
   "id": "e1ddc69a-8cb6-43f4-95e0-70c334393adf",
   "metadata": {},
   "outputs": [],
   "source": [
    "def logistic_regression(X,y,reg_param, max_iter=100):\n",
    "    # all parameters not specified are set to their defaults\n",
    "    if(reg_param > 0):\n",
    "        logisticRegr = LogisticRegression(penalty=\"l2\",C=reg_param, max_iter=max_iter)\n",
    "    else:\n",
    "        logisticRegr = LogisticRegression(penalty=\"none\", max_iter=max_iter) # default l2 reg param \n",
    "        \n",
    "    scaler = preprocessing.StandardScaler().fit(X)\n",
    "    x_scaled = scaler.transform(X)\n",
    "    cv_results = cross_validate(logisticRegr, x_scaled,y.values.ravel(), cv=10, scoring=('accuracy', 'precision', 'recall', 'f1','roc_auc'), return_train_score=True)\n",
    "    return cv_results"
   ]
  },
  {
   "cell_type": "code",
   "execution_count": 56,
   "id": "f7b26fb4-f141-438a-b452-188c5c903573",
   "metadata": {},
   "outputs": [],
   "source": [
    "# TODO: Can I use the sklearn implementation? Or should I use the decision tree classifier to create custom random forest methodß\n",
    "def random_forest(X,y, criterion, max_depth, max_features, n_estimators):\n",
    "    clf = RandomForestClassifier(max_depth=max_depth, random_state=0, criterion=criterion,\n",
    "                                 max_features=max_features,n_estimators=n_estimators )\n",
    "    cv_results = cross_validate(clf, X,y.values.ravel(), cv=10, scoring=('accuracy', 'precision', 'recall', 'f1','roc_auc'), return_train_score=True)\n",
    "    return cv_results"
   ]
  },
  {
   "cell_type": "code",
   "execution_count": 47,
   "id": "afdc0fc5-aa46-4705-b7d1-aa63d5daad66",
   "metadata": {},
   "outputs": [],
   "source": [
    "def knn(X,y,k):\n",
    "    \n",
    "    scaler = preprocessing.StandardScaler().fit(X)\n",
    "    x_scaled = scaler.transform(X)\n",
    "    #x_scaled_test = scaler.transform(x_test)\n",
    "    \n",
    "    knn = KNeighborsClassifier(n_neighbors=k)\n",
    "    \n",
    "    cv_results = cross_validate(knn, x_scaled,y.values.ravel(), cv=10, scoring=('accuracy', 'precision', 'recall', 'f1','roc_auc'), return_train_score=True)\n",
    "    return cv_results"
   ]
  },
  {
   "cell_type": "code",
   "execution_count": 53,
   "id": "5f52c378-fd9f-4105-a2ea-45a1b3a90406",
   "metadata": {},
   "outputs": [],
   "source": [
    "def decision_tree(X,y, max_leaf_nodes, min_samples_split):\n",
    "    clf = tree.DecisionTreeClassifier(max_leaf_nodes=13, min_samples_split=3)\n",
    "    cv_results = cross_validate(clf, X,y, cv=10, scoring=('accuracy', 'precision', 'recall', 'f1','roc_auc'), return_train_score=True)\n",
    "    return cv_results"
   ]
  },
  {
   "cell_type": "markdown",
   "id": "8dbe22aa-bc42-4236-a4cc-1e639bad817a",
   "metadata": {},
   "source": [
    "#### DataSet 1 Training and Evaluation"
   ]
  },
  {
   "cell_type": "code",
   "execution_count": 51,
   "id": "a4fb0446-1d6f-4c07-8a6d-36a468cf1deb",
   "metadata": {},
   "outputs": [
    {
     "data": {
      "text/plain": [
       "{'fit_time': array([0.05724692, 0.02053189, 0.01158905, 0.0113647 , 0.00954413,\n",
       "        0.00871086, 0.00611567, 0.01367617, 0.00689602, 0.00942492]),\n",
       " 'score_time': array([0.00268006, 0.00191736, 0.00175786, 0.0017612 , 0.00173807,\n",
       "        0.00176406, 0.00173521, 0.00173092, 0.00176406, 0.00175714]),\n",
       " 'test_accuracy': array([0.98245614, 1.        , 1.        , 0.98245614, 0.96491228,\n",
       "        0.98245614, 0.94736842, 0.98245614, 0.96491228, 1.        ]),\n",
       " 'train_accuracy': array([0.9921875 , 0.98828125, 0.98828125, 0.9921875 , 0.98632812,\n",
       "        0.9921875 , 0.99023438, 0.99023438, 0.99023438, 0.98830409]),\n",
       " 'test_precision': array([0.95652174, 1.        , 1.        , 1.        , 1.        ,\n",
       "        1.        , 0.90909091, 1.        , 0.95238095, 1.        ]),\n",
       " 'train_precision': array([1.        , 0.99462366, 0.99465241, 1.        , 0.99462366,\n",
       "        1.        , 0.99468085, 0.98947368, 0.99468085, 0.99465241]),\n",
       " 'test_recall': array([1.        , 1.        , 1.        , 0.95238095, 0.9047619 ,\n",
       "        0.95238095, 0.95238095, 0.95238095, 0.95238095, 1.        ]),\n",
       " 'train_recall': array([0.97894737, 0.97368421, 0.97382199, 0.97905759, 0.96858639,\n",
       "        0.97905759, 0.97905759, 0.98429319, 0.97905759, 0.97382199]),\n",
       " 'test_f1': array([0.97777778, 1.        , 1.        , 0.97560976, 0.95      ,\n",
       "        0.97560976, 0.93023256, 0.97560976, 0.95238095, 1.        ]),\n",
       " 'train_f1': array([0.9893617 , 0.98404255, 0.98412698, 0.98941799, 0.98143236,\n",
       "        0.98941799, 0.98680739, 0.98687664, 0.98680739, 0.98412698]),\n",
       " 'test_roc_auc': array([0.9987013 , 1.        , 1.        , 0.99338624, 0.97619048,\n",
       "        0.99603175, 0.99603175, 0.98015873, 0.99470899, 1.        ]),\n",
       " 'train_roc_auc': array([0.99815299, 0.99797319, 0.9976187 , 0.99838528, 0.99836897,\n",
       "        0.9980917 , 0.99835266, 0.99929866, 0.9979449 , 0.99801632])}"
      ]
     },
     "execution_count": 51,
     "metadata": {},
     "output_type": "execute_result"
    }
   ],
   "source": [
    "warnings.filterwarnings('ignore')\n",
    "logistic_regression(X,Y,3.59,1000)"
   ]
  },
  {
   "cell_type": "code",
   "execution_count": 48,
   "id": "c802df16-e64b-4aa9-bedb-4b61374c5538",
   "metadata": {},
   "outputs": [
    {
     "data": {
      "text/plain": [
       "{'fit_time': array([0.00101805, 0.00033212, 0.00030613, 0.00025702, 0.00026011,\n",
       "        0.00025702, 0.00023913, 0.00025606, 0.00029898, 0.00026584]),\n",
       " 'score_time': array([0.01675582, 0.00589705, 0.00417495, 0.00410795, 0.00405502,\n",
       "        0.00398707, 0.0039959 , 0.00485778, 0.00447893, 0.00551915]),\n",
       " 'test_accuracy': array([0.98245614, 0.96491228, 0.98245614, 0.92982456, 0.96491228,\n",
       "        0.98245614, 0.98245614, 0.96491228, 0.98245614, 0.98214286]),\n",
       " 'train_accuracy': array([0.97265625, 0.97070312, 0.97070312, 0.9765625 , 0.97265625,\n",
       "        0.97265625, 0.97265625, 0.97070312, 0.97460938, 0.97270955]),\n",
       " 'test_precision': array([1.        , 0.95454545, 1.        , 1.        , 1.        ,\n",
       "        1.        , 1.        , 1.        , 1.        , 0.95454545]),\n",
       " 'train_precision': array([0.98351648, 0.99435028, 0.98888889, 0.98907104, 0.98895028,\n",
       "        0.98895028, 0.98895028, 0.98888889, 0.98901099, 0.99441341]),\n",
       " 'test_recall': array([0.95454545, 0.95454545, 0.95238095, 0.80952381, 0.9047619 ,\n",
       "        0.95238095, 0.95238095, 0.9047619 , 0.95238095, 1.        ]),\n",
       " 'train_recall': array([0.94210526, 0.92631579, 0.93193717, 0.94764398, 0.93717277,\n",
       "        0.93717277, 0.93717277, 0.93193717, 0.94240838, 0.93193717]),\n",
       " 'test_f1': array([0.97674419, 0.95454545, 0.97560976, 0.89473684, 0.95      ,\n",
       "        0.97560976, 0.97560976, 0.95      , 0.97560976, 0.97674419]),\n",
       " 'train_f1': array([0.96236559, 0.95912807, 0.95956873, 0.96791444, 0.96236559,\n",
       "        0.96236559, 0.96236559, 0.95956873, 0.96514745, 0.96216216]),\n",
       " 'test_roc_auc': array([0.99675325, 0.99480519, 0.99867725, 0.98941799, 0.99603175,\n",
       "        0.99537037, 0.99338624, 0.97089947, 1.        , 0.9952381 ]),\n",
       " 'train_roc_auc': array([0.99608532, 0.99566852, 0.99602029, 0.99574302, 0.99625679,\n",
       "        0.99576748, 0.99633019, 0.9968358 , 0.99613446, 0.99632532])}"
      ]
     },
     "execution_count": 48,
     "metadata": {},
     "output_type": "execute_result"
    }
   ],
   "source": [
    "knn(X,Y,11) # 1 neighbor would give perfect accuracy for training set, overfitting"
   ]
  },
  {
   "cell_type": "code",
   "execution_count": 55,
   "id": "03b70dda-6ae7-4645-bb0c-af50bcdce772",
   "metadata": {},
   "outputs": [
    {
     "data": {
      "text/plain": [
       "{'fit_time': array([0.01672006, 0.01169086, 0.0063448 , 0.0065589 , 0.005548  ,\n",
       "        0.0050559 , 0.00550818, 0.0050199 , 0.00557303, 0.00470018]),\n",
       " 'score_time': array([0.00766492, 0.00634909, 0.00433612, 0.00363183, 0.00317383,\n",
       "        0.00312614, 0.00313973, 0.00310922, 0.00312114, 0.00310397]),\n",
       " 'test_accuracy': array([0.94736842, 0.87719298, 0.96491228, 0.87719298, 0.96491228,\n",
       "        0.89473684, 0.94736842, 0.94736842, 0.96491228, 0.94642857]),\n",
       " 'train_accuracy': array([0.98828125, 0.98828125, 0.9921875 , 0.9921875 , 0.99023438,\n",
       "        0.99414062, 0.9921875 , 0.99023438, 0.98828125, 0.99415205]),\n",
       " 'test_precision': array([0.95238095, 0.82608696, 1.        , 0.88888889, 1.        ,\n",
       "        0.8       , 0.95      , 0.95      , 1.        , 0.90909091]),\n",
       " 'train_precision': array([0.9893617 , 0.99462366, 1.        , 0.99470899, 1.        ,\n",
       "        1.        , 0.99470899, 0.98947368, 0.98941799, 1.        ]),\n",
       " 'test_recall': array([0.90909091, 0.86363636, 0.9047619 , 0.76190476, 0.9047619 ,\n",
       "        0.95238095, 0.9047619 , 0.9047619 , 0.9047619 , 0.95238095]),\n",
       " 'train_recall': array([0.97894737, 0.97368421, 0.97905759, 0.98429319, 0.97382199,\n",
       "        0.98429319, 0.98429319, 0.98429319, 0.97905759, 0.98429319]),\n",
       " 'test_f1': array([0.93023256, 0.84444444, 0.95      , 0.82051282, 0.95      ,\n",
       "        0.86956522, 0.92682927, 0.92682927, 0.95      , 0.93023256]),\n",
       " 'train_f1': array([0.98412698, 0.98404255, 0.98941799, 0.98947368, 0.9867374 ,\n",
       "        0.99208443, 0.98947368, 0.98687664, 0.98421053, 0.99208443]),\n",
       " 'test_roc_auc': array([0.91558442, 0.8012987 , 0.92857143, 0.80357143, 0.95767196,\n",
       "        0.88624339, 0.91865079, 0.9265873 , 0.93386243, 0.94829932]),\n",
       " 'train_roc_auc': array([0.99359268, 0.99340471, 0.99047479, 0.99145341, 0.99453605,\n",
       "        0.99488673, 0.9960366 , 0.99248096, 0.9899284 , 0.99278072])}"
      ]
     },
     "execution_count": 55,
     "metadata": {},
     "output_type": "execute_result"
    }
   ],
   "source": [
    "decision_tree(X,Y, max_leaf_nodes=13, min_samples_split=3)"
   ]
  },
  {
   "cell_type": "code",
   "execution_count": 42,
   "id": "7fa61cd9-086d-4a6d-a2c6-247bb60f49ca",
   "metadata": {},
   "outputs": [
    {
     "data": {
      "text/plain": [
       "{'fit_time': array([1.16835213, 1.83804297, 0.57287502, 0.63425207, 0.57767773,\n",
       "        1.59166193, 0.48907924, 0.43592381, 0.83763003, 0.48390484]),\n",
       " 'score_time': array([0.01042604, 0.00356507, 0.00351214, 0.00347996, 0.00310302,\n",
       "        0.00320506, 0.00303674, 0.00290108, 0.00375772, 0.00367212]),\n",
       " 'test_accuracy': array([0.9122807 , 0.96491228, 0.98245614, 0.9122807 , 0.9122807 ,\n",
       "        0.96491228, 0.9122807 , 0.98245614, 1.        , 0.98214286]),\n",
       " 'train_accuracy': array([0.96679688, 0.96289062, 0.97265625, 0.96875   , 0.97070312,\n",
       "        0.96679688, 0.96875   , 0.96679688, 0.9609375 , 0.96491228]),\n",
       " 'test_precision': array([0.84, 1.  , 1.  , 0.9 , 0.9 , 1.  , 0.9 , 1.  , 1.  , 1.  ]),\n",
       " 'train_precision': array([0.96756757, 0.96721311, 0.97326203, 0.96296296, 0.97826087,\n",
       "        0.95789474, 0.96791444, 0.96276596, 0.96216216, 0.96756757]),\n",
       " 'test_recall': array([0.95454545, 0.90909091, 0.95238095, 0.85714286, 0.85714286,\n",
       "        0.9047619 , 0.85714286, 0.95238095, 1.        , 0.95238095]),\n",
       " 'train_recall': array([0.94210526, 0.93157895, 0.95287958, 0.95287958, 0.94240838,\n",
       "        0.95287958, 0.94764398, 0.94764398, 0.93193717, 0.93717277]),\n",
       " 'test_f1': array([0.89361702, 0.95238095, 0.97560976, 0.87804878, 0.87804878,\n",
       "        0.95      , 0.87804878, 0.97560976, 1.        , 0.97560976]),\n",
       " 'train_f1': array([0.95466667, 0.94906166, 0.96296296, 0.95789474, 0.96      ,\n",
       "        0.95538058, 0.95767196, 0.95514512, 0.94680851, 0.95212766]),\n",
       " 'test_roc_auc': array([0.99090909, 0.9987013 , 0.97222222, 0.98941799, 0.99074074,\n",
       "        0.9973545 , 0.98015873, 0.97486772, 1.        , 0.99863946]),\n",
       " 'train_roc_auc': array([0.99571755, 0.99344557, 0.99372054, 0.99536788, 0.99383471,\n",
       "        0.99497643, 0.99588981, 0.99642805, 0.9947644 , 0.99443921])}"
      ]
     },
     "execution_count": 42,
     "metadata": {},
     "output_type": "execute_result"
    }
   ],
   "source": [
    "svm(X,Y,1, 'linear')"
   ]
  },
  {
   "cell_type": "code",
   "execution_count": 45,
   "id": "5f49aa41-50e0-4c8d-9e53-e7d9e2c56e45",
   "metadata": {},
   "outputs": [
    {
     "data": {
      "text/plain": [
       "{'fit_time': array([0.60094094, 0.60139489, 0.60209799, 0.60245919, 0.60145712,\n",
       "        0.60125303, 0.60193825, 0.60184598, 0.60057998, 0.59857702]),\n",
       " 'score_time': array([0.03939295, 0.03889823, 0.03921771, 0.03888583, 0.03883767,\n",
       "        0.03952289, 0.03896499, 0.03893495, 0.03880692, 0.03845191]),\n",
       " 'test_accuracy': array([0.96491228, 0.98245614, 0.98245614, 0.92982456, 0.96491228,\n",
       "        0.96491228, 0.98245614, 0.96491228, 0.98245614, 0.96428571]),\n",
       " 'train_accuracy': array([1., 1., 1., 1., 1., 1., 1., 1., 1., 1.]),\n",
       " 'test_precision': array([0.95454545, 1.        , 1.        , 0.94736842, 1.        ,\n",
       "        0.95238095, 1.        , 1.        , 1.        , 0.91304348]),\n",
       " 'train_precision': array([1., 1., 1., 1., 1., 1., 1., 1., 1., 1.]),\n",
       " 'test_recall': array([0.95454545, 0.95454545, 0.95238095, 0.85714286, 0.9047619 ,\n",
       "        0.95238095, 0.95238095, 0.9047619 , 0.95238095, 1.        ]),\n",
       " 'train_recall': array([1., 1., 1., 1., 1., 1., 1., 1., 1., 1.]),\n",
       " 'test_f1': array([0.95454545, 0.97674419, 0.97560976, 0.9       , 0.95      ,\n",
       "        0.95238095, 0.97560976, 0.95      , 0.97560976, 0.95454545]),\n",
       " 'train_f1': array([1., 1., 1., 1., 1., 1., 1., 1., 1., 1.]),\n",
       " 'test_roc_auc': array([0.9987013 , 1.        , 1.        , 0.97089947, 0.99867725,\n",
       "        0.99603175, 0.99867725, 0.99206349, 1.        , 0.99863946]),\n",
       " 'train_roc_auc': array([1., 1., 1., 1., 1., 1., 1., 1., 1., 1.])}"
      ]
     },
     "execution_count": 45,
     "metadata": {},
     "output_type": "execute_result"
    }
   ],
   "source": [
    "#adaboost(x_train,x_test,y_train,y_test)\n",
    "adaboost(X,Y, 300)"
   ]
  },
  {
   "cell_type": "code",
   "execution_count": 58,
   "id": "f5ce4d35-85b4-4f17-97ca-72d6bb21bb15",
   "metadata": {},
   "outputs": [
    {
     "data": {
      "text/plain": [
       "{'fit_time': array([0.56493282, 0.52228475, 0.519835  , 0.5178082 , 0.52513003,\n",
       "        0.52864885, 0.52830482, 0.52736306, 0.5302527 , 0.53744721]),\n",
       " 'score_time': array([0.04388928, 0.0440371 , 0.04426312, 0.04310489, 0.04320478,\n",
       "        0.044559  , 0.045259  , 0.04406786, 0.04443431, 0.04415202]),\n",
       " 'test_accuracy': array([0.96491228, 0.96491228, 0.98245614, 0.92982456, 0.96491228,\n",
       "        0.96491228, 0.96491228, 0.98245614, 0.98245614, 0.94642857]),\n",
       " 'train_accuracy': array([0.99414062, 0.99023438, 0.99414062, 0.99414062, 0.99414062,\n",
       "        0.99414062, 0.99609375, 0.99609375, 0.99414062, 0.99415205]),\n",
       " 'test_precision': array([0.95454545, 0.95454545, 1.        , 0.94736842, 1.        ,\n",
       "        0.95238095, 1.        , 1.        , 1.        , 0.90909091]),\n",
       " 'train_precision': array([1., 1., 1., 1., 1., 1., 1., 1., 1., 1.]),\n",
       " 'test_recall': array([0.95454545, 0.95454545, 0.95238095, 0.85714286, 0.9047619 ,\n",
       "        0.95238095, 0.9047619 , 0.95238095, 0.95238095, 0.95238095]),\n",
       " 'train_recall': array([0.98421053, 0.97368421, 0.98429319, 0.98429319, 0.98429319,\n",
       "        0.98429319, 0.9895288 , 0.9895288 , 0.98429319, 0.98429319]),\n",
       " 'test_f1': array([0.95454545, 0.95454545, 0.97560976, 0.9       , 0.95      ,\n",
       "        0.95238095, 0.95      , 0.97560976, 0.97560976, 0.93023256]),\n",
       " 'train_f1': array([0.99204244, 0.98666667, 0.99208443, 0.99208443, 0.99208443,\n",
       "        0.99208443, 0.99473684, 0.99473684, 0.99208443, 0.99208443]),\n",
       " 'test_roc_auc': array([0.9974026 , 0.99480519, 1.        , 0.98148148, 0.99206349,\n",
       "        0.99603175, 0.97354497, 0.98941799, 0.9973545 , 0.99319728]),\n",
       " 'train_roc_auc': array([0.99959137, 0.99960771, 0.9996901 , 0.9996901 , 0.9996901 ,\n",
       "        0.999527  , 0.99998369, 0.99967379, 0.999527  , 0.99960977])}"
      ]
     },
     "execution_count": 58,
     "metadata": {},
     "output_type": "execute_result"
    }
   ],
   "source": [
    "#random_forest(x_train,x_test,y_train,y_test)\n",
    "random_forest(X,Y, 'gini', 5, 'sqrt', 500)"
   ]
  },
  {
   "cell_type": "markdown",
   "id": "c08c3355-9a95-429d-b37f-60f0671e17bf",
   "metadata": {},
   "source": [
    "#### DataSet 2 Training and Evaluation"
   ]
  },
  {
   "cell_type": "code",
   "execution_count": 73,
   "id": "5d82b7c9-d1ce-414b-9149-1e83d90bb3ea",
   "metadata": {},
   "outputs": [
    {
     "data": {
      "text/plain": [
       "{'fit_time': array([0.00575995, 0.00285816, 0.00230193, 0.00244284, 0.00205302,\n",
       "        0.00205112, 0.00199986, 0.00208735, 0.0018301 , 0.002074  ]),\n",
       " 'score_time': array([0.00480008, 0.00293493, 0.00246191, 0.002666  , 0.00200415,\n",
       "        0.00198197, 0.00200915, 0.00187182, 0.00185394, 0.00185585]),\n",
       " 'test_accuracy': array([0.74468085, 0.70212766, 0.80434783, 0.73913043, 0.67391304,\n",
       "        0.73913043, 0.80434783, 0.73913043, 0.67391304, 0.7173913 ]),\n",
       " 'train_accuracy': array([0.75180723, 0.74457831, 0.73798077, 0.74038462, 0.75240385,\n",
       "        0.76442308, 0.73798077, 0.74519231, 0.74759615, 0.74038462]),\n",
       " 'test_precision': array([0.6       , 0.58333333, 0.81818182, 0.625     , 0.54545455,\n",
       "        0.75      , 1.        , 0.64285714, 0.54545455, 0.63636364]),\n",
       " 'train_precision': array([0.68807339, 0.67272727, 0.66666667, 0.67307692, 0.69158879,\n",
       "        0.70909091, 0.65765766, 0.67592593, 0.67256637, 0.66071429]),\n",
       " 'test_recall': array([0.75  , 0.4375, 0.5625, 0.625 , 0.375 , 0.375 , 0.4375, 0.5625,\n",
       "        0.375 , 0.4375]),\n",
       " 'train_recall': array([0.52083333, 0.51388889, 0.48611111, 0.48611111, 0.51388889,\n",
       "        0.54166667, 0.50694444, 0.50694444, 0.52777778, 0.51388889]),\n",
       " 'test_f1': array([0.66666667, 0.5       , 0.66666667, 0.625     , 0.44444444,\n",
       "        0.5       , 0.60869565, 0.6       , 0.44444444, 0.51851852]),\n",
       " 'train_f1': array([0.59288538, 0.58267717, 0.562249  , 0.56451613, 0.58964143,\n",
       "        0.61417323, 0.57254902, 0.57936508, 0.59143969, 0.578125  ]),\n",
       " 'test_roc_auc': array([0.78629032, 0.83467742, 0.84791667, 0.81875   , 0.77291667,\n",
       "        0.74166667, 0.75      , 0.76041667, 0.69166667, 0.77083333]),\n",
       " 'train_roc_auc': array([0.7950492 , 0.78969352, 0.78691789, 0.79033905, 0.79603248,\n",
       "        0.80039828, 0.79738562, 0.79610907, 0.80256842, 0.79496017])}"
      ]
     },
     "execution_count": 73,
     "metadata": {},
     "output_type": "execute_result"
    }
   ],
   "source": [
    "warnings.filterwarnings('ignore')\n",
    "logistic_regression(X2,Y2,0.0599,1000)"
   ]
  },
  {
   "cell_type": "code",
   "execution_count": 74,
   "id": "b4135bba-805a-482d-895d-83f511990105",
   "metadata": {},
   "outputs": [
    {
     "data": {
      "text/plain": [
       "{'fit_time': array([0.00139475, 0.00122786, 0.00041485, 0.00039768, 0.00039601,\n",
       "        0.00035405, 0.00033498, 0.00032783, 0.00032687, 0.00032711]),\n",
       " 'score_time': array([0.01184797, 0.00440097, 0.00419402, 0.00375724, 0.00384593,\n",
       "        0.00365806, 0.00346303, 0.0034771 , 0.00342512, 0.00345993]),\n",
       " 'test_accuracy': array([0.70212766, 0.72340426, 0.7826087 , 0.73913043, 0.7173913 ,\n",
       "        0.67391304, 0.7173913 , 0.80434783, 0.69565217, 0.7173913 ]),\n",
       " 'train_accuracy': array([0.75421687, 0.75662651, 0.73076923, 0.75240385, 0.73798077,\n",
       "        0.75480769, 0.74759615, 0.73557692, 0.75721154, 0.75      ]),\n",
       " 'test_precision': array([0.57142857, 0.63636364, 0.875     , 0.64285714, 0.66666667,\n",
       "        0.66666667, 0.8       , 0.81818182, 0.625     , 0.66666667]),\n",
       " 'train_precision': array([0.76923077, 0.7654321 , 0.73529412, 0.75308642, 0.72727273,\n",
       "        0.72826087, 0.70967742, 0.68888889, 0.75294118, 0.75641026]),\n",
       " 'test_recall': array([0.5   , 0.4375, 0.4375, 0.5625, 0.375 , 0.125 , 0.25  , 0.5625,\n",
       "        0.3125, 0.375 ]),\n",
       " 'train_recall': array([0.41666667, 0.43055556, 0.34722222, 0.42361111, 0.38888889,\n",
       "        0.46527778, 0.45833333, 0.43055556, 0.44444444, 0.40972222]),\n",
       " 'test_f1': array([0.53333333, 0.51851852, 0.58333333, 0.6       , 0.48      ,\n",
       "        0.21052632, 0.38095238, 0.66666667, 0.41666667, 0.48      ]),\n",
       " 'train_f1': array([0.54054054, 0.55111111, 0.47169811, 0.54222222, 0.50678733,\n",
       "        0.56779661, 0.55696203, 0.52991453, 0.55895197, 0.53153153]),\n",
       " 'test_roc_auc': array([0.71270161, 0.75604839, 0.87395833, 0.80729167, 0.70104167,\n",
       "        0.77916667, 0.77291667, 0.746875  , 0.63333333, 0.75625   ]),\n",
       " 'train_roc_auc': array([0.79570264, 0.79698391, 0.77877349, 0.77918199, 0.7965431 ,\n",
       "        0.78824551, 0.78450521, 0.79022416, 0.80027063, 0.79347937])}"
      ]
     },
     "execution_count": 74,
     "metadata": {},
     "output_type": "execute_result"
    }
   ],
   "source": [
    "knn(X2,Y2,25) # 1 neighbor would give perfect accuracy for training set, overfitting"
   ]
  },
  {
   "cell_type": "code",
   "execution_count": 75,
   "id": "8cf572d5-9ea0-46b8-9529-659aaebb7e0e",
   "metadata": {},
   "outputs": [
    {
     "data": {
      "text/plain": [
       "{'fit_time': array([0.0088551 , 0.00265193, 0.00228691, 0.00222802, 0.00234175,\n",
       "        0.00247407, 0.00244212, 0.00210571, 0.00211716, 0.00245094]),\n",
       " 'score_time': array([0.00996184, 0.00390816, 0.00396609, 0.00354576, 0.00441408,\n",
       "        0.00447106, 0.00395179, 0.00350714, 0.00391197, 0.00371289]),\n",
       " 'test_accuracy': array([0.68085106, 0.72340426, 0.7173913 , 0.67391304, 0.63043478,\n",
       "        0.69565217, 0.73913043, 0.73913043, 0.67391304, 0.69565217]),\n",
       " 'train_accuracy': array([0.81204819, 0.79759036, 0.80288462, 0.79807692, 0.81009615,\n",
       "        0.81971154, 0.80528846, 0.80288462, 0.80048077, 0.79326923]),\n",
       " 'test_precision': array([0.52631579, 0.57894737, 0.6       , 0.53846154, 0.47058824,\n",
       "        0.66666667, 0.7       , 0.64285714, 0.53846154, 0.57142857]),\n",
       " 'train_precision': array([0.78448276, 0.69736842, 0.76271186, 0.80612245, 0.73049645,\n",
       "        0.83495146, 0.75609756, 0.73484848, 0.74796748, 0.75438596]),\n",
       " 'test_recall': array([0.625 , 0.6875, 0.5625, 0.4375, 0.5   , 0.25  , 0.4375, 0.5625,\n",
       "        0.4375, 0.5   ]),\n",
       " 'train_recall': array([0.63194444, 0.73611111, 0.625     , 0.54861111, 0.71527778,\n",
       "        0.59722222, 0.64583333, 0.67361111, 0.63888889, 0.59722222]),\n",
       " 'test_f1': array([0.57142857, 0.62857143, 0.58064516, 0.48275862, 0.48484848,\n",
       "        0.36363636, 0.53846154, 0.6       , 0.48275862, 0.53333333]),\n",
       " 'train_f1': array([0.7       , 0.71621622, 0.6870229 , 0.65289256, 0.72280702,\n",
       "        0.69635628, 0.69662921, 0.70289855, 0.68913858, 0.66666667]),\n",
       " 'test_roc_auc': array([0.69556452, 0.72076613, 0.71666667, 0.55520833, 0.61354167,\n",
       "        0.64479167, 0.71145833, 0.62604167, 0.6625    , 0.71145833]),\n",
       " 'train_roc_auc': array([0.83020705, 0.8400984 , 0.83452053, 0.83735447, 0.84323938,\n",
       "        0.83434181, 0.84700521, 0.83960121, 0.84932853, 0.8392693 ])}"
      ]
     },
     "execution_count": 75,
     "metadata": {},
     "output_type": "execute_result"
    }
   ],
   "source": [
    "decision_tree(X2,Y2, max_leaf_nodes=6, min_samples_split=2)"
   ]
  },
  {
   "cell_type": "code",
   "execution_count": 76,
   "id": "24f91431-8f21-4c37-aebd-367749465d13",
   "metadata": {},
   "outputs": [
    {
     "data": {
      "text/plain": [
       "{'fit_time': array([0.15509391, 0.152004  , 0.15908718, 0.10424972, 0.14359903,\n",
       "        0.11258721, 0.10091591, 0.10709119, 0.1480062 , 0.13645005]),\n",
       " 'score_time': array([0.00392914, 0.003824  , 0.00350475, 0.00379324, 0.00380588,\n",
       "        0.00346899, 0.00336099, 0.00334287, 0.00339389, 0.0038619 ]),\n",
       " 'test_accuracy': array([0.72340426, 0.74468085, 0.73913043, 0.76086957, 0.65217391,\n",
       "        0.7173913 , 0.76086957, 0.73913043, 0.67391304, 0.73913043]),\n",
       " 'train_accuracy': array([0.7373494 , 0.7373494 , 0.71634615, 0.74038462, 0.73076923,\n",
       "        0.73557692, 0.73076923, 0.73317308, 0.74519231, 0.73557692]),\n",
       " 'test_precision': array([0.57894737, 0.64285714, 0.61111111, 0.66666667, 0.5       ,\n",
       "        0.71428571, 0.72727273, 0.64285714, 0.54545455, 0.66666667]),\n",
       " 'train_precision': array([0.65217391, 0.64      , 0.60655738, 0.66071429, 0.63333333,\n",
       "        0.6440678 , 0.63559322, 0.63636364, 0.64179104, 0.63492063]),\n",
       " 'test_recall': array([0.6875, 0.5625, 0.6875, 0.625 , 0.375 , 0.3125, 0.5   , 0.5625,\n",
       "        0.375 , 0.5   ]),\n",
       " 'train_recall': array([0.52083333, 0.55555556, 0.51388889, 0.51388889, 0.52777778,\n",
       "        0.52777778, 0.52083333, 0.53472222, 0.59722222, 0.55555556]),\n",
       " 'test_f1': array([0.62857143, 0.6       , 0.64705882, 0.64516129, 0.42857143,\n",
       "        0.43478261, 0.59259259, 0.6       , 0.44444444, 0.57142857]),\n",
       " 'train_f1': array([0.57915058, 0.59479554, 0.55639098, 0.578125  , 0.57575758,\n",
       "        0.58015267, 0.57251908, 0.58113208, 0.61870504, 0.59259259]),\n",
       " 'test_roc_auc': array([0.78629032, 0.82459677, 0.82708333, 0.79375   , 0.7625    ,\n",
       "        0.72291667, 0.75208333, 0.78958333, 0.69583333, 0.7625    ]),\n",
       " 'train_roc_auc': array([0.79141041, 0.78915539, 0.78561581, 0.78753064, 0.79393893,\n",
       "        0.79866217, 0.79529208, 0.79383681, 0.79976001, 0.79416871])}"
      ]
     },
     "execution_count": 76,
     "metadata": {},
     "output_type": "execute_result"
    }
   ],
   "source": [
    "svm(X2,Y2,1, 'linear')"
   ]
  },
  {
   "cell_type": "code",
   "execution_count": 77,
   "id": "97a5cf78-ea33-4def-a244-9a90f53f0170",
   "metadata": {},
   "outputs": [
    {
     "data": {
      "text/plain": [
       "{'fit_time': array([0.08208704, 0.08234906, 0.08087993, 0.08074212, 0.08121991,\n",
       "        0.08113885, 0.08078623, 0.08097887, 0.08483791, 0.08103228]),\n",
       " 'score_time': array([0.01489592, 0.01481175, 0.01461101, 0.01456118, 0.01464701,\n",
       "        0.01461029, 0.01458669, 0.01459098, 0.01498699, 0.01459098]),\n",
       " 'test_accuracy': array([0.59574468, 0.63829787, 0.65217391, 0.63043478, 0.52173913,\n",
       "        0.67391304, 0.69565217, 0.65217391, 0.69565217, 0.67391304]),\n",
       " 'train_accuracy': array([0.85060241, 0.86506024, 0.85336538, 0.87740385, 0.86298077,\n",
       "        0.87740385, 0.85336538, 0.84615385, 0.87259615, 0.86538462]),\n",
       " 'test_precision': array([0.4       , 0.47619048, 0.5       , 0.47368421, 0.28571429,\n",
       "        0.55555556, 0.58333333, 0.5       , 0.58333333, 0.57142857]),\n",
       " 'train_precision': array([0.80597015, 0.86065574, 0.82170543, 0.88429752, 0.84251969,\n",
       "        0.83941606, 0.81203008, 0.78985507, 0.85826772, 0.83846154]),\n",
       " 'test_recall': array([0.375 , 0.625 , 0.4375, 0.5625, 0.25  , 0.3125, 0.4375, 0.375 ,\n",
       "        0.4375, 0.25  ]),\n",
       " 'train_recall': array([0.75      , 0.72916667, 0.73611111, 0.74305556, 0.74305556,\n",
       "        0.79861111, 0.75      , 0.75694444, 0.75694444, 0.75694444]),\n",
       " 'test_f1': array([0.38709677, 0.54054054, 0.46666667, 0.51428571, 0.26666667,\n",
       "        0.4       , 0.5       , 0.42857143, 0.5       , 0.34782609]),\n",
       " 'train_f1': array([0.77697842, 0.78947368, 0.77655678, 0.80754717, 0.7896679 ,\n",
       "        0.81850534, 0.77978339, 0.77304965, 0.80442804, 0.79562044]),\n",
       " 'test_roc_auc': array([0.67540323, 0.70766129, 0.72291667, 0.62916667, 0.58333333,\n",
       "        0.61666667, 0.72083333, 0.61041667, 0.675     , 0.69583333]),\n",
       " 'train_roc_auc': array([0.93888376, 0.94482882, 0.93905739, 0.94401042, 0.95805249,\n",
       "        0.95570364, 0.94089563, 0.94115094, 0.95141442, 0.94279769])}"
      ]
     },
     "execution_count": 77,
     "metadata": {},
     "output_type": "execute_result"
    }
   ],
   "source": [
    "#adaboost(x_train,x_test,y_train,y_test)\n",
    "adaboost(X2,Y2, 100)"
   ]
  },
  {
   "cell_type": "code",
   "execution_count": 78,
   "id": "55e037a6-509e-429c-8932-9899de0fe08e",
   "metadata": {},
   "outputs": [
    {
     "data": {
      "text/plain": [
       "{'fit_time': array([0.19807792, 0.16062307, 0.15977669, 0.15927386, 0.15919614,\n",
       "        0.15940094, 0.15931678, 0.15892196, 0.15923309, 0.15945911]),\n",
       " 'score_time': array([0.01954484, 0.01935315, 0.01900005, 0.0191021 , 0.01902986,\n",
       "        0.01900387, 0.01904631, 0.01900411, 0.01907706, 0.01906896]),\n",
       " 'test_accuracy': array([0.74468085, 0.68085106, 0.76086957, 0.73913043, 0.67391304,\n",
       "        0.69565217, 0.7173913 , 0.73913043, 0.7173913 , 0.7173913 ]),\n",
       " 'train_accuracy': array([0.82168675, 0.81445783, 0.80528846, 0.82451923, 0.82211538,\n",
       "        0.82692308, 0.8125    , 0.80769231, 0.82211538, 0.81730769]),\n",
       " 'test_precision': array([0.61111111, 0.55555556, 0.72727273, 0.625     , 0.57142857,\n",
       "        0.66666667, 0.66666667, 0.64285714, 0.71428571, 0.66666667]),\n",
       " 'train_precision': array([0.84313725, 0.82524272, 0.82474227, 0.85858586, 0.85714286,\n",
       "        0.84615385, 0.84375   , 0.81372549, 0.84313725, 0.84693878]),\n",
       " 'test_recall': array([0.6875, 0.3125, 0.5   , 0.625 , 0.25  , 0.25  , 0.375 , 0.5625,\n",
       "        0.3125, 0.375 ]),\n",
       " 'train_recall': array([0.59722222, 0.59027778, 0.55555556, 0.59027778, 0.58333333,\n",
       "        0.61111111, 0.5625    , 0.57638889, 0.59722222, 0.57638889]),\n",
       " 'test_f1': array([0.64705882, 0.4       , 0.59259259, 0.625     , 0.34782609,\n",
       "        0.36363636, 0.48      , 0.6       , 0.43478261, 0.48      ]),\n",
       " 'train_f1': array([0.69918699, 0.68825911, 0.66390041, 0.69958848, 0.69421488,\n",
       "        0.70967742, 0.675     , 0.67479675, 0.69918699, 0.68595041]),\n",
       " 'test_roc_auc': array([0.80241935, 0.76814516, 0.8375    , 0.80208333, 0.75416667,\n",
       "        0.70208333, 0.71041667, 0.68958333, 0.68125   , 0.7625    ]),\n",
       " 'train_roc_auc': array([0.90387966, 0.89483395, 0.89192708, 0.90785846, 0.89846303,\n",
       "        0.90451389, 0.90305862, 0.90300756, 0.90563725, 0.90571385])}"
      ]
     },
     "execution_count": 78,
     "metadata": {},
     "output_type": "execute_result"
    }
   ],
   "source": [
    "#random_forest(x_train,x_test,y_train,y_test)\n",
    "random_forest(X2,Y2, 'entropy', 4, 'auto', 200)"
   ]
  },
  {
   "cell_type": "code",
   "execution_count": null,
   "id": "4dc6bb6f-51ae-4244-bb33-6a1a690f8c17",
   "metadata": {},
   "outputs": [],
   "source": []
  }
 ],
 "metadata": {
  "kernelspec": {
   "display_name": "Python 3 (ipykernel)",
   "language": "python",
   "name": "python3"
  },
  "language_info": {
   "codemirror_mode": {
    "name": "ipython",
    "version": 3
   },
   "file_extension": ".py",
   "mimetype": "text/x-python",
   "name": "python",
   "nbconvert_exporter": "python",
   "pygments_lexer": "ipython3",
   "version": "3.9.12"
  }
 },
 "nbformat": 4,
 "nbformat_minor": 5
}
