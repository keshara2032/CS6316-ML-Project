{
 "cells": [
  {
   "cell_type": "code",
   "execution_count": 2,
   "id": "b69705b0",
   "metadata": {},
   "outputs": [],
   "source": [
    "# install dependencies\n",
    "import sys\n",
    "# !{sys.executable} -m pip install pandas\n",
    "# !{sys.executable} -m pip install seaborn"
   ]
  },
  {
   "cell_type": "code",
   "execution_count": 3,
   "id": "caf1934d",
   "metadata": {},
   "outputs": [],
   "source": [
    "# import dependencies\n",
    "import numpy as np\n",
    "import pandas as pd\n",
    "\n",
    "from sklearn.model_selection import train_test_split\n",
    "from sklearn.linear_model import LogisticRegression\n",
    "from sklearn import preprocessing\n",
    "from sklearn import metrics\n",
    "from sklearn.pipeline import make_pipeline\n",
    "from sklearn.preprocessing import StandardScaler\n",
    "from sklearn.neighbors import KNeighborsClassifier\n",
    "from sklearn import tree\n",
    "from sklearn.svm import SVC\n",
    "from sklearn.datasets import load_iris\n",
    "from sklearn.preprocessing import LabelEncoder\n",
    "\n",
    "import seaborn as sns\n",
    "import matplotlib.pyplot as plt\n",
    "\n",
    "from sklearn.ensemble import AdaBoostClassifier\n",
    "from sklearn.ensemble import RandomForestClassifier\n",
    "from sklearn.metrics import make_scorer\n",
    "from sklearn.model_selection import cross_validate\n",
    "\n",
    "from IPython.display import display\n",
    "from collections import Counter\n",
    "\n",
    "import warnings"
   ]
  },
  {
   "cell_type": "markdown",
   "id": "3886cde5-d03d-4a59-9ee1-c0c2e49db4c5",
   "metadata": {},
   "source": [
    "#### Exploratory Data Analysis"
   ]
  },
  {
   "cell_type": "code",
   "execution_count": 4,
   "id": "f921582c",
   "metadata": {},
   "outputs": [],
   "source": [
    "##### data loading and feature extraction\n",
    "\n",
    "dataset_1_path = './datasets/project3_dataset1.txt'\n",
    "dataset_1 = pd.read_csv(dataset_1_path,sep='\\t',header=None)\n",
    "num_columns = len(dataset_1.columns)\n",
    "num_features = num_columns - 1\n",
    "dataset_1.columns=[\"F\"+str(i) for i in range(1, num_columns + 1)]\n",
    "label_column = \"F{0}\".format(num_columns)\n",
    "dataset_1_features = dataset_1.loc[:, dataset_1.columns != label_column]\n",
    "dataset_1_label = dataset_1.loc[:, dataset_1.columns == label_column]\n",
    "\n",
    "\n",
    "\n",
    "dataset_2_path = './datasets/project3_dataset2.txt'\n",
    "# load the CSV file as a dataframe\n",
    "dataset_2 = pd.read_csv(dataset_2_path,sep='\\t',header=None)\n",
    "num_columns = len(dataset_2.columns)\n",
    "num_features = num_columns - 1\n",
    "dataset_2.columns=[\"F\"+str(i) for i in range(1, num_columns + 1)]\n",
    "label_column = \"F{0}\".format(num_columns)\n",
    "custom_encoding = {'Present':1, 'Absent':0}\n",
    "dataset_2[\"F5\"] = dataset_2[\"F5\"].map(custom_encoding)\n",
    "dataset_2_features = dataset_2.loc[:, dataset_2.columns != label_column]\n",
    "dataset_2_label = dataset_2.loc[:, dataset_2.columns == label_column]\n"
   ]
  },
  {
   "cell_type": "code",
   "execution_count": 16,
   "id": "8c68d804-607f-46a3-903b-acec827937ec",
   "metadata": {},
   "outputs": [],
   "source": [
    "X, Y = dataset_1_features, dataset_1_label"
   ]
  },
  {
   "cell_type": "code",
   "execution_count": 17,
   "id": "57496a0f-4743-4eb5-af0b-6062b50dc969",
   "metadata": {},
   "outputs": [],
   "source": [
    "X2, Y2 = dataset_2_features, dataset_2_label"
   ]
  },
  {
   "cell_type": "code",
   "execution_count": 7,
   "id": "90cd7060-82fb-4c30-9492-031fe90375a7",
   "metadata": {},
   "outputs": [],
   "source": [
    "#X"
   ]
  },
  {
   "cell_type": "code",
   "execution_count": 8,
   "id": "f857d0a7-9066-46f2-8992-94cc09ff4675",
   "metadata": {},
   "outputs": [],
   "source": [
    "#Y"
   ]
  },
  {
   "cell_type": "code",
   "execution_count": 9,
   "id": "d840bb76-de34-4e71-a04c-d0d91dd9cd8b",
   "metadata": {},
   "outputs": [],
   "source": [
    "#dataset_1"
   ]
  },
  {
   "cell_type": "code",
   "execution_count": 10,
   "id": "ec68be61-2b7a-4193-a431-4e3ff5a1cf28",
   "metadata": {},
   "outputs": [],
   "source": [
    "#dataset_2"
   ]
  },
  {
   "cell_type": "code",
   "execution_count": 11,
   "id": "d2ad7462",
   "metadata": {},
   "outputs": [],
   "source": [
    "##### model implementation\n",
    "\n",
    "\n",
    "# test_split_ratio = 0.2\n",
    "# x_train, x_test, y_train, y_test = train_test_split(dataset_1_features, dataset_1_label, test_size=test_split_ratio, random_state=0)\n",
    "\n",
    "# # logistic regression with ridge regression\n",
    "# def logistic_regression(x_train,x_test,y_train,y_test,reg_param):\n",
    "#     # all parameters not specified are set to their defaults\n",
    "#     if(reg_param > 0):\n",
    "#         logisticRegr = LogisticRegression(penalty=\"l2\",C=reg_param)\n",
    "#     else:\n",
    "#         logisticRegr = LogisticRegression(penalty=\"none\") # default l2 reg param \n",
    "        \n",
    "#     scaler = preprocessing.StandardScaler().fit(x_train)\n",
    "#     x_scaled_train = scaler.transform(x_train)\n",
    "#     x_scaled_test = scaler.transform(x_test)\n",
    "\n",
    "#     logisticRegr.fit(x_scaled_train, y_train.values.ravel())\n",
    "\n",
    "#     prediction = logisticRegr.predict(x_scaled_test)\n",
    "\n",
    "#     cnf_matrix = metrics.confusion_matrix(y_test, prediction)\n",
    "#     score = logisticRegr.score(x_scaled_test, y_test)\n",
    "#     print(\"Logistic Regression\")\n",
    "#     print(\"Regularization Parameter : {0}\\t Accuracy: {1}\\n\".format(reg_param,score))\n",
    "\n",
    "    \n",
    "#     print(metrics.classification_report(prediction, y_test))\n",
    "\n",
    "#     plt.figure(figsize=(9,9))\n",
    "#     sns.heatmap(cnf_matrix, annot=True, fmt=\".3f\", linewidths=.5, square = True, cmap = 'Blues_r');\n",
    "#     plt.ylabel('Actual label');\n",
    "#     plt.xlabel('Predicted label');\n",
    "#     all_sample_title = 'Accuracy Score: {0}'.format(score)\n",
    "#     plt.title(all_sample_title, size = 15);\n",
    "    \n",
    "\n",
    "# KNN\n",
    "# def knn(x_train,x_test,y_train,y_test,k):\n",
    "    \n",
    "#     scaler = preprocessing.StandardScaler().fit(x_train)\n",
    "#     x_scaled_train = scaler.transform(x_train)\n",
    "#     x_scaled_test = scaler.transform(x_test)\n",
    "    \n",
    "#     knn = KNeighborsClassifier(n_neighbors=k)\n",
    "#     knn.fit(x_scaled_train, y_train.values.ravel())\n",
    "    \n",
    "#     prediction = knn.predict(x_scaled_test)\n",
    "#     # Use score method to get accuracy of model\n",
    "#     score = knn.score(x_scaled_test, y_test)\n",
    "#     print(\"K Nearest Neighbor\")\n",
    "#     print(\"No of Neighbors : {0}\\n\".format(k,score))\n",
    "#     print(metrics.classification_report(prediction, y_test))\n",
    "#     print(\"***\\n\")\n",
    "\n",
    "    \n",
    "# def decision_tree(x_train,x_test,y_train,y_test):\n",
    "#     clf = tree.DecisionTreeClassifier()\n",
    "#     clf = clf.fit(x_train, y_train)\n",
    "#     prediction = clf.predict(x_test)\n",
    "#     print(\"Decision Tree\")\n",
    "#     print(metrics.classification_report(prediction, y_test))\n",
    "\n",
    "\n",
    "# def adaboost(x_train,x_test,y_train,y_test):\n",
    "#     clf = AdaBoostClassifier(n_estimators=100, random_state=0)\n",
    "#     clf = clf.fit(x_train, y_train.values.ravel())\n",
    "#     prediction = clf.predict(x_test)\n",
    "#     print(\"AdaBoost\")\n",
    "#     print(metrics.classification_report(prediction, y_test))\n",
    "    \n",
    "    \n",
    "# def svm(x_train,x_test,y_train,y_test,reg_param):\n",
    "#     clf = SVC(C=1/reg_param)\n",
    "#     clf = clf.fit(x_train, y_train.values.ravel())\n",
    "#     prediction = clf.predict(x_test)\n",
    "#     print(\"Support Vector Machine - SVM\")\n",
    "#     print(metrics.classification_report(prediction, y_test))"
   ]
  },
  {
   "cell_type": "markdown",
   "id": "d7ee2ebf-da9b-44e1-81e9-bffa0ee1961f",
   "metadata": {},
   "source": [
    "#### Model Definitions"
   ]
  },
  {
   "cell_type": "code",
   "execution_count": 78,
   "id": "428965ff-8e04-4e58-a833-7cc93d4c4912",
   "metadata": {},
   "outputs": [],
   "source": [
    "def svm(X,Y,reg_param):\n",
    "    clf = SVC(C=reg_param)\n",
    "    cv_results = cross_validate(clf, X,Y.values.ravel(), cv=10, scoring=('accuracy', 'precision', 'recall', 'f1','roc_auc'), return_train_score=True)\n",
    "    mean_metrics(cv_results)\n",
    "    return cv_results"
   ]
  },
  {
   "cell_type": "code",
   "execution_count": 7,
   "id": "bde61c69",
   "metadata": {},
   "outputs": [],
   "source": [
    "def decision_tree(X,y):\n",
    "    clf = tree.DecisionTreeClassifier()\n",
    "    cv_results = cross_validate(clf, X,y, cv=10, scoring=('accuracy', 'precision', 'recall', 'f1','roc_auc'), return_train_score=True)\n",
    "    mean_metrics(cv_results)\n",
    "    return cv_results"
   ]
  },
  {
   "cell_type": "code",
   "execution_count": 8,
   "id": "85e024e8-16d8-4929-beb0-fa816351a36d",
   "metadata": {},
   "outputs": [],
   "source": [
    "def adaboost(X,Y):\n",
    "    clf = AdaBoostClassifier(n_estimators=100, random_state=0)\n",
    "    clf = clf.fit(X, Y.values.ravel())\n",
    "    cv_results = cross_validate(clf, X,Y.values.ravel(), cv=10, scoring=('accuracy', 'precision', 'recall', 'f1','roc_auc'), return_train_score=True)\n",
    "    mean_metrics(cv_results)\n",
    "    return cv_results"
   ]
  },
  {
   "cell_type": "code",
   "execution_count": 46,
   "id": "e1ddc69a-8cb6-43f4-95e0-70c334393adf",
   "metadata": {},
   "outputs": [],
   "source": [
    "def logistic_regression(X,y,reg_param, max_iter=100):\n",
    "    # all parameters not specified are set to their defaults\n",
    "    #reg_param is inverse strength\n",
    "    if(reg_param > 0):\n",
    "        logisticRegr = LogisticRegression(penalty=\"l2\",C=1/reg_param, max_iter=max_iter)\n",
    "    else:\n",
    "        logisticRegr = LogisticRegression(penalty=\"none\", max_iter=max_iter) # default l2 reg param \n",
    "        \n",
    "    scaler = preprocessing.StandardScaler().fit(X)\n",
    "    x_scaled = scaler.transform(X)\n",
    "    cv_results = cross_validate(logisticRegr, x_scaled,y.values.ravel(), cv=10, scoring=('accuracy', 'precision', 'recall', 'f1','roc_auc'), return_train_score=True)\n",
    "    mean_metrics(cv_results)\n",
    "    return cv_results"
   ]
  },
  {
   "cell_type": "code",
   "execution_count": 31,
   "id": "f7b26fb4-f141-438a-b452-188c5c903573",
   "metadata": {},
   "outputs": [],
   "source": [
    "# TODO: Can I use the sklearn implementation? Or should I use the decision tree classifier to create custom random forest methodß\n",
    "# def random_forest(X,y):\n",
    "#     clf = RandomForestClassifier(max_depth=2, random_state=0)\n",
    "#     cv_results = cross_validate(clf, X,y.values.ravel(), cv=10, scoring=('accuracy', 'precision', 'recall', 'f1','roc_auc'), return_train_score=True)\n",
    "#     mean_metrics(cv_results)\n",
    "#     return cv_results\n",
    "\n",
    "\n",
    "class RandomForest:\n",
    "    def __init__(self, n_trees=10):\n",
    "        self.n_trees = n_trees\n",
    "        self.trees = []\n",
    "\n",
    "    def fit(self, X, y):\n",
    "        self.trees = []\n",
    "        for _ in range(self.n_trees):\n",
    "            X_sample, y_sample = self.bagging_samples(X, y)\n",
    "            dec_tree = tree.DecisionTreeClassifier()\n",
    "            dec_tree.fit(X_sample, y_sample)\n",
    "            self.trees.append(dec_tree)\n",
    "\n",
    "    def bagging_samples(self, X, y):\n",
    "        n_samples = X.shape[0]\n",
    "        X_sampled = X.sample(frac=1, replace=True, random_state=1)\n",
    "        return X_sampled, y.loc[X_sampled.index]\n",
    "\n",
    "    def find_majority_vote(self, y):\n",
    "        counter = Counter(y)\n",
    "        most_common = counter.most_common(1)[0][0]\n",
    "        return most_common\n",
    "\n",
    "    def predict(self, X):\n",
    "        predictions = np.array([tree.predict(X) for tree in self.trees])\n",
    "        tree_preds = np.swapaxes(predictions, 0, 1)\n",
    "        predictions = np.array([self.find_majority_vote(pred) for pred in tree_preds])\n",
    "        return predictions\n",
    "    \n",
    "\n",
    "def random_forest(X, Y):\n",
    "    x_train, x_test, y_train, y_test = train_test_split(X, Y, test_size=0.2, random_state=1)\n",
    "\n",
    "    clf = RandomForest(n_trees=20)\n",
    "    clf.fit(x_train, y_train)\n",
    "    prediction = clf.predict(x_test)\n",
    "    print(metrics.classification_report(prediction, y_test))\n"
   ]
  },
  {
   "cell_type": "code",
   "execution_count": 13,
   "id": "afdc0fc5-aa46-4705-b7d1-aa63d5daad66",
   "metadata": {},
   "outputs": [],
   "source": [
    "def knn(X,y,k):\n",
    "    \n",
    "    scaler = preprocessing.StandardScaler().fit(X)\n",
    "    x_scaled = scaler.transform(X)\n",
    "    #x_scaled_test = scaler.transform(x_test)\n",
    "    \n",
    "    knn = KNeighborsClassifier(n_neighbors=k)\n",
    "    \n",
    "    cv_results = cross_validate(knn, x_scaled,y.values.ravel(), cv=10, scoring=('accuracy', 'precision', 'recall', 'f1','roc_auc'), return_train_score=True)\n",
    "    mean_metrics(cv_results)\n",
    "    return cv_results"
   ]
  },
  {
   "cell_type": "code",
   "execution_count": 38,
   "id": "9b404107-4282-40d8-b342-5f4e6a905e7e",
   "metadata": {},
   "outputs": [],
   "source": [
    "def mean_metrics(results):\n",
    "    # display(results)\n",
    "    print('\\nMean Test Accuracy: ',results['test_accuracy'].mean())\n",
    "    print('Mean Train Accuracy: ',results['train_accuracy'].mean())\n",
    "    print('Mean Test Precision: ',results['test_precision'].mean())\n",
    "    print('Mean Train Precision: ',results['train_precision'].mean())\n",
    "    print('Mean Test Recall: ',results['test_recall'].mean())\n",
    "    print('Mean Train Recall: ',results['train_recall'].mean())\n",
    "    print('Mean Test F1 Score: ',results['test_f1'].mean())\n",
    "    print('Mean Train F1 Score: ',results['train_f1'].mean())"
   ]
  },
  {
   "cell_type": "markdown",
   "id": "8dbe22aa-bc42-4236-a4cc-1e639bad817a",
   "metadata": {},
   "source": [
    "#### DataSet 1 Training and Evaluation"
   ]
  },
  {
   "cell_type": "code",
   "execution_count": 17,
   "id": "105057de-01bc-4669-afb4-3573ba04ca75",
   "metadata": {},
   "outputs": [],
   "source": [
    "# logistic regression\n",
    "#logistic_regression(x_train,x_test,y_train,y_test,10**-5) # weak regularization leads to overfitting\n",
    "#logistic_regression(x_train,x_test,y_train,y_test,5)  # right amount of regularization improves perfomance \n",
    "#logistic_regression(x_train,x_test,y_train,y_test,20)  # too strong regularization leads to underfitting"
   ]
  },
  {
   "cell_type": "code",
   "execution_count": 59,
   "id": "a4fb0446-1d6f-4c07-8a6d-36a468cf1deb",
   "metadata": {},
   "outputs": [
    {
     "name": "stdout",
     "output_type": "stream",
     "text": [
      "\n",
      "Mean Test Accuracy:  0.9542293233082708\n",
      "Mean Train Accuracy:  0.9968757614522417\n",
      "Mean Test Precision:  0.9360987201204592\n",
      "Mean Train Precision:  0.9968503428437294\n",
      "Mean Test Recall:  0.9432900432900434\n",
      "Mean Train Recall:  0.9947588867456598\n",
      "Mean Test F1 Score:  0.939110502722429\n",
      "Mean Train F1 Score:  0.9958004850697947\n"
     ]
    },
    {
     "data": {
      "text/plain": [
       "{'fit_time': array([0.03349876, 0.02950048, 0.02949739, 0.02749801, 0.03099799,\n",
       "        0.02949739, 0.03050017, 0.03199983, 0.03050017, 0.02849984]),\n",
       " 'score_time': array([0.00149989, 0.00149894, 0.00150204, 0.00150013, 0.00149965,\n",
       "        0.00149989, 0.00100136, 0.002002  , 0.00150204, 0.0010016 ]),\n",
       " 'test_accuracy': array([0.92982456, 0.96491228, 1.        , 0.94736842, 0.94736842,\n",
       "        0.94736842, 0.96491228, 0.96491228, 0.96491228, 0.91071429]),\n",
       " 'train_accuracy': array([1.        , 0.99414062, 0.9921875 , 1.        , 1.        ,\n",
       "        0.99414062, 1.        , 1.        , 0.9921875 , 0.99610136]),\n",
       " 'test_precision': array([0.875     , 0.95454545, 1.        , 0.95      , 0.95      ,\n",
       "        0.95      , 0.91304348, 0.95238095, 0.95238095, 0.86363636]),\n",
       " 'train_precision': array([1.        , 0.99470899, 0.9895288 , 1.        , 1.        ,\n",
       "        0.99473684, 1.        , 1.        , 0.9895288 , 1.        ]),\n",
       " 'test_recall': array([0.95454545, 0.95454545, 1.        , 0.9047619 , 0.9047619 ,\n",
       "        0.9047619 , 1.        , 0.95238095, 0.95238095, 0.9047619 ]),\n",
       " 'train_recall': array([1.        , 0.98947368, 0.9895288 , 1.        , 1.        ,\n",
       "        0.9895288 , 1.        , 1.        , 0.9895288 , 0.9895288 ]),\n",
       " 'test_f1': array([0.91304348, 0.95454545, 1.        , 0.92682927, 0.92682927,\n",
       "        0.92682927, 0.95454545, 0.95238095, 0.95238095, 0.88372093]),\n",
       " 'train_f1': array([1.        , 0.99208443, 0.9895288 , 1.        , 1.        ,\n",
       "        0.99212598, 1.        , 1.        , 0.9895288 , 0.99473684]),\n",
       " 'test_roc_auc': array([0.98961039, 0.9987013 , 1.        , 0.99206349, 0.92592593,\n",
       "        0.99603175, 0.99470899, 0.98677249, 0.97354497, 0.98639456]),\n",
       " 'train_roc_auc': array([1.        , 0.99952599, 0.99944545, 1.        , 1.        ,\n",
       "        0.99995107, 1.        , 1.        , 0.99965748, 0.99965855])}"
      ]
     },
     "execution_count": 59,
     "metadata": {},
     "output_type": "execute_result"
    }
   ],
   "source": [
    "warnings.filterwarnings('ignore')\n",
    "logistic_regression(X,Y,10**-5) # weak regularization leads to overfitting\n",
    "# Warning is due to overfitting: https://github.com/Berkeley-Data/hpt/issues/52#issuecomment-803665466\n",
    "# Suppressed warning according to: https://stackoverflow.com/questions/43162506/undefinedmetricwarning-f-score-is-ill-defined-and-being-set-to-0-0-in-labels-wi"
   ]
  },
  {
   "cell_type": "code",
   "execution_count": 19,
   "id": "4ccf4943-1560-4045-a873-1404acaad31f",
   "metadata": {},
   "outputs": [],
   "source": [
    "warnings.filterwarnings('always')"
   ]
  },
  {
   "cell_type": "code",
   "execution_count": 49,
   "id": "13eda9b7-ff83-4b56-84d8-693954ee2ac3",
   "metadata": {},
   "outputs": [
    {
     "name": "stdout",
     "output_type": "stream",
     "text": [
      "\n",
      "Mean Test Accuracy:  0.9824561403508772\n",
      "Mean Train Accuracy:  0.9882835343567251\n",
      "Mean Test Precision:  0.9813664596273292\n",
      "Mean Train Precision:  0.9925501052524751\n",
      "Mean Test Recall:  0.9714285714285713\n",
      "Mean Train Recall:  0.975888674565996\n",
      "Mean Test F1 Score:  0.9761749903213317\n",
      "Mean Train F1 Score:  0.9841421558039956\n"
     ]
    },
    {
     "data": {
      "text/plain": [
       "{'fit_time': array([0.01249862, 0.01149893, 0.01149964, 0.01050043, 0.0095005 ,\n",
       "        0.01100135, 0.01000023, 0.01049805, 0.00999928, 0.01049995]),\n",
       " 'score_time': array([0.00100088, 0.00149941, 0.00099993, 0.00100088, 0.00100088,\n",
       "        0.00100017, 0.00100088, 0.00150156, 0.00149965, 0.0015018 ]),\n",
       " 'test_accuracy': array([0.98245614, 1.        , 1.        , 0.98245614, 0.96491228,\n",
       "        0.98245614, 0.96491228, 0.98245614, 0.96491228, 1.        ]),\n",
       " 'train_accuracy': array([0.98828125, 0.98632812, 0.98632812, 0.9921875 , 0.98632812,\n",
       "        0.99023438, 0.98828125, 0.98828125, 0.98828125, 0.98830409]),\n",
       " 'test_precision': array([0.95652174, 1.        , 1.        , 1.        , 0.95238095,\n",
       "        1.        , 0.95238095, 1.        , 0.95238095, 1.        ]),\n",
       " 'train_precision': array([0.99462366, 0.98930481, 0.9893617 , 1.        , 0.99462366,\n",
       "        0.99468085, 0.98941799, 0.98941799, 0.98941799, 0.99465241]),\n",
       " 'test_recall': array([1.        , 1.        , 1.        , 0.95238095, 0.95238095,\n",
       "        0.95238095, 0.95238095, 0.95238095, 0.95238095, 1.        ]),\n",
       " 'train_recall': array([0.97368421, 0.97368421, 0.97382199, 0.97905759, 0.96858639,\n",
       "        0.97905759, 0.97905759, 0.97905759, 0.97905759, 0.97382199]),\n",
       " 'test_f1': array([0.97777778, 1.        , 1.        , 0.97560976, 0.95238095,\n",
       "        0.97560976, 0.95238095, 0.97560976, 0.95238095, 1.        ]),\n",
       " 'train_f1': array([0.98404255, 0.98143236, 0.98153034, 0.98941799, 0.98143236,\n",
       "        0.98680739, 0.98421053, 0.98421053, 0.98421053, 0.98412698]),\n",
       " 'test_roc_auc': array([0.9987013 , 1.        , 1.        , 0.99338624, 0.99206349,\n",
       "        0.99470899, 0.99603175, 0.97883598, 0.99603175, 1.        ]),\n",
       " 'train_roc_auc': array([0.99740111, 0.99717228, 0.99681949, 0.99756977, 0.99756977,\n",
       "        0.99758608, 0.9976187 , 0.99895614, 0.99722725, 0.99726838])}"
      ]
     },
     "execution_count": 49,
     "metadata": {},
     "output_type": "execute_result"
    }
   ],
   "source": [
    "logistic_regression(X,Y,1)  # right amount of regularization improves perfomance "
   ]
  },
  {
   "cell_type": "code",
   "execution_count": 50,
   "id": "1291487d-8f7d-4b5b-b846-2289cfc4925b",
   "metadata": {},
   "outputs": [
    {
     "name": "stdout",
     "output_type": "stream",
     "text": [
      "\n",
      "Mean Test Accuracy:  0.6274122807017544\n",
      "Mean Train Accuracy:  0.6274164686890839\n",
      "Mean Test Precision:  0.0\n",
      "Mean Train Precision:  0.0\n",
      "Mean Test Recall:  0.0\n",
      "Mean Train Recall:  0.0\n",
      "Mean Test F1 Score:  0.0\n",
      "Mean Train F1 Score:  0.0\n"
     ]
    },
    {
     "data": {
      "text/plain": [
       "{'fit_time': array([0.00599694, 0.00400019, 0.00459456, 0.0049994 , 0.00399804,\n",
       "        0.00450063, 0.00449944, 0.004498  , 0.00399899, 0.00399923]),\n",
       " 'score_time': array([0.00149846, 0.00149846, 0.00150156, 0.00100064, 0.00100112,\n",
       "        0.00099945, 0.00100064, 0.00100136, 0.00150108, 0.00099993]),\n",
       " 'test_accuracy': array([0.61403509, 0.61403509, 0.63157895, 0.63157895, 0.63157895,\n",
       "        0.63157895, 0.63157895, 0.63157895, 0.63157895, 0.625     ]),\n",
       " 'train_accuracy': array([0.62890625, 0.62890625, 0.62695312, 0.62695312, 0.62695312,\n",
       "        0.62695312, 0.62695312, 0.62695312, 0.62695312, 0.62768031]),\n",
       " 'test_precision': array([0., 0., 0., 0., 0., 0., 0., 0., 0., 0.]),\n",
       " 'train_precision': array([0., 0., 0., 0., 0., 0., 0., 0., 0., 0.]),\n",
       " 'test_recall': array([0., 0., 0., 0., 0., 0., 0., 0., 0., 0.]),\n",
       " 'train_recall': array([0., 0., 0., 0., 0., 0., 0., 0., 0., 0.]),\n",
       " 'test_f1': array([0., 0., 0., 0., 0., 0., 0., 0., 0., 0.]),\n",
       " 'train_f1': array([0., 0., 0., 0., 0., 0., 0., 0., 0., 0.]),\n",
       " 'test_roc_auc': array([0.99220779, 0.98311688, 0.99206349, 0.97619048, 0.99338624,\n",
       "        0.99603175, 0.96825397, 0.96428571, 0.98015873, 0.98639456]),\n",
       " 'train_roc_auc': array([0.9829356 , 0.98355672, 0.98276003, 0.98355923, 0.98215655,\n",
       "        0.98067231, 0.98352661, 0.98422795, 0.98315147, 0.9832038 ])}"
      ]
     },
     "execution_count": 50,
     "metadata": {},
     "output_type": "execute_result"
    }
   ],
   "source": [
    "logistic_regression(X,Y,10**5, max_iter=300)  # too strong regularization leads to underfitting\n",
    "# Rishabh - I had to increase max_iter because the model wasn't converging earlier\n",
    "# https://stackoverflow.com/questions/62658215/convergencewarning-lbfgs-failed-to-converge-status-1-stop-total-no-of-iter\n",
    "# TODO: Should we increase max_iter for all cases?"
   ]
  },
  {
   "cell_type": "code",
   "execution_count": 22,
   "id": "c67abf4a-6fae-4e47-946b-86da4e9e77e9",
   "metadata": {},
   "outputs": [],
   "source": [
    "# KNN classification\n",
    "# knn(x_train,x_test,y_train,y_test,1) # 1 neighbor would give perfect accuracy for training set, overfitting\n",
    "# knn(x_train,x_test,y_train,y_test,3) # 5 neighbors seems to generalize well\n",
    "# knn(x_train,x_test,y_train,y_test,100) # 100 neighbors will lead to underfitting"
   ]
  },
  {
   "cell_type": "code",
   "execution_count": 65,
   "id": "c802df16-e64b-4aa9-bedb-4b61374c5538",
   "metadata": {},
   "outputs": [
    {
     "name": "stdout",
     "output_type": "stream",
     "text": [
      "\n",
      "Mean Test Accuracy:  0.9472744360902257\n",
      "Mean Train Accuracy:  1.0\n",
      "Mean Test Precision:  0.9449264713166314\n",
      "Mean Train Precision:  1.0\n",
      "Mean Test Recall:  0.9147186147186147\n",
      "Mean Train Recall:  1.0\n",
      "Mean Test F1 Score:  0.9271241613470768\n",
      "Mean Train F1 Score:  1.0\n"
     ]
    },
    {
     "data": {
      "text/plain": [
       "{'fit_time': array([0.        , 0.00049996, 0.        , 0.00049996, 0.00049758,\n",
       "        0.        , 0.        , 0.        , 0.00049949, 0.00050044]),\n",
       " 'score_time': array([0.0674994 , 0.01400018, 0.01400137, 0.01399994, 0.01449966,\n",
       "        0.01399899, 0.01449943, 0.01499963, 0.01450038, 0.01500034]),\n",
       " 'test_accuracy': array([0.96491228, 0.94736842, 0.98245614, 0.92982456, 0.92982456,\n",
       "        0.94736842, 0.9122807 , 0.96491228, 0.94736842, 0.94642857]),\n",
       " 'train_accuracy': array([1., 1., 1., 1., 1., 1., 1., 1., 1., 1.]),\n",
       " 'test_precision': array([0.95454545, 0.91304348, 0.95454545, 0.94736842, 0.9047619 ,\n",
       "        0.95      , 1.        , 1.        , 0.95      , 0.875     ]),\n",
       " 'train_precision': array([1., 1., 1., 1., 1., 1., 1., 1., 1., 1.]),\n",
       " 'test_recall': array([0.95454545, 0.95454545, 1.        , 0.85714286, 0.9047619 ,\n",
       "        0.9047619 , 0.76190476, 0.9047619 , 0.9047619 , 1.        ]),\n",
       " 'train_recall': array([1., 1., 1., 1., 1., 1., 1., 1., 1., 1.]),\n",
       " 'test_f1': array([0.95454545, 0.93333333, 0.97674419, 0.9       , 0.9047619 ,\n",
       "        0.92682927, 0.86486486, 0.95      , 0.92682927, 0.93333333]),\n",
       " 'train_f1': array([1., 1., 1., 1., 1., 1., 1., 1., 1., 1.]),\n",
       " 'test_roc_auc': array([0.96298701, 0.9487013 , 0.98611111, 0.91468254, 0.92460317,\n",
       "        0.93849206, 0.88095238, 0.95238095, 0.93849206, 0.95714286]),\n",
       " 'train_roc_auc': array([1., 1., 1., 1., 1., 1., 1., 1., 1., 1.])}"
      ]
     },
     "execution_count": 65,
     "metadata": {},
     "output_type": "execute_result"
    }
   ],
   "source": [
    "knn(X,Y,1) # 1 neighbor would give perfect accuracy for training set, overfitting"
   ]
  },
  {
   "cell_type": "code",
   "execution_count": 66,
   "id": "2a8969b9-e4fc-45bc-86f4-cd9289285f7e",
   "metadata": {},
   "outputs": [
    {
     "name": "stdout",
     "output_type": "stream",
     "text": [
      "\n",
      "Mean Test Accuracy:  0.9648809523809524\n",
      "Mean Train Accuracy:  0.9785198129873294\n",
      "Mean Test Precision:  0.9772727272727273\n",
      "Mean Train Precision:  0.9934273114519853\n",
      "Mean Test Recall:  0.9290043290043289\n",
      "Mean Train Recall:  0.9486332322953983\n",
      "Mean Test F1 Score:  0.9507761786434503\n",
      "Mean Train F1 Score:  0.9705000337380628\n"
     ]
    },
    {
     "data": {
      "text/plain": [
       "{'fit_time': array([0.        , 0.        , 0.        , 0.        , 0.        ,\n",
       "        0.        , 0.        , 0.00049996, 0.00050044, 0.        ]),\n",
       " 'score_time': array([0.01899886, 0.01550055, 0.01549983, 0.01550102, 0.01550102,\n",
       "        0.01500154, 0.01450014, 0.01400089, 0.01549983, 0.01599836]),\n",
       " 'test_accuracy': array([0.96491228, 0.96491228, 0.94736842, 0.9122807 , 0.96491228,\n",
       "        0.98245614, 0.98245614, 0.96491228, 0.98245614, 0.98214286]),\n",
       " 'train_accuracy': array([0.98046875, 0.97460938, 0.98046875, 0.97460938, 0.98046875,\n",
       "        0.9765625 , 0.97851562, 0.97851562, 0.98242188, 0.9785575 ]),\n",
       " 'test_precision': array([0.95454545, 0.95454545, 0.90909091, 1.        , 1.        ,\n",
       "        1.        , 1.        , 1.        , 1.        , 0.95454545]),\n",
       " 'train_precision': array([0.99450549, 0.99441341, 0.99453552, 0.98901099, 0.99453552,\n",
       "        0.98907104, 0.98913043, 0.99450549, 0.99456522, 1.        ]),\n",
       " 'test_recall': array([0.95454545, 0.95454545, 0.95238095, 0.76190476, 0.9047619 ,\n",
       "        0.95238095, 0.95238095, 0.9047619 , 0.95238095, 1.        ]),\n",
       " 'train_recall': array([0.95263158, 0.93684211, 0.95287958, 0.94240838, 0.95287958,\n",
       "        0.94764398, 0.95287958, 0.94764398, 0.95811518, 0.94240838]),\n",
       " 'test_f1': array([0.95454545, 0.95454545, 0.93023256, 0.86486486, 0.95      ,\n",
       "        0.97560976, 0.97560976, 0.95      , 0.97560976, 0.97674419]),\n",
       " 'train_f1': array([0.97311828, 0.96476965, 0.97326203, 0.96514745, 0.97326203,\n",
       "        0.96791444, 0.97066667, 0.97050938, 0.976     , 0.9703504 ]),\n",
       " 'test_roc_auc': array([0.97532468, 0.9961039 , 0.99537037, 0.96164021, 0.9973545 ,\n",
       "        0.99867725, 0.97420635, 0.97354497, 0.99933862, 0.99795918]),\n",
       " 'train_roc_auc': array([0.99822654, 0.99861883, 0.99787966, 0.99765132, 0.9983282 ,\n",
       "        0.99840159, 0.99814878, 0.99799383, 0.99765132, 0.99828461])}"
      ]
     },
     "execution_count": 66,
     "metadata": {},
     "output_type": "execute_result"
    }
   ],
   "source": [
    "knn(X,Y,5) # 5 neighbors seems to generalize well"
   ]
  },
  {
   "cell_type": "code",
   "execution_count": 67,
   "id": "9558c52f-44bd-441a-b009-5c842eef69bd",
   "metadata": {},
   "outputs": [
    {
     "name": "stdout",
     "output_type": "stream",
     "text": [
      "\n",
      "Mean Test Accuracy:  0.9332393483709274\n",
      "Mean Train Accuracy:  0.9345821150097466\n",
      "Mean Test Precision:  0.9891812865497076\n",
      "Mean Train Precision:  0.9924830536914842\n",
      "Mean Test Recall:  0.8298701298701298\n",
      "Mean Train Recall:  0.8307026729126481\n",
      "Mean Test F1 Score:  0.9003975021429527\n",
      "Mean Train F1 Score:  0.9043818963514262\n"
     ]
    },
    {
     "data": {
      "text/plain": [
       "{'fit_time': array([0.        , 0.00049973, 0.        , 0.0005002 , 0.        ,\n",
       "        0.        , 0.0005002 , 0.        , 0.        , 0.        ]),\n",
       " 'score_time': array([0.02199793, 0.01750135, 0.01650071, 0.01550007, 0.01700068,\n",
       "        0.01599956, 0.01749969, 0.01700044, 0.01750016, 0.01749992]),\n",
       " 'test_accuracy': array([0.96491228, 0.9122807 , 0.94736842, 0.85964912, 0.96491228,\n",
       "        0.94736842, 0.9122807 , 0.94736842, 0.92982456, 0.94642857]),\n",
       " 'train_accuracy': array([0.92773438, 0.93359375, 0.93359375, 0.94335938, 0.93164062,\n",
       "        0.93359375, 0.9375    , 0.9296875 , 0.93554688, 0.93957115]),\n",
       " 'test_precision': array([1.        , 0.94736842, 1.        , 1.        , 1.        ,\n",
       "        1.        , 0.94444444, 1.        , 1.        , 1.        ]),\n",
       " 'train_precision': array([0.98726115, 0.99367089, 0.99371069, 0.99390244, 0.9875    ,\n",
       "        0.98757764, 1.        , 0.99363057, 0.99375   , 0.99382716]),\n",
       " 'test_recall': array([0.90909091, 0.81818182, 0.85714286, 0.61904762, 0.9047619 ,\n",
       "        0.85714286, 0.80952381, 0.85714286, 0.80952381, 0.85714286]),\n",
       " 'train_recall': array([0.81578947, 0.82631579, 0.82722513, 0.85340314, 0.82722513,\n",
       "        0.83246073, 0.83246073, 0.81675393, 0.83246073, 0.84293194]),\n",
       " 'test_f1': array([0.95238095, 0.87804878, 0.92307692, 0.76470588, 0.95      ,\n",
       "        0.92307692, 0.87179487, 0.92307692, 0.89473684, 0.92307692]),\n",
       " 'train_f1': array([0.89337176, 0.90229885, 0.90285714, 0.91830986, 0.9002849 ,\n",
       "        0.90340909, 0.90857143, 0.89655172, 0.90598291, 0.9121813 ]),\n",
       " 'test_roc_auc': array([0.99415584, 0.98896104, 0.99074074, 0.98809524, 0.99470899,\n",
       "        0.9973545 , 0.98280423, 0.97949735, 0.98941799, 0.9877551 ]),\n",
       " 'train_roc_auc': array([0.98983328, 0.98966165, 0.98932492, 0.98964297, 0.98931676,\n",
       "        0.98861542, 0.99014859, 0.99094779, 0.99043402, 0.99020357])}"
      ]
     },
     "execution_count": 67,
     "metadata": {},
     "output_type": "execute_result"
    }
   ],
   "source": [
    "knn(X,Y,100) # 100 neighbors will lead to underfitting"
   ]
  },
  {
   "cell_type": "code",
   "execution_count": 72,
   "id": "03b70dda-6ae7-4645-bb0c-af50bcdce772",
   "metadata": {},
   "outputs": [
    {
     "name": "stdout",
     "output_type": "stream",
     "text": [
      "\n",
      "Mean Test Accuracy:  0.9208646616541353\n",
      "Mean Train Accuracy:  1.0\n",
      "Mean Test Precision:  0.9045174447977651\n",
      "Mean Train Precision:  1.0\n",
      "Mean Test Recall:  0.8867965367965368\n",
      "Mean Train Recall:  1.0\n",
      "Mean Test F1 Score:  0.8920428557443033\n",
      "Mean Train F1 Score:  1.0\n"
     ]
    },
    {
     "data": {
      "text/plain": [
       "{'fit_time': array([0.00550222, 0.00549793, 0.00549984, 0.00449991, 0.00500035,\n",
       "        0.00399971, 0.00399995, 0.00449991, 0.00500011, 0.00400019]),\n",
       " 'score_time': array([0.0034976 , 0.00299978, 0.00300002, 0.00299954, 0.0025003 ,\n",
       "        0.00300026, 0.00250053, 0.00250006, 0.00300002, 0.00250006]),\n",
       " 'test_accuracy': array([0.94736842, 0.85964912, 0.98245614, 0.85964912, 0.92982456,\n",
       "        0.9122807 , 0.92982456, 0.94736842, 0.94736842, 0.89285714]),\n",
       " 'train_accuracy': array([1., 1., 1., 1., 1., 1., 1., 1., 1., 1.]),\n",
       " 'test_precision': array([0.95238095, 0.79166667, 0.95454545, 0.93333333, 0.94736842,\n",
       "        0.83333333, 0.94736842, 0.95      , 0.90909091, 0.82608696]),\n",
       " 'train_precision': array([1., 1., 1., 1., 1., 1., 1., 1., 1., 1.]),\n",
       " 'test_recall': array([0.90909091, 0.86363636, 1.        , 0.66666667, 0.85714286,\n",
       "        0.95238095, 0.85714286, 0.9047619 , 0.95238095, 0.9047619 ]),\n",
       " 'train_recall': array([1., 1., 1., 1., 1., 1., 1., 1., 1., 1.]),\n",
       " 'test_f1': array([0.93023256, 0.82608696, 0.97674419, 0.77777778, 0.9       ,\n",
       "        0.88888889, 0.9       , 0.92682927, 0.93023256, 0.86363636]),\n",
       " 'train_f1': array([1., 1., 1., 1., 1., 1., 1., 1., 1., 1.]),\n",
       " 'test_roc_auc': array([0.94025974, 0.86038961, 0.98611111, 0.81944444, 0.91468254,\n",
       "        0.92063492, 0.91468254, 0.93849206, 0.9484127 , 0.8952381 ]),\n",
       " 'train_roc_auc': array([1., 1., 1., 1., 1., 1., 1., 1., 1., 1.])}"
      ]
     },
     "execution_count": 72,
     "metadata": {},
     "output_type": "execute_result"
    }
   ],
   "source": [
    "# decision tree\n",
    "#decision_tree(x_train,x_test,y_train,y_test)\n",
    "decision_tree(X,Y)"
   ]
  },
  {
   "cell_type": "code",
   "execution_count": 79,
   "id": "0bec85ad-2120-4df3-8f14-7c81fd7ee64b",
   "metadata": {},
   "outputs": [
    {
     "name": "stdout",
     "output_type": "stream",
     "text": [
      "\n",
      "Mean Test Accuracy:  0.6274122807017544\n",
      "Mean Train Accuracy:  0.6274164686890839\n",
      "Mean Test Precision:  0.0\n",
      "Mean Train Precision:  0.0\n",
      "Mean Test Recall:  0.0\n",
      "Mean Train Recall:  0.0\n",
      "Mean Test F1 Score:  0.0\n",
      "Mean Train F1 Score:  0.0\n"
     ]
    },
    {
     "data": {
      "text/plain": [
       "{'fit_time': array([0.00599933, 0.00499988, 0.00499988, 0.00500035, 0.00449991,\n",
       "        0.00450039, 0.00550032, 0.00500059, 0.00499988, 0.00449991]),\n",
       " 'score_time': array([0.00550079, 0.00450015, 0.00450015, 0.00399971, 0.00450015,\n",
       "        0.0044992 , 0.00449991, 0.00449967, 0.00399995, 0.00399995]),\n",
       " 'test_accuracy': array([0.61403509, 0.61403509, 0.63157895, 0.63157895, 0.63157895,\n",
       "        0.63157895, 0.63157895, 0.63157895, 0.63157895, 0.625     ]),\n",
       " 'train_accuracy': array([0.62890625, 0.62890625, 0.62695312, 0.62695312, 0.62695312,\n",
       "        0.62695312, 0.62695312, 0.62695312, 0.62695312, 0.62768031]),\n",
       " 'test_precision': array([0., 0., 0., 0., 0., 0., 0., 0., 0., 0.]),\n",
       " 'train_precision': array([0., 0., 0., 0., 0., 0., 0., 0., 0., 0.]),\n",
       " 'test_recall': array([0., 0., 0., 0., 0., 0., 0., 0., 0., 0.]),\n",
       " 'train_recall': array([0., 0., 0., 0., 0., 0., 0., 0., 0., 0.]),\n",
       " 'test_f1': array([0., 0., 0., 0., 0., 0., 0., 0., 0., 0.]),\n",
       " 'train_f1': array([0., 0., 0., 0., 0., 0., 0., 0., 0., 0.]),\n",
       " 'test_roc_auc': array([0.97532468, 0.93636364, 0.96957672, 0.96428571, 0.96031746,\n",
       "        0.96957672, 0.96825397, 0.95899471, 0.98280423, 0.97006803]),\n",
       " 'train_roc_auc': array([0.96304348, 0.96719516, 0.96384009, 0.96481871, 0.9649655 ,\n",
       "        0.96299196, 0.9636933 , 0.96516123, 0.96217644, 0.96383857])}"
      ]
     },
     "execution_count": 79,
     "metadata": {},
     "output_type": "execute_result"
    }
   ],
   "source": [
    "svm(X,Y,0.001)"
   ]
  },
  {
   "cell_type": "code",
   "execution_count": 93,
   "id": "c0ffc9ea-9eb2-4c60-b318-6d84e7b7b123",
   "metadata": {},
   "outputs": [
    {
     "name": "stdout",
     "output_type": "stream",
     "text": [
      "\n",
      "Mean Test Accuracy:  0.9280075187969924\n",
      "Mean Train Accuracy:  0.9765663072612085\n",
      "Mean Test Precision:  0.8992205734768663\n",
      "Mean Train Precision:  0.9741098443893849\n",
      "Mean Test Recall:  0.90995670995671\n",
      "Mean Train Recall:  0.9627886470101957\n",
      "Mean Test F1 Score:  0.9033794758213363\n",
      "Mean Train F1 Score:  0.9683582599160342\n"
     ]
    },
    {
     "data": {
      "text/plain": [
       "{'fit_time': array([1.49899983, 3.13100004, 3.29899859, 1.78350019, 2.0909996 ,\n",
       "        5.88304949, 1.72449899, 0.94649768, 2.51899695, 0.58299637]),\n",
       " 'score_time': array([0.00299907, 0.00250006, 0.00300121, 0.00299978, 0.00250053,\n",
       "        0.00250173, 0.00250292, 0.00300312, 0.00300288, 0.00300002]),\n",
       " 'test_accuracy': array([0.92982456, 0.9122807 , 0.96491228, 0.85964912, 0.92982456,\n",
       "        0.98245614, 0.87719298, 0.92982456, 0.92982456, 0.96428571]),\n",
       " 'train_accuracy': array([0.97265625, 0.9765625 , 0.96484375, 0.97851562, 0.9765625 ,\n",
       "        0.98046875, 0.98046875, 0.9765625 , 0.97851562, 0.98050682]),\n",
       " 'test_precision': array([0.84615385, 0.86956522, 0.95238095, 0.84210526, 0.9047619 ,\n",
       "        0.95454545, 0.81818182, 0.94736842, 0.9047619 , 0.95238095]),\n",
       " 'train_precision': array([0.97311828, 0.96354167, 0.96256684, 0.98387097, 0.96373057,\n",
       "        0.96891192, 0.98918919, 0.97860963, 0.9787234 , 0.97883598]),\n",
       " 'test_recall': array([1.        , 0.90909091, 0.95238095, 0.76190476, 0.9047619 ,\n",
       "        1.        , 0.85714286, 0.85714286, 0.9047619 , 0.95238095]),\n",
       " 'train_recall': array([0.95263158, 0.97368421, 0.94240838, 0.95811518, 0.97382199,\n",
       "        0.97905759, 0.95811518, 0.95811518, 0.96335079, 0.96858639]),\n",
       " 'test_f1': array([0.91666667, 0.88888889, 0.95238095, 0.8       , 0.9047619 ,\n",
       "        0.97674419, 0.8372093 , 0.9       , 0.9047619 , 0.95238095]),\n",
       " 'train_f1': array([0.96276596, 0.96858639, 0.95238095, 0.97082228, 0.96875   ,\n",
       "        0.97395833, 0.97340426, 0.96825397, 0.97097625, 0.97368421]),\n",
       " 'test_roc_auc': array([0.98961039, 0.98831169, 0.98941799, 0.85582011, 0.98677249,\n",
       "        0.9973545 , 0.95502646, 0.97619048, 0.94312169, 0.98639456]),\n",
       " 'train_roc_auc': array([0.99766263, 0.99818568, 0.99668901, 0.99771656, 0.9980917 ,\n",
       "        0.99861363, 0.99877673, 0.9979449 , 0.99851576, 0.99882931])}"
      ]
     },
     "execution_count": 93,
     "metadata": {},
     "output_type": "execute_result"
    }
   ],
   "source": [
    "svm(X,Y,10**8)"
   ]
  },
  {
   "cell_type": "code",
   "execution_count": 96,
   "id": "2597839e-cc7a-4a3b-8b5d-4b3e595b2634",
   "metadata": {},
   "outputs": [
    {
     "name": "stdout",
     "output_type": "stream",
     "text": [
      "\n",
      "Mean Test Accuracy:  0.9542606516290727\n",
      "Mean Train Accuracy:  0.9582103587962963\n",
      "Mean Test Precision:  0.9568831168831169\n",
      "Mean Train Precision:  0.9573939295986861\n",
      "Mean Test Recall:  0.91991341991342\n",
      "Mean Train Recall:  0.9292449710664095\n",
      "Mean Test F1 Score:  0.937492872980678\n",
      "Mean Train F1 Score:  0.9430953836563052\n"
     ]
    },
    {
     "data": {
      "text/plain": [
       "{'fit_time': array([0.00349951, 0.00349689, 0.00349784, 0.00349951, 0.00299859,\n",
       "        0.00349855, 0.00349784, 0.00299835, 0.00349998, 0.00299954]),\n",
       " 'score_time': array([0.00349951, 0.00300193, 0.00250149, 0.00250053, 0.00250053,\n",
       "        0.00200129, 0.00300193, 0.00250173, 0.00199842, 0.0025003 ]),\n",
       " 'test_accuracy': array([0.96491228, 0.94736842, 0.98245614, 0.9122807 , 0.92982456,\n",
       "        0.96491228, 0.92982456, 0.98245614, 1.        , 0.92857143]),\n",
       " 'train_accuracy': array([0.95898438, 0.95703125, 0.953125  , 0.96484375, 0.96289062,\n",
       "        0.95507812, 0.95703125, 0.95507812, 0.95507812, 0.96296296]),\n",
       " 'test_precision': array([0.95454545, 1.        , 1.        , 0.9       , 0.9047619 ,\n",
       "        1.        , 0.9047619 , 1.        , 1.        , 0.9047619 ]),\n",
       " 'train_precision': array([0.96174863, 0.9516129 , 0.94652406, 0.9726776 , 0.9673913 ,\n",
       "        0.9516129 , 0.95187166, 0.95652174, 0.9516129 , 0.96236559]),\n",
       " 'test_recall': array([0.95454545, 0.86363636, 0.95238095, 0.85714286, 0.9047619 ,\n",
       "        0.9047619 , 0.9047619 , 0.95238095, 1.        , 0.9047619 ]),\n",
       " 'train_recall': array([0.92631579, 0.93157895, 0.92670157, 0.93193717, 0.93193717,\n",
       "        0.92670157, 0.93193717, 0.92146597, 0.92670157, 0.93717277]),\n",
       " 'test_f1': array([0.95454545, 0.92682927, 0.97560976, 0.87804878, 0.9047619 ,\n",
       "        0.95      , 0.9047619 , 0.97560976, 1.        , 0.9047619 ]),\n",
       " 'train_f1': array([0.94369973, 0.94148936, 0.93650794, 0.95187166, 0.94933333,\n",
       "        0.93899204, 0.94179894, 0.93866667, 0.93899204, 0.94960212]),\n",
       " 'test_roc_auc': array([0.98961039, 0.9961039 , 0.97751323, 0.98544974, 0.98544974,\n",
       "        0.99867725, 0.98412698, 0.98412698, 1.        , 0.99319728]),\n",
       " 'train_roc_auc': array([0.99217064, 0.9923341 , 0.9919101 , 0.99342695, 0.9930192 ,\n",
       "        0.99189379, 0.9936553 , 0.9933454 , 0.99173068, 0.99240675])}"
      ]
     },
     "execution_count": 96,
     "metadata": {},
     "output_type": "execute_result"
    }
   ],
   "source": [
    "# svm\n",
    "#svm(x_train,x_test,y_train,y_test,0.001)\n",
    "svm(X,Y,10**3)"
   ]
  },
  {
   "cell_type": "code",
   "execution_count": 28,
   "id": "5f49aa41-50e0-4c8d-9e53-e7d9e2c56e45",
   "metadata": {},
   "outputs": [
    {
     "name": "stdout",
     "output_type": "stream",
     "text": [
      "\n",
      "Mean Test Accuracy:  0.9701441102756891\n",
      "Mean Train Accuracy:  1.0\n",
      "Mean Test Precision:  0.975909090909091\n",
      "Mean Train Precision:  1.0\n",
      "Mean Test Recall:  0.9432900432900434\n",
      "Mean Train Recall:  1.0\n",
      "Mean Test Recall:  0.9432900432900434\n",
      "Mean Train Recall:  1.0\n",
      "Mean Test F1 Score:  0.9590960655906772\n",
      "Mean Train F1 Score:  1.0\n"
     ]
    },
    {
     "data": {
      "text/plain": [
       "{'fit_time': array([0.17351604, 0.16961932, 0.17472911, 0.17262197, 0.17156291,\n",
       "        0.17011189, 0.17003584, 0.16971111, 0.17230821, 0.17515922]),\n",
       " 'score_time': array([0.01658797, 0.01640201, 0.01688766, 0.01641989, 0.01587915,\n",
       "        0.01586509, 0.0161202 , 0.01645279, 0.01596808, 0.01698184]),\n",
       " 'test_accuracy': array([0.96491228, 0.98245614, 0.98245614, 0.94736842, 0.98245614,\n",
       "        0.98245614, 0.98245614, 0.94736842, 0.94736842, 0.98214286]),\n",
       " 'train_accuracy': array([1., 1., 1., 1., 1., 1., 1., 1., 1., 1.]),\n",
       " 'test_precision': array([0.95454545, 1.        , 1.        , 0.95      , 1.        ,\n",
       "        1.        , 1.        , 0.95      , 0.95      , 0.95454545]),\n",
       " 'train_precision': array([1., 1., 1., 1., 1., 1., 1., 1., 1., 1.]),\n",
       " 'test_recall': array([0.95454545, 0.95454545, 0.95238095, 0.9047619 , 0.95238095,\n",
       "        0.95238095, 0.95238095, 0.9047619 , 0.9047619 , 1.        ]),\n",
       " 'train_recall': array([1., 1., 1., 1., 1., 1., 1., 1., 1., 1.]),\n",
       " 'test_f1': array([0.95454545, 0.97674419, 0.97560976, 0.92682927, 0.97560976,\n",
       "        0.97560976, 0.97560976, 0.92682927, 0.92682927, 0.97674419]),\n",
       " 'train_f1': array([1., 1., 1., 1., 1., 1., 1., 1., 1., 1.]),\n",
       " 'test_roc_auc': array([0.9987013 , 1.        , 1.        , 0.96164021, 0.98941799,\n",
       "        0.99206349, 0.99470899, 0.98015873, 0.98677249, 0.99727891]),\n",
       " 'train_roc_auc': array([1., 1., 1., 1., 1., 1., 1., 1., 1., 1.])}"
      ]
     },
     "execution_count": 28,
     "metadata": {},
     "output_type": "execute_result"
    }
   ],
   "source": [
    "#adaboost(x_train,x_test,y_train,y_test)\n",
    "adaboost(X,Y)"
   ]
  },
  {
   "cell_type": "code",
   "execution_count": 33,
   "id": "f5ce4d35-85b4-4f17-97ca-72d6bb21bb15",
   "metadata": {},
   "outputs": [
    {
     "name": "stdout",
     "output_type": "stream",
     "text": [
      "              precision    recall  f1-score   support\n",
      "\n",
      "           0       0.97      0.94      0.96        72\n",
      "           1       0.91      0.95      0.93        42\n",
      "\n",
      "    accuracy                           0.95       114\n",
      "   macro avg       0.94      0.95      0.94       114\n",
      "weighted avg       0.95      0.95      0.95       114\n",
      "\n"
     ]
    }
   ],
   "source": [
    "random_forest(X,Y)"
   ]
  },
  {
   "cell_type": "markdown",
   "id": "c08c3355-9a95-429d-b37f-60f0671e17bf",
   "metadata": {},
   "source": [
    "#### DataSet 2 Training and Evaluation"
   ]
  },
  {
   "cell_type": "code",
   "execution_count": 63,
   "id": "6f08d099-f1c1-42e3-9166-39fcdae9ae99",
   "metadata": {},
   "outputs": [
    {
     "name": "stdout",
     "output_type": "stream",
     "text": [
      "\n",
      "Mean Test Accuracy:  0.7164199814986124\n",
      "Mean Train Accuracy:  0.7385750695088045\n",
      "Mean Test Precision:  0.6121477052359404\n",
      "Mean Train Precision:  0.6503517801019639\n",
      "Mean Test Recall:  0.50625\n",
      "Mean Train Recall:  0.5305555555555554\n",
      "Mean Test F1 Score:  0.5459650840857738\n",
      "Mean Train F1 Score:  0.5842935584350059\n"
     ]
    },
    {
     "data": {
      "text/plain": [
       "{'fit_time': array([0.00150347, 0.00150084, 0.00149918, 0.00150204, 0.00099921,\n",
       "        0.00150061, 0.00099945, 0.00150013, 0.00049996, 0.00100017]),\n",
       " 'score_time': array([0.00299621, 0.00199986, 0.00200033, 0.00199795, 0.00099969,\n",
       "        0.0010004 , 0.00100017, 0.00099993, 0.00150228, 0.00150037]),\n",
       " 'test_accuracy': array([0.74468085, 0.70212766, 0.7173913 , 0.73913043, 0.63043478,\n",
       "        0.7173913 , 0.7826087 , 0.73913043, 0.67391304, 0.7173913 ]),\n",
       " 'train_accuracy': array([0.73493976, 0.7373494 , 0.73798077, 0.73798077, 0.74038462,\n",
       "        0.75240385, 0.72836538, 0.74038462, 0.73798077, 0.73798077]),\n",
       " 'test_precision': array([0.6       , 0.58333333, 0.58823529, 0.625     , 0.45454545,\n",
       "        0.66666667, 0.8       , 0.64285714, 0.54545455, 0.61538462]),\n",
       " 'train_precision': array([0.6440678 , 0.6446281 , 0.64957265, 0.65486726, 0.65789474,\n",
       "        0.67521368, 0.6302521 , 0.65517241, 0.64227642, 0.64957265]),\n",
       " 'test_recall': array([0.75  , 0.4375, 0.625 , 0.625 , 0.3125, 0.375 , 0.5   , 0.5625,\n",
       "        0.375 , 0.5   ]),\n",
       " 'train_recall': array([0.52777778, 0.54166667, 0.52777778, 0.51388889, 0.52083333,\n",
       "        0.54861111, 0.52083333, 0.52777778, 0.54861111, 0.52777778]),\n",
       " 'test_f1': array([0.66666667, 0.5       , 0.60606061, 0.625     , 0.37037037,\n",
       "        0.48      , 0.61538462, 0.6       , 0.44444444, 0.55172414]),\n",
       " 'train_f1': array([0.58015267, 0.58867925, 0.58237548, 0.57587549, 0.58139535,\n",
       "        0.60536398, 0.57034221, 0.58461538, 0.5917603 , 0.58237548]),\n",
       " 'test_roc_auc': array([0.78830645, 0.83870968, 0.83125   , 0.81666667, 0.775     ,\n",
       "        0.74166667, 0.74375   , 0.76666667, 0.68958333, 0.75833333]),\n",
       " 'train_roc_auc': array([0.79527983, 0.7904879 , 0.78852635, 0.79113051, 0.79746221,\n",
       "        0.80042382, 0.79858558, 0.79674734, 0.80307904, 0.79587929])}"
      ]
     },
     "execution_count": 63,
     "metadata": {},
     "output_type": "execute_result"
    }
   ],
   "source": [
    "#import warnings\n",
    "warnings.filterwarnings('ignore')\n",
    "logistic_regression(X2,Y2,10**-5) # weak regularization leads to overfitting\n",
    "# Warning is due to overfitting: https://github.com/Berkeley-Data/hpt/issues/52#issuecomment-803665466\n",
    "# Suppressed warning according to: https://stackoverflow.com/questions/43162506/undefinedmetricwarning-f-score-is-ill-defined-and-being-set-to-0-0-in-labels-wi"
   ]
  },
  {
   "cell_type": "code",
   "execution_count": 19,
   "id": "06275906-4215-4a65-baaa-d2f2857b0ea5",
   "metadata": {},
   "outputs": [],
   "source": [
    "warnings.filterwarnings('always')"
   ]
  },
  {
   "cell_type": "code",
   "execution_count": 62,
   "id": "df6cea36-5c4e-46a4-ad1c-b2b7c70dfdb6",
   "metadata": {},
   "outputs": [
    {
     "name": "stdout",
     "output_type": "stream",
     "text": [
      "\n",
      "Mean Test Accuracy:  0.7251156336725254\n",
      "Mean Train Accuracy:  0.7417018072289157\n",
      "Mean Test Precision:  0.6466341991341992\n",
      "Mean Train Precision:  0.659546809905361\n",
      "Mean Test Recall:  0.49375\n",
      "Mean Train Recall:  0.5256944444444444\n",
      "Mean Test F1 Score:  0.5473101956741508\n",
      "Mean Train F1 Score:  0.5849796570218101\n"
     ]
    },
    {
     "data": {
      "text/plain": [
       "{'fit_time': array([0.00099897, 0.00100136, 0.00099993, 0.00100112, 0.0005002 ,\n",
       "        0.00049996, 0.00100136, 0.00100017, 0.00099993, 0.00099993]),\n",
       " 'score_time': array([0.00150061, 0.0014987 , 0.00150013, 0.00149846, 0.00149989,\n",
       "        0.00150061, 0.00149989, 0.00099945, 0.00100017, 0.00099993]),\n",
       " 'test_accuracy': array([0.74468085, 0.70212766, 0.76086957, 0.73913043, 0.65217391,\n",
       "        0.7173913 , 0.80434783, 0.73913043, 0.67391304, 0.7173913 ]),\n",
       " 'train_accuracy': array([0.7373494 , 0.74216867, 0.73317308, 0.74278846, 0.74519231,\n",
       "        0.75721154, 0.73076923, 0.73798077, 0.75      , 0.74038462]),\n",
       " 'test_precision': array([0.6       , 0.58333333, 0.66666667, 0.625     , 0.5       ,\n",
       "        0.66666667, 1.        , 0.64285714, 0.54545455, 0.63636364]),\n",
       " 'train_precision': array([0.64957265, 0.65811966, 0.64864865, 0.66666667, 0.66964286,\n",
       "        0.69026549, 0.63559322, 0.64957265, 0.66949153, 0.65789474]),\n",
       " 'test_recall': array([0.75  , 0.4375, 0.625 , 0.625 , 0.3125, 0.375 , 0.4375, 0.5625,\n",
       "        0.375 , 0.4375]),\n",
       " 'train_recall': array([0.52777778, 0.53472222, 0.5       , 0.51388889, 0.52083333,\n",
       "        0.54166667, 0.52083333, 0.52777778, 0.54861111, 0.52083333]),\n",
       " 'test_f1': array([0.66666667, 0.5       , 0.64516129, 0.625     , 0.38461538,\n",
       "        0.48      , 0.60869565, 0.6       , 0.44444444, 0.51851852]),\n",
       " 'train_f1': array([0.58237548, 0.59003831, 0.56470588, 0.58039216, 0.5859375 ,\n",
       "        0.60700389, 0.57251908, 0.58237548, 0.60305344, 0.58139535]),\n",
       " 'test_roc_auc': array([0.78830645, 0.84072581, 0.8375    , 0.81875   , 0.77291667,\n",
       "        0.74166667, 0.74791667, 0.76458333, 0.6875    , 0.76875   ]),\n",
       " 'train_roc_auc': array([0.7954592 , 0.79030853, 0.78786254, 0.79102839, 0.7972835 ,\n",
       "        0.80067913, 0.7983558 , 0.79674734, 0.80315564, 0.79618566])}"
      ]
     },
     "execution_count": 62,
     "metadata": {},
     "output_type": "execute_result"
    }
   ],
   "source": [
    "logistic_regression(X2,Y2,5)  # right amount of regularization improves perfomance "
   ]
  },
  {
   "cell_type": "code",
   "execution_count": 64,
   "id": "703b45fe-797f-4398-b43e-46201463c740",
   "metadata": {},
   "outputs": [
    {
     "name": "stdout",
     "output_type": "stream",
     "text": [
      "\n",
      "Mean Test Accuracy:  0.653654024051804\n",
      "Mean Train Accuracy:  0.6536793327154774\n",
      "Mean Test Precision:  0.0\n",
      "Mean Train Precision:  0.0\n",
      "Mean Test Recall:  0.0\n",
      "Mean Train Recall:  0.0\n",
      "Mean Test F1 Score:  0.0\n",
      "Mean Train F1 Score:  0.0\n"
     ]
    },
    {
     "data": {
      "text/plain": [
       "{'fit_time': array([0.0009985 , 0.00099993, 0.00100017, 0.00100017, 0.00150061,\n",
       "        0.00099993, 0.00099874, 0.00099993, 0.00099993, 0.00100017]),\n",
       " 'score_time': array([0.00200152, 0.00149941, 0.00100136, 0.00099921, 0.00149989,\n",
       "        0.00150013, 0.00099969, 0.0015018 , 0.00150013, 0.00099993]),\n",
       " 'test_accuracy': array([0.65957447, 0.65957447, 0.65217391, 0.65217391, 0.65217391,\n",
       "        0.65217391, 0.65217391, 0.65217391, 0.65217391, 0.65217391]),\n",
       " 'train_accuracy': array([0.65301205, 0.65301205, 0.65384615, 0.65384615, 0.65384615,\n",
       "        0.65384615, 0.65384615, 0.65384615, 0.65384615, 0.65384615]),\n",
       " 'test_precision': array([0., 0., 0., 0., 0., 0., 0., 0., 0., 0.]),\n",
       " 'train_precision': array([0., 0., 0., 0., 0., 0., 0., 0., 0., 0.]),\n",
       " 'test_recall': array([0., 0., 0., 0., 0., 0., 0., 0., 0., 0.]),\n",
       " 'train_recall': array([0., 0., 0., 0., 0., 0., 0., 0., 0., 0.]),\n",
       " 'test_f1': array([0., 0., 0., 0., 0., 0., 0., 0., 0., 0.]),\n",
       " 'train_f1': array([0., 0., 0., 0., 0., 0., 0., 0., 0., 0.]),\n",
       " 'test_roc_auc': array([0.77822581, 0.82258065, 0.87708333, 0.79583333, 0.77708333,\n",
       "        0.70833333, 0.72916667, 0.71458333, 0.66666667, 0.73541667]),\n",
       " 'train_roc_auc': array([0.76737392, 0.76319701, 0.75860396, 0.76608456, 0.76723346,\n",
       "        0.77537786, 0.76940359, 0.77009293, 0.77611826, 0.77042484])}"
      ]
     },
     "execution_count": 64,
     "metadata": {},
     "output_type": "execute_result"
    }
   ],
   "source": [
    "logistic_regression(X2,Y2,10**5, max_iter=300)  # too strong regularization leads to underfitting\n",
    "# Rishabh - I had to increase max_iter because the model wasn't converging earlier\n",
    "# https://stackoverflow.com/questions/62658215/convergencewarning-lbfgs-failed-to-converge-status-1-stop-total-no-of-iter\n",
    "# TODO: Should we increase max_iter for all cases?"
   ]
  },
  {
   "cell_type": "code",
   "execution_count": 68,
   "id": "188e0906-b1f1-44d9-919e-52f47d7034b4",
   "metadata": {},
   "outputs": [
    {
     "name": "stdout",
     "output_type": "stream",
     "text": [
      "\n",
      "Mean Test Accuracy:  0.6601757631822387\n",
      "Mean Train Accuracy:  1.0\n",
      "Mean Test Precision:  0.5591113543319426\n",
      "Mean Train Precision:  1.0\n",
      "Mean Test Recall:  0.4375\n",
      "Mean Train Recall:  1.0\n",
      "Mean Test F1 Score:  0.4531702809357075\n",
      "Mean Train F1 Score:  1.0\n"
     ]
    },
    {
     "data": {
      "text/plain": [
       "{'fit_time': array([0.00049973, 0.        , 0.        , 0.00049996, 0.0005002 ,\n",
       "        0.00049996, 0.0005002 , 0.        , 0.00049973, 0.00049996]),\n",
       " 'score_time': array([0.0025003 , 0.0025003 , 0.00249982, 0.00199962, 0.0019989 ,\n",
       "        0.00200009, 0.00199962, 0.0025003 , 0.00199986, 0.00199986]),\n",
       " 'test_accuracy': array([0.61702128, 0.70212766, 0.69565217, 0.7173913 , 0.63043478,\n",
       "        0.60869565, 0.69565217, 0.69565217, 0.60869565, 0.63043478]),\n",
       " 'train_accuracy': array([1., 1., 1., 1., 1., 1., 1., 1., 1., 1.]),\n",
       " 'test_precision': array([0.45454545, 0.54545455, 0.625     , 0.61538462, 0.45454545,\n",
       "        0.4375    , 1.        , 0.57142857, 0.41666667, 0.47058824]),\n",
       " 'train_precision': array([1., 1., 1., 1., 1., 1., 1., 1., 1., 1.]),\n",
       " 'test_recall': array([0.625 , 0.75  , 0.3125, 0.5   , 0.3125, 0.4375, 0.125 , 0.5   ,\n",
       "        0.3125, 0.5   ]),\n",
       " 'train_recall': array([1., 1., 1., 1., 1., 1., 1., 1., 1., 1.]),\n",
       " 'test_f1': array([0.52631579, 0.63157895, 0.41666667, 0.55172414, 0.37037037,\n",
       "        0.4375    , 0.22222222, 0.53333333, 0.35714286, 0.48484848]),\n",
       " 'train_f1': array([1., 1., 1., 1., 1., 1., 1., 1., 1., 1.]),\n",
       " 'test_roc_auc': array([0.61895161, 0.71370968, 0.60625   , 0.66666667, 0.55625   ,\n",
       "        0.56875   , 0.5625    , 0.65      , 0.53958333, 0.6       ]),\n",
       " 'train_roc_auc': array([1., 1., 1., 1., 1., 1., 1., 1., 1., 1.])}"
      ]
     },
     "execution_count": 68,
     "metadata": {},
     "output_type": "execute_result"
    }
   ],
   "source": [
    "knn(X2,Y2,1) # 1 neighbor would give perfect accuracy for training set, overfitting"
   ]
  },
  {
   "cell_type": "code",
   "execution_count": 71,
   "id": "1b1b8d5c-e868-4d3d-8a50-47e8cc3bd914",
   "metadata": {},
   "outputs": [
    {
     "name": "stdout",
     "output_type": "stream",
     "text": [
      "\n",
      "Mean Test Accuracy:  0.6604070305272896\n",
      "Mean Train Accuracy:  0.7672034291010195\n",
      "Mean Test Precision:  0.5195991426873781\n",
      "Mean Train Precision:  0.7185349740483389\n",
      "Mean Test Recall:  0.375\n",
      "Mean Train Recall:  0.538888888888889\n",
      "Mean Test F1 Score:  0.4227584052584052\n",
      "Mean Train F1 Score:  0.6156671977944923\n"
     ]
    },
    {
     "data": {
      "text/plain": [
       "{'fit_time': array([0.00049996, 0.00049996, 0.00049877, 0.00050259, 0.00049925,\n",
       "        0.00049996, 0.        , 0.00050068, 0.        , 0.        ]),\n",
       " 'score_time': array([0.00300026, 0.00250053, 0.0025022 , 0.00249696, 0.00250196,\n",
       "        0.00199986, 0.00249767, 0.00199938, 0.00249887, 0.0025003 ]),\n",
       " 'test_accuracy': array([0.63829787, 0.57446809, 0.7173913 , 0.7173913 , 0.65217391,\n",
       "        0.65217391, 0.65217391, 0.67391304, 0.63043478, 0.69565217]),\n",
       " 'train_accuracy': array([0.78795181, 0.77831325, 0.75721154, 0.76442308, 0.75721154,\n",
       "        0.77644231, 0.77644231, 0.75240385, 0.75961538, 0.76201923]),\n",
       " 'test_precision': array([0.47619048, 0.375     , 0.66666667, 0.58823529, 0.5       ,\n",
       "        0.5       , 0.5       , 0.54545455, 0.44444444, 0.6       ]),\n",
       " 'train_precision': array([0.75925926, 0.73636364, 0.70093458, 0.7254902 , 0.70873786,\n",
       "        0.73831776, 0.71794872, 0.69158879, 0.69642857, 0.71028037]),\n",
       " 'test_recall': array([0.625, 0.375, 0.375, 0.625, 0.25 , 0.25 , 0.25 , 0.375, 0.25 ,\n",
       "        0.375]),\n",
       " 'train_recall': array([0.56944444, 0.5625    , 0.52083333, 0.51388889, 0.50694444,\n",
       "        0.54861111, 0.58333333, 0.51388889, 0.54166667, 0.52777778]),\n",
       " 'test_f1': array([0.54054054, 0.375     , 0.48      , 0.60606061, 0.33333333,\n",
       "        0.33333333, 0.33333333, 0.44444444, 0.32      , 0.46153846]),\n",
       " 'train_f1': array([0.65079365, 0.63779528, 0.59760956, 0.60162602, 0.59109312,\n",
       "        0.62948207, 0.64367816, 0.58964143, 0.609375  , 0.60557769]),\n",
       " 'test_roc_auc': array([0.68346774, 0.65725806, 0.76875   , 0.78125   , 0.559375  ,\n",
       "        0.67708333, 0.71041667, 0.66458333, 0.63645833, 0.6375    ]),\n",
       " 'train_roc_auc': array([0.85770295, 0.84541564, 0.82443576, 0.83246528, 0.84142667,\n",
       "        0.84650735, 0.84894557, 0.83598856, 0.83540135, 0.84746477])}"
      ]
     },
     "execution_count": 71,
     "metadata": {},
     "output_type": "execute_result"
    }
   ],
   "source": [
    "knn(X2,Y2,5) # 5 neighbors seems to generalize well"
   ]
  },
  {
   "cell_type": "code",
   "execution_count": 70,
   "id": "fd2f5b0d-a412-468c-96cb-602da71bf81d",
   "metadata": {},
   "outputs": [
    {
     "name": "stdout",
     "output_type": "stream",
     "text": [
      "\n",
      "Mean Test Accuracy:  0.6882516188714153\n",
      "Mean Train Accuracy:  0.7008196246524561\n",
      "Mean Test Precision:  0.7066666666666667\n",
      "Mean Train Precision:  0.8068912570101026\n",
      "Mean Test Recall:  0.15\n",
      "Mean Train Recall:  0.18194444444444446\n",
      "Mean Test F1 Score:  0.24217406260749913\n",
      "Mean Train F1 Score:  0.29385633503798536\n"
     ]
    },
    {
     "data": {
      "text/plain": [
       "{'fit_time': array([0.00049758, 0.00049925, 0.00049973, 0.00049973, 0.        ,\n",
       "        0.00049996, 0.00050068, 0.        , 0.0005002 , 0.00049925]),\n",
       " 'score_time': array([0.00450182, 0.00400066, 0.00300002, 0.00350165, 0.00350046,\n",
       "        0.00300026, 0.00349951, 0.00349998, 0.00349951, 0.00300002]),\n",
       " 'test_accuracy': array([0.68085106, 0.72340426, 0.7173913 , 0.67391304, 0.65217391,\n",
       "        0.63043478, 0.67391304, 0.69565217, 0.73913043, 0.69565217]),\n",
       " 'train_accuracy': array([0.71325301, 0.69638554, 0.67788462, 0.69951923, 0.70673077,\n",
       "        0.70673077, 0.70673077, 0.70913462, 0.69471154, 0.69711538]),\n",
       " 'test_precision': array([0.66666667, 0.8       , 1.        , 0.6       , 0.5       ,\n",
       "        0.        , 1.        , 0.75      , 1.        , 0.75      ]),\n",
       " 'train_precision': array([0.83783784, 0.71428571, 0.85714286, 0.80645161, 0.86666667,\n",
       "        0.78947368, 0.75      , 0.81081081, 0.81481481, 0.82142857]),\n",
       " 'test_recall': array([0.125 , 0.25  , 0.1875, 0.1875, 0.0625, 0.    , 0.0625, 0.1875,\n",
       "        0.25  , 0.1875]),\n",
       " 'train_recall': array([0.21527778, 0.20833333, 0.08333333, 0.17361111, 0.18055556,\n",
       "        0.20833333, 0.22916667, 0.20833333, 0.15277778, 0.15972222]),\n",
       " 'test_f1': array([0.21052632, 0.38095238, 0.31578947, 0.28571429, 0.11111111,\n",
       "        0.        , 0.11764706, 0.3       , 0.4       , 0.3       ]),\n",
       " 'train_f1': array([0.34254144, 0.32258065, 0.15189873, 0.28571429, 0.29885057,\n",
       "        0.32967033, 0.35106383, 0.33149171, 0.25730994, 0.26744186]),\n",
       " 'test_roc_auc': array([0.80947581, 0.82762097, 0.87916667, 0.8       , 0.7625    ,\n",
       "        0.71145833, 0.7625    , 0.715625  , 0.68125   , 0.74375   ]),\n",
       " 'train_roc_auc': array([0.77943061, 0.76982114, 0.76956955, 0.77357792, 0.78132659,\n",
       "        0.78285846, 0.78044577, 0.78007557, 0.78529667, 0.77985856])}"
      ]
     },
     "execution_count": 70,
     "metadata": {},
     "output_type": "execute_result"
    }
   ],
   "source": [
    "knn(X2,Y2,100) # 100 neighbors will lead to underfitting"
   ]
  },
  {
   "cell_type": "code",
   "execution_count": 73,
   "id": "dd4dc5b9-843c-4846-9e94-49212afd127a",
   "metadata": {},
   "outputs": [
    {
     "name": "stdout",
     "output_type": "stream",
     "text": [
      "\n",
      "Mean Test Accuracy:  0.6234042553191489\n",
      "Mean Train Accuracy:  1.0\n",
      "Mean Test Precision:  0.4682719241542771\n",
      "Mean Train Precision:  1.0\n",
      "Mean Test Recall:  0.45625\n",
      "Mean Train Recall:  1.0\n",
      "Mean Test F1 Score:  0.45985267952813585\n",
      "Mean Train F1 Score:  1.0\n"
     ]
    },
    {
     "data": {
      "text/plain": [
       "{'fit_time': array([0.00250244, 0.00200295, 0.0019989 , 0.00200033, 0.00249958,\n",
       "        0.00200081, 0.00199938, 0.00200009, 0.00200081, 0.00199938]),\n",
       " 'score_time': array([0.00249791, 0.00299621, 0.00249815, 0.0035007 , 0.00249982,\n",
       "        0.00249887, 0.00250006, 0.00249839, 0.0024991 , 0.00250006]),\n",
       " 'test_accuracy': array([0.57446809, 0.65957447, 0.63043478, 0.45652174, 0.60869565,\n",
       "        0.65217391, 0.67391304, 0.58695652, 0.73913043, 0.65217391]),\n",
       " 'train_accuracy': array([1., 1., 1., 1., 1., 1., 1., 1., 1., 1.]),\n",
       " 'test_precision': array([0.38888889, 0.5       , 0.47058824, 0.28571429, 0.44444444,\n",
       "        0.5       , 0.53846154, 0.41176471, 0.64285714, 0.5       ]),\n",
       " 'train_precision': array([1., 1., 1., 1., 1., 1., 1., 1., 1., 1.]),\n",
       " 'test_recall': array([0.4375, 0.4375, 0.5   , 0.375 , 0.5   , 0.4375, 0.4375, 0.4375,\n",
       "        0.5625, 0.4375]),\n",
       " 'train_recall': array([1., 1., 1., 1., 1., 1., 1., 1., 1., 1.]),\n",
       " 'test_f1': array([0.41176471, 0.46666667, 0.48484848, 0.32432432, 0.47058824,\n",
       "        0.46666667, 0.48275862, 0.42424242, 0.6       , 0.46666667]),\n",
       " 'train_f1': array([1., 1., 1., 1., 1., 1., 1., 1., 1., 1.]),\n",
       " 'test_roc_auc': array([0.54133065, 0.60584677, 0.6       , 0.4375    , 0.58333333,\n",
       "        0.60208333, 0.61875   , 0.55208333, 0.69791667, 0.60208333]),\n",
       " 'train_roc_auc': array([1., 1., 1., 1., 1., 1., 1., 1., 1., 1.])}"
      ]
     },
     "execution_count": 73,
     "metadata": {},
     "output_type": "execute_result"
    }
   ],
   "source": [
    "# decision tree\n",
    "#decision_tree(x_train,x_test,y_train,y_test)\n",
    "decision_tree(X2,Y2)"
   ]
  },
  {
   "cell_type": "code",
   "execution_count": 98,
   "id": "b8bd38e0-67a7-48bd-968b-75c3fde79b24",
   "metadata": {},
   "outputs": [
    {
     "name": "stdout",
     "output_type": "stream",
     "text": [
      "\n",
      "Mean Test Accuracy:  0.653654024051804\n",
      "Mean Train Accuracy:  0.6536793327154774\n",
      "Mean Test Precision:  0.0\n",
      "Mean Train Precision:  0.0\n",
      "Mean Test Recall:  0.0\n",
      "Mean Train Recall:  0.0\n",
      "Mean Test F1 Score:  0.0\n",
      "Mean Train F1 Score:  0.0\n"
     ]
    },
    {
     "data": {
      "text/plain": [
       "{'fit_time': array([0.00300169, 0.00299978, 0.00249934, 0.00249958, 0.00250006,\n",
       "        0.00250006, 0.00249982, 0.0025003 , 0.00199986, 0.00250101]),\n",
       " 'score_time': array([0.00349855, 0.00400019, 0.00300002, 0.00300002, 0.00300002,\n",
       "        0.00299978, 0.00300002, 0.00300002, 0.00300002, 0.00349855]),\n",
       " 'test_accuracy': array([0.65957447, 0.65957447, 0.65217391, 0.65217391, 0.65217391,\n",
       "        0.65217391, 0.65217391, 0.65217391, 0.65217391, 0.65217391]),\n",
       " 'train_accuracy': array([0.65301205, 0.65301205, 0.65384615, 0.65384615, 0.65384615,\n",
       "        0.65384615, 0.65384615, 0.65384615, 0.65384615, 0.65384615]),\n",
       " 'test_precision': array([0., 0., 0., 0., 0., 0., 0., 0., 0., 0.]),\n",
       " 'train_precision': array([0., 0., 0., 0., 0., 0., 0., 0., 0., 0.]),\n",
       " 'test_recall': array([0., 0., 0., 0., 0., 0., 0., 0., 0., 0.]),\n",
       " 'train_recall': array([0., 0., 0., 0., 0., 0., 0., 0., 0., 0.]),\n",
       " 'test_f1': array([0., 0., 0., 0., 0., 0., 0., 0., 0., 0.]),\n",
       " 'train_f1': array([0., 0., 0., 0., 0., 0., 0., 0., 0., 0.]),\n",
       " 'test_roc_auc': array([0.7983871 , 0.77419355, 0.76458333, 0.6875    , 0.63333333,\n",
       "        0.7125    , 0.71041667, 0.70208333, 0.65208333, 0.67916667]),\n",
       " 'train_roc_auc': array([0.74928249, 0.72506663, 0.71772876, 0.72712418, 0.72531148,\n",
       "        0.73442606, 0.729856  , 0.75566789, 0.73493668, 0.73442606])}"
      ]
     },
     "execution_count": 98,
     "metadata": {},
     "output_type": "execute_result"
    }
   ],
   "source": [
    "# svm\n",
    "#svm(x_train,x_test,y_train,y_test,0.001)\n",
    "svm(X2,Y2,0.001)"
   ]
  },
  {
   "cell_type": "code",
   "execution_count": 97,
   "id": "1a1351bf-50a1-4898-8f25-be96fddbee69",
   "metadata": {},
   "outputs": [
    {
     "name": "stdout",
     "output_type": "stream",
     "text": [
      "\n",
      "Mean Test Accuracy:  0.73159111933395\n",
      "Mean Train Accuracy:  0.7974976830398518\n",
      "Mean Test Precision:  0.6571106671106672\n",
      "Mean Train Precision:  0.7662656174496109\n",
      "Mean Test Recall:  0.48125\n",
      "Mean Train Recall:  0.5979166666666667\n",
      "Mean Test F1 Score:  0.5440935111632021\n",
      "Mean Train F1 Score:  0.6712727450676905\n"
     ]
    },
    {
     "data": {
      "text/plain": [
       "{'fit_time': array([0.0150001 , 0.01399827, 0.01599741, 0.01200008, 0.01499987,\n",
       "        0.01499748, 0.01249838, 0.01449895, 0.01250005, 0.0149982 ]),\n",
       " 'score_time': array([0.00399899, 0.00350118, 0.00300074, 0.00300002, 0.00250149,\n",
       "        0.00300169, 0.00300145, 0.00250196, 0.00300074, 0.00300097]),\n",
       " 'test_accuracy': array([0.65957447, 0.80851064, 0.80434783, 0.73913043, 0.67391304,\n",
       "        0.7173913 , 0.86956522, 0.76086957, 0.65217391, 0.63043478]),\n",
       " 'train_accuracy': array([0.80240964, 0.78795181, 0.78846154, 0.79326923, 0.81490385,\n",
       "        0.80288462, 0.78125   , 0.79326923, 0.81009615, 0.80048077]),\n",
       " 'test_precision': array([0.5       , 0.73333333, 0.76923077, 0.64285714, 0.55555556,\n",
       "        0.71428571, 1.        , 0.72727273, 0.5       , 0.42857143]),\n",
       " 'train_precision': array([0.79245283, 0.74561404, 0.75925926, 0.78431373, 0.78151261,\n",
       "        0.75833333, 0.73451327, 0.76363636, 0.77310924, 0.7699115 ]),\n",
       " 'test_recall': array([0.625 , 0.6875, 0.625 , 0.5625, 0.3125, 0.3125, 0.625 , 0.5   ,\n",
       "        0.375 , 0.1875]),\n",
       " 'train_recall': array([0.58333333, 0.59027778, 0.56944444, 0.55555556, 0.64583333,\n",
       "        0.63194444, 0.57638889, 0.58333333, 0.63888889, 0.60416667]),\n",
       " 'test_f1': array([0.55555556, 0.70967742, 0.68965517, 0.6       , 0.4       ,\n",
       "        0.43478261, 0.76923077, 0.59259259, 0.42857143, 0.26086957]),\n",
       " 'train_f1': array([0.672     , 0.65891473, 0.65079365, 0.6504065 , 0.70722433,\n",
       "        0.68939394, 0.6459144 , 0.66141732, 0.69961977, 0.6770428 ]),\n",
       " 'test_roc_auc': array([0.74193548, 0.88508065, 0.83125   , 0.75208333, 0.65416667,\n",
       "        0.76458333, 0.79583333, 0.75625   , 0.66041667, 0.625     ]),\n",
       " 'train_roc_auc': array([0.85196289, 0.84240467, 0.83358864, 0.8430096 , 0.8589665 ,\n",
       "        0.84180964, 0.84007353, 0.84487337, 0.86103452, 0.8515625 ])}"
      ]
     },
     "execution_count": 97,
     "metadata": {},
     "output_type": "execute_result"
    }
   ],
   "source": [
    "svm(X2,Y2,1000)"
   ]
  },
  {
   "cell_type": "code",
   "execution_count": 99,
   "id": "19040073-074a-468d-bbf6-f69139d64539",
   "metadata": {},
   "outputs": [
    {
     "name": "stdout",
     "output_type": "stream",
     "text": [
      "\n",
      "Mean Test Accuracy:  0.6361702127659575\n",
      "Mean Train Accuracy:  0.8737227757182577\n",
      "Mean Test Precision:  0.47717760309865564\n",
      "Mean Train Precision:  0.8117340731546319\n",
      "Mean Test Recall:  0.51875\n",
      "Mean Train Recall:  0.8284722222222222\n",
      "Mean Test F1 Score:  0.4900602110534198\n",
      "Mean Train F1 Score:  0.8194888860734466\n"
     ]
    },
    {
     "data": {
      "text/plain": [
       "{'fit_time': array([47.16610336, 44.12800002, 60.31660581, 47.38600063, 55.51854849,\n",
       "        37.29302812, 68.48807526, 21.50049973, 40.32664824, 75.24564171]),\n",
       " 'score_time': array([0.00299907, 0.00300145, 0.00299931, 0.00300241, 0.00299978,\n",
       "        0.00300002, 0.00299978, 0.00300002, 0.00299978, 0.00300074]),\n",
       " 'test_accuracy': array([0.61702128, 0.74468085, 0.65217391, 0.76086957, 0.60869565,\n",
       "        0.63043478, 0.60869565, 0.60869565, 0.58695652, 0.54347826]),\n",
       " 'train_accuracy': array([0.82891566, 0.85783133, 0.88461538, 0.87259615, 0.86538462,\n",
       "        0.86298077, 0.87019231, 0.90384615, 0.88701923, 0.90384615]),\n",
       " 'test_precision': array([0.45833333, 0.6       , 0.5       , 0.66666667, 0.4       ,\n",
       "        0.46666667, 0.45454545, 0.42857143, 0.42857143, 0.36842105]),\n",
       " 'train_precision': array([0.75524476, 0.8057554 , 0.81168831, 0.82269504, 0.79333333,\n",
       "        0.78064516, 0.80821918, 0.88235294, 0.80124224, 0.85616438]),\n",
       " 'test_recall': array([0.6875, 0.75  , 0.4375, 0.625 , 0.25  , 0.4375, 0.625 , 0.375 ,\n",
       "        0.5625, 0.4375]),\n",
       " 'train_recall': array([0.75      , 0.77777778, 0.86805556, 0.80555556, 0.82638889,\n",
       "        0.84027778, 0.81944444, 0.83333333, 0.89583333, 0.86805556]),\n",
       " 'test_f1': array([0.55      , 0.66666667, 0.46666667, 0.64516129, 0.30769231,\n",
       "        0.4516129 , 0.52631579, 0.4       , 0.48648649, 0.4       ]),\n",
       " 'train_f1': array([0.75261324, 0.79151943, 0.83892617, 0.81403509, 0.80952381,\n",
       "        0.80936455, 0.8137931 , 0.85714286, 0.84590164, 0.86206897]),\n",
       " 'test_roc_auc': array([0.67137097, 0.7983871 , 0.70416667, 0.7125    , 0.48541667,\n",
       "        0.65      , 0.675     , 0.49791667, 0.62291667, 0.48958333]),\n",
       " 'train_roc_auc': array([0.92673739, 0.94262505, 0.95026552, 0.95011234, 0.94832516,\n",
       "        0.94056373, 0.93997651, 0.96954146, 0.95935458, 0.9717116 ])}"
      ]
     },
     "execution_count": 99,
     "metadata": {},
     "output_type": "execute_result"
    }
   ],
   "source": [
    "svm(X2,Y2,10**8)"
   ]
  },
  {
   "cell_type": "code",
   "execution_count": 27,
   "id": "d75fe246-af96-49b7-a5be-a00904f53a20",
   "metadata": {},
   "outputs": [
    {
     "name": "stdout",
     "output_type": "stream",
     "text": [
      "\n",
      "Mean Test Accuracy:  0.6429694727104533\n",
      "Mean Train Accuracy:  0.8624316496756256\n",
      "Mean Test Precision:  0.4929239766081871\n",
      "Mean Train Precision:  0.8353178980058636\n",
      "Mean Test Recall:  0.40625\n",
      "Mean Train Recall:  0.7520833333333334\n",
      "Mean Test Recall:  0.40625\n",
      "Mean Train Recall:  0.7520833333333334\n",
      "Mean Test F1 Score:  0.43516538778810865\n",
      "Mean Train F1 Score:  0.7911610803730593\n"
     ]
    },
    {
     "data": {
      "text/plain": [
       "{'fit_time': array([0.07100248, 0.07000113, 0.06950188, 0.07050061, 0.07000351,\n",
       "        0.07050657, 0.06900358, 0.06850076, 0.06900382, 0.06800056]),\n",
       " 'score_time': array([0.010499  , 0.01149774, 0.01099825, 0.01049781, 0.0109973 ,\n",
       "        0.01049376, 0.01049972, 0.01099634, 0.00999808, 0.01050138]),\n",
       " 'test_accuracy': array([0.59574468, 0.63829787, 0.65217391, 0.63043478, 0.52173913,\n",
       "        0.67391304, 0.69565217, 0.65217391, 0.69565217, 0.67391304]),\n",
       " 'train_accuracy': array([0.85060241, 0.86506024, 0.85336538, 0.87740385, 0.86298077,\n",
       "        0.87740385, 0.85336538, 0.84615385, 0.87259615, 0.86538462]),\n",
       " 'test_precision': array([0.4       , 0.47619048, 0.5       , 0.47368421, 0.28571429,\n",
       "        0.55555556, 0.58333333, 0.5       , 0.58333333, 0.57142857]),\n",
       " 'train_precision': array([0.80597015, 0.86065574, 0.82170543, 0.88429752, 0.84251969,\n",
       "        0.83941606, 0.81203008, 0.78985507, 0.85826772, 0.83846154]),\n",
       " 'test_recall': array([0.375 , 0.625 , 0.4375, 0.5625, 0.25  , 0.3125, 0.4375, 0.375 ,\n",
       "        0.4375, 0.25  ]),\n",
       " 'train_recall': array([0.75      , 0.72916667, 0.73611111, 0.74305556, 0.74305556,\n",
       "        0.79861111, 0.75      , 0.75694444, 0.75694444, 0.75694444]),\n",
       " 'test_f1': array([0.38709677, 0.54054054, 0.46666667, 0.51428571, 0.26666667,\n",
       "        0.4       , 0.5       , 0.42857143, 0.5       , 0.34782609]),\n",
       " 'train_f1': array([0.77697842, 0.78947368, 0.77655678, 0.80754717, 0.7896679 ,\n",
       "        0.81850534, 0.77978339, 0.77304965, 0.80442804, 0.79562044]),\n",
       " 'test_roc_auc': array([0.67540323, 0.70766129, 0.72291667, 0.62916667, 0.58333333,\n",
       "        0.61666667, 0.72083333, 0.61041667, 0.675     , 0.69583333]),\n",
       " 'train_roc_auc': array([0.93888376, 0.94482882, 0.93905739, 0.94401042, 0.95805249,\n",
       "        0.95570364, 0.94089563, 0.94115094, 0.95141442, 0.94279769])}"
      ]
     },
     "execution_count": 27,
     "metadata": {},
     "output_type": "execute_result"
    }
   ],
   "source": [
    "#adaboost(x_train,x_test,y_train,y_test)\n",
    "adaboost(X2,Y2)"
   ]
  },
  {
   "cell_type": "code",
   "execution_count": 34,
   "id": "35e08b8c-af2f-481a-8e80-355cdf0efa60",
   "metadata": {},
   "outputs": [
    {
     "name": "stdout",
     "output_type": "stream",
     "text": [
      "              precision    recall  f1-score   support\n",
      "\n",
      "           0       0.66      0.74      0.69        57\n",
      "           1       0.48      0.39      0.43        36\n",
      "\n",
      "    accuracy                           0.60        93\n",
      "   macro avg       0.57      0.56      0.56        93\n",
      "weighted avg       0.59      0.60      0.59        93\n",
      "\n"
     ]
    }
   ],
   "source": [
    "random_forest(X2,Y2)"
   ]
  },
  {
   "cell_type": "code",
   "execution_count": null,
   "id": "fe478ffe-f03c-4d6f-9a80-65179b56221d",
   "metadata": {},
   "outputs": [],
   "source": []
  }
 ],
 "metadata": {
  "kernelspec": {
   "display_name": "Python 3 (ipykernel)",
   "language": "python",
   "name": "python3"
  },
  "language_info": {
   "codemirror_mode": {
    "name": "ipython",
    "version": 3
   },
   "file_extension": ".py",
   "mimetype": "text/x-python",
   "name": "python",
   "nbconvert_exporter": "python",
   "pygments_lexer": "ipython3",
   "version": "3.10.8"
  }
 },
 "nbformat": 4,
 "nbformat_minor": 5
}
