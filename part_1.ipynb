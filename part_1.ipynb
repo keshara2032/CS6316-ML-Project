{
 "cells": [
  {
   "cell_type": "code",
   "execution_count": 1,
   "id": "b69705b0",
   "metadata": {},
   "outputs": [],
   "source": [
    "# install dependencies\n",
    "import sys\n",
    "# !{sys.executable} -m pip install pandas"
   ]
  },
  {
   "cell_type": "code",
   "execution_count": 2,
   "id": "caf1934d",
   "metadata": {},
   "outputs": [],
   "source": [
    "# import dependencies\n",
    "import numpy as np\n",
    "import pandas as pd\n",
    "\n",
    "from sklearn.model_selection import train_test_split\n",
    "from sklearn.linear_model import LogisticRegression\n",
    "from sklearn import preprocessing\n",
    "from sklearn import metrics\n",
    "from sklearn.pipeline import make_pipeline\n",
    "from sklearn.preprocessing import StandardScaler\n",
    "from sklearn.neighbors import KNeighborsClassifier\n",
    "from sklearn import tree\n",
    "from sklearn.svm import SVC\n",
    "from sklearn.datasets import load_iris\n",
    "from sklearn.preprocessing import LabelEncoder\n",
    "\n",
    "import seaborn as sns\n",
    "import matplotlib.pyplot as plt\n",
    "\n",
    "from sklearn.ensemble import AdaBoostClassifier\n",
    "from sklearn.ensemble import RandomForestClassifier\n",
    "from sklearn.metrics import make_scorer\n",
    "from sklearn.model_selection import cross_validate\n",
    "\n",
    "import warnings"
   ]
  },
  {
   "cell_type": "markdown",
   "id": "3886cde5-d03d-4a59-9ee1-c0c2e49db4c5",
   "metadata": {},
   "source": [
    "#### Exploratory Data Analysis"
   ]
  },
  {
   "cell_type": "code",
   "execution_count": 3,
   "id": "f921582c",
   "metadata": {},
   "outputs": [],
   "source": [
    "##### data loading and feature extraction\n",
    "\n",
    "dataset_1_path = './datasets/project3_dataset1.txt'\n",
    "dataset_1 = pd.read_csv(dataset_1_path,sep='\\t',header=None)\n",
    "num_columns = len(dataset_1.columns)\n",
    "num_features = num_columns - 1\n",
    "dataset_1.columns=[\"F\"+str(i) for i in range(1, num_columns + 1)]\n",
    "label_column = \"F{0}\".format(num_columns)\n",
    "dataset_1_features = dataset_1.loc[:, dataset_1.columns != label_column]\n",
    "dataset_1_label = dataset_1.loc[:, dataset_1.columns == label_column]\n",
    "\n",
    "\n",
    "\n",
    "dataset_2_path = './datasets/project3_dataset2.txt'\n",
    "# load the CSV file as a dataframe\n",
    "dataset_2 = pd.read_csv(dataset_2_path,sep='\\t',header=None)\n",
    "num_columns = len(dataset_2.columns)\n",
    "num_features = num_columns - 1\n",
    "dataset_2.columns=[\"F\"+str(i) for i in range(1, num_columns + 1)]\n",
    "label_column = \"F{0}\".format(num_columns)\n",
    "custom_encoding = {'Present':1, 'Absent':0}\n",
    "dataset_2[\"F5\"] = dataset_2[\"F5\"].map(custom_encoding)\n",
    "dataset_2_features = dataset_2.loc[:, dataset_2.columns != label_column]\n",
    "dataset_2_label = dataset_2.loc[:, dataset_2.columns == label_column]\n"
   ]
  },
  {
   "cell_type": "code",
   "execution_count": 4,
   "id": "8c68d804-607f-46a3-903b-acec827937ec",
   "metadata": {},
   "outputs": [],
   "source": [
    "X, Y = dataset_1_features, dataset_1_label"
   ]
  },
  {
   "cell_type": "code",
   "execution_count": 5,
   "id": "57496a0f-4743-4eb5-af0b-6062b50dc969",
   "metadata": {},
   "outputs": [],
   "source": [
    "X2, Y2 = dataset_2_features, dataset_2_label"
   ]
  },
  {
   "cell_type": "code",
   "execution_count": 6,
   "id": "90cd7060-82fb-4c30-9492-031fe90375a7",
   "metadata": {},
   "outputs": [],
   "source": [
    "#X"
   ]
  },
  {
   "cell_type": "code",
   "execution_count": 7,
   "id": "f857d0a7-9066-46f2-8992-94cc09ff4675",
   "metadata": {},
   "outputs": [],
   "source": [
    "#Y"
   ]
  },
  {
   "cell_type": "code",
   "execution_count": 8,
   "id": "d840bb76-de34-4e71-a04c-d0d91dd9cd8b",
   "metadata": {},
   "outputs": [],
   "source": [
    "#dataset_1"
   ]
  },
  {
   "cell_type": "code",
   "execution_count": 9,
   "id": "ec68be61-2b7a-4193-a431-4e3ff5a1cf28",
   "metadata": {},
   "outputs": [],
   "source": [
    "#dataset_2"
   ]
  },
  {
   "cell_type": "code",
   "execution_count": 10,
   "id": "d2ad7462",
   "metadata": {},
   "outputs": [],
   "source": [
    "##### model implementation\n",
    "\n",
    "\n",
    "# test_split_ratio = 0.2\n",
    "# x_train, x_test, y_train, y_test = train_test_split(dataset_1_features, dataset_1_label, test_size=test_split_ratio, random_state=0)\n",
    "\n",
    "# # logistic regression with ridge regression\n",
    "# def logistic_regression(x_train,x_test,y_train,y_test,reg_param):\n",
    "#     # all parameters not specified are set to their defaults\n",
    "#     if(reg_param > 0):\n",
    "#         logisticRegr = LogisticRegression(penalty=\"l2\",C=reg_param)\n",
    "#     else:\n",
    "#         logisticRegr = LogisticRegression(penalty=\"none\") # default l2 reg param \n",
    "        \n",
    "#     scaler = preprocessing.StandardScaler().fit(x_train)\n",
    "#     x_scaled_train = scaler.transform(x_train)\n",
    "#     x_scaled_test = scaler.transform(x_test)\n",
    "\n",
    "#     logisticRegr.fit(x_scaled_train, y_train.values.ravel())\n",
    "\n",
    "#     prediction = logisticRegr.predict(x_scaled_test)\n",
    "\n",
    "#     cnf_matrix = metrics.confusion_matrix(y_test, prediction)\n",
    "#     score = logisticRegr.score(x_scaled_test, y_test)\n",
    "#     print(\"Logistic Regression\")\n",
    "#     print(\"Regularization Parameter : {0}\\t Accuracy: {1}\\n\".format(reg_param,score))\n",
    "\n",
    "    \n",
    "#     print(metrics.classification_report(prediction, y_test))\n",
    "\n",
    "#     plt.figure(figsize=(9,9))\n",
    "#     sns.heatmap(cnf_matrix, annot=True, fmt=\".3f\", linewidths=.5, square = True, cmap = 'Blues_r');\n",
    "#     plt.ylabel('Actual label');\n",
    "#     plt.xlabel('Predicted label');\n",
    "#     all_sample_title = 'Accuracy Score: {0}'.format(score)\n",
    "#     plt.title(all_sample_title, size = 15);\n",
    "    \n",
    "\n",
    "# KNN\n",
    "# def knn(x_train,x_test,y_train,y_test,k):\n",
    "    \n",
    "#     scaler = preprocessing.StandardScaler().fit(x_train)\n",
    "#     x_scaled_train = scaler.transform(x_train)\n",
    "#     x_scaled_test = scaler.transform(x_test)\n",
    "    \n",
    "#     knn = KNeighborsClassifier(n_neighbors=k)\n",
    "#     knn.fit(x_scaled_train, y_train.values.ravel())\n",
    "    \n",
    "#     prediction = knn.predict(x_scaled_test)\n",
    "#     # Use score method to get accuracy of model\n",
    "#     score = knn.score(x_scaled_test, y_test)\n",
    "#     print(\"K Nearest Neighbor\")\n",
    "#     print(\"No of Neighbors : {0}\\n\".format(k,score))\n",
    "#     print(metrics.classification_report(prediction, y_test))\n",
    "#     print(\"***\\n\")\n",
    "\n",
    "    \n",
    "# def decision_tree(x_train,x_test,y_train,y_test):\n",
    "#     clf = tree.DecisionTreeClassifier()\n",
    "#     clf = clf.fit(x_train, y_train)\n",
    "#     prediction = clf.predict(x_test)\n",
    "#     print(\"Decision Tree\")\n",
    "#     print(metrics.classification_report(prediction, y_test))\n",
    "\n",
    "\n",
    "# def adaboost(x_train,x_test,y_train,y_test):\n",
    "#     clf = AdaBoostClassifier(n_estimators=100, random_state=0)\n",
    "#     clf = clf.fit(x_train, y_train.values.ravel())\n",
    "#     prediction = clf.predict(x_test)\n",
    "#     print(\"AdaBoost\")\n",
    "#     print(metrics.classification_report(prediction, y_test))\n",
    "    \n",
    "    \n",
    "# def svm(x_train,x_test,y_train,y_test,reg_param):\n",
    "#     clf = SVC(C=1/reg_param)\n",
    "#     clf = clf.fit(x_train, y_train.values.ravel())\n",
    "#     prediction = clf.predict(x_test)\n",
    "#     print(\"Support Vector Machine - SVM\")\n",
    "#     print(metrics.classification_report(prediction, y_test))"
   ]
  },
  {
   "cell_type": "markdown",
   "id": "d7ee2ebf-da9b-44e1-81e9-bffa0ee1961f",
   "metadata": {},
   "source": [
    "#### Model Definitions"
   ]
  },
  {
   "cell_type": "code",
   "execution_count": 11,
   "id": "428965ff-8e04-4e58-a833-7cc93d4c4912",
   "metadata": {},
   "outputs": [],
   "source": [
    "def svm(X,Y,reg_param):\n",
    "    clf = SVC(C=1/reg_param)\n",
    "    cv_results = cross_validate(clf, X,Y.values.ravel(), cv=10, scoring=('accuracy', 'precision', 'recall', 'f1','roc_auc'), return_train_score=True)\n",
    "    return cv_results"
   ]
  },
  {
   "cell_type": "code",
   "execution_count": 12,
   "id": "85e024e8-16d8-4929-beb0-fa816351a36d",
   "metadata": {},
   "outputs": [],
   "source": [
    "def adaboost(X,Y):\n",
    "    clf = AdaBoostClassifier(n_estimators=100, random_state=0)\n",
    "    clf = clf.fit(X, Y.values.ravel())\n",
    "    cv_results = cross_validate(clf, X,Y.values.ravel(), cv=10, scoring=('accuracy', 'precision', 'recall', 'f1','roc_auc'), return_train_score=True)\n",
    "    return cv_results"
   ]
  },
  {
   "cell_type": "code",
   "execution_count": 13,
   "id": "e1ddc69a-8cb6-43f4-95e0-70c334393adf",
   "metadata": {},
   "outputs": [],
   "source": [
    "def logistic_regression(X,y,reg_param, max_iter=100):\n",
    "    # all parameters not specified are set to their defaults\n",
    "    if(reg_param > 0):\n",
    "        logisticRegr = LogisticRegression(penalty=\"l2\",C=reg_param, max_iter=max_iter)\n",
    "    else:\n",
    "        logisticRegr = LogisticRegression(penalty=\"none\", max_iter=max_iter) # default l2 reg param \n",
    "        \n",
    "    scaler = preprocessing.StandardScaler().fit(X)\n",
    "    x_scaled = scaler.transform(X)\n",
    "    cv_results = cross_validate(logisticRegr, x_scaled,y.values.ravel(), cv=10, scoring=('accuracy', 'precision', 'recall', 'f1','roc_auc'), return_train_score=True)\n",
    "    return cv_results"
   ]
  },
  {
   "cell_type": "code",
   "execution_count": 14,
   "id": "f7b26fb4-f141-438a-b452-188c5c903573",
   "metadata": {},
   "outputs": [],
   "source": [
    "# TODO: Can I use the sklearn implementation? Or should I use the decision tree classifier to create custom random forest methodß\n",
    "def random_forest(X,y):\n",
    "    clf = RandomForestClassifier(max_depth=2, random_state=0)\n",
    "    cv_results = cross_validate(clf, X,y.values.ravel(), cv=10, scoring=('accuracy', 'precision', 'recall', 'f1','roc_auc'), return_train_score=True)\n",
    "    return cv_results"
   ]
  },
  {
   "cell_type": "code",
   "execution_count": 15,
   "id": "afdc0fc5-aa46-4705-b7d1-aa63d5daad66",
   "metadata": {},
   "outputs": [],
   "source": [
    "def knn(X,y,k):\n",
    "    \n",
    "    scaler = preprocessing.StandardScaler().fit(X)\n",
    "    x_scaled = scaler.transform(X)\n",
    "    #x_scaled_test = scaler.transform(x_test)\n",
    "    \n",
    "    knn = KNeighborsClassifier(n_neighbors=k)\n",
    "    \n",
    "    cv_results = cross_validate(knn, x_scaled,y.values.ravel(), cv=10, scoring=('accuracy', 'precision', 'recall', 'f1','roc_auc'), return_train_score=True)\n",
    "    return cv_results"
   ]
  },
  {
   "cell_type": "code",
   "execution_count": 16,
   "id": "5f52c378-fd9f-4105-a2ea-45a1b3a90406",
   "metadata": {},
   "outputs": [],
   "source": [
    "def decision_tree(X,y):\n",
    "    clf = tree.DecisionTreeClassifier()\n",
    "    cv_results = cross_validate(clf, X,y, cv=10, scoring=('accuracy', 'precision', 'recall', 'f1','roc_auc'), return_train_score=True)\n",
    "    return cv_results"
   ]
  },
  {
   "cell_type": "markdown",
   "id": "8dbe22aa-bc42-4236-a4cc-1e639bad817a",
   "metadata": {},
   "source": [
    "#### DataSet 1 Training and Evaluation"
   ]
  },
  {
   "cell_type": "code",
   "execution_count": 17,
   "id": "105057de-01bc-4669-afb4-3573ba04ca75",
   "metadata": {},
   "outputs": [],
   "source": [
    "# logistic regression\n",
    "#logistic_regression(x_train,x_test,y_train,y_test,10**-5) # weak regularization leads to overfitting\n",
    "#logistic_regression(x_train,x_test,y_train,y_test,5)  # right amount of regularization improves perfomance \n",
    "#logistic_regression(x_train,x_test,y_train,y_test,20)  # too strong regularization leads to underfitting"
   ]
  },
  {
   "cell_type": "code",
   "execution_count": 18,
   "id": "a4fb0446-1d6f-4c07-8a6d-36a468cf1deb",
   "metadata": {},
   "outputs": [
    {
     "data": {
      "text/plain": [
       "{'fit_time': array([0.0081501 , 0.00448203, 0.003685  , 0.00308299, 0.00206208,\n",
       "        0.00291514, 0.00336289, 0.00205708, 0.00213814, 0.00210786]),\n",
       " 'score_time': array([0.00300097, 0.00201797, 0.00181103, 0.0023551 , 0.001791  ,\n",
       "        0.00190806, 0.00198507, 0.00179195, 0.00178194, 0.001791  ]),\n",
       " 'test_accuracy': array([0.61403509, 0.61403509, 0.63157895, 0.63157895, 0.63157895,\n",
       "        0.63157895, 0.63157895, 0.63157895, 0.63157895, 0.625     ]),\n",
       " 'train_accuracy': array([0.62890625, 0.62890625, 0.62695312, 0.62695312, 0.62695312,\n",
       "        0.62695312, 0.62695312, 0.62695312, 0.62695312, 0.62768031]),\n",
       " 'test_precision': array([0., 0., 0., 0., 0., 0., 0., 0., 0., 0.]),\n",
       " 'train_precision': array([0., 0., 0., 0., 0., 0., 0., 0., 0., 0.]),\n",
       " 'test_recall': array([0., 0., 0., 0., 0., 0., 0., 0., 0., 0.]),\n",
       " 'train_recall': array([0., 0., 0., 0., 0., 0., 0., 0., 0., 0.]),\n",
       " 'test_f1': array([0., 0., 0., 0., 0., 0., 0., 0., 0., 0.]),\n",
       " 'train_f1': array([0., 0., 0., 0., 0., 0., 0., 0., 0., 0.]),\n",
       " 'test_roc_auc': array([0.99220779, 0.98311688, 0.99206349, 0.97619048, 0.99338624,\n",
       "        0.99603175, 0.96825397, 0.96428571, 0.98015873, 0.98639456]),\n",
       " 'train_roc_auc': array([0.9829356 , 0.98355672, 0.98276003, 0.98355923, 0.98215655,\n",
       "        0.98067231, 0.98352661, 0.98422795, 0.98315147, 0.9832038 ])}"
      ]
     },
     "execution_count": 18,
     "metadata": {},
     "output_type": "execute_result"
    }
   ],
   "source": [
    "warnings.filterwarnings('ignore')\n",
    "logistic_regression(X,Y,10**-5) # weak regularization leads to overfitting\n",
    "# Warning is due to overfitting: https://github.com/Berkeley-Data/hpt/issues/52#issuecomment-803665466\n",
    "# Suppressed warning according to: https://stackoverflow.com/questions/43162506/undefinedmetricwarning-f-score-is-ill-defined-and-being-set-to-0-0-in-labels-wi"
   ]
  },
  {
   "cell_type": "code",
   "execution_count": 19,
   "id": "4ccf4943-1560-4045-a873-1404acaad31f",
   "metadata": {},
   "outputs": [],
   "source": [
    "warnings.filterwarnings('always')"
   ]
  },
  {
   "cell_type": "code",
   "execution_count": 20,
   "id": "13eda9b7-ff83-4b56-84d8-693954ee2ac3",
   "metadata": {},
   "outputs": [
    {
     "data": {
      "text/plain": [
       "{'fit_time': array([0.03279591, 0.0117631 , 0.01478815, 0.01623487, 0.01253414,\n",
       "        0.00794435, 0.01182103, 0.0109489 , 0.01152515, 0.00843191]),\n",
       " 'score_time': array([0.0020113 , 0.00187588, 0.00199175, 0.00184011, 0.00183082,\n",
       "        0.00176883, 0.00180101, 0.00175905, 0.00176167, 0.00366998]),\n",
       " 'test_accuracy': array([0.98245614, 1.        , 1.        , 0.98245614, 0.96491228,\n",
       "        0.98245614, 0.94736842, 0.98245614, 0.96491228, 1.        ]),\n",
       " 'train_accuracy': array([0.99023438, 0.98828125, 0.98828125, 0.9921875 , 0.98632812,\n",
       "        0.9921875 , 0.99023438, 0.99023438, 0.99023438, 0.98830409]),\n",
       " 'test_precision': array([0.95652174, 1.        , 1.        , 1.        , 1.        ,\n",
       "        1.        , 0.90909091, 1.        , 0.95238095, 1.        ]),\n",
       " 'train_precision': array([0.99465241, 0.99462366, 0.99465241, 1.        , 0.99462366,\n",
       "        1.        , 0.99468085, 0.98947368, 0.99468085, 0.99465241]),\n",
       " 'test_recall': array([1.        , 1.        , 1.        , 0.95238095, 0.9047619 ,\n",
       "        0.95238095, 0.95238095, 0.95238095, 0.95238095, 1.        ]),\n",
       " 'train_recall': array([0.97894737, 0.97368421, 0.97382199, 0.97905759, 0.96858639,\n",
       "        0.97905759, 0.97905759, 0.98429319, 0.97905759, 0.97382199]),\n",
       " 'test_f1': array([0.97777778, 1.        , 1.        , 0.97560976, 0.95      ,\n",
       "        0.97560976, 0.93023256, 0.97560976, 0.95238095, 1.        ]),\n",
       " 'train_f1': array([0.9867374 , 0.98404255, 0.98412698, 0.98941799, 0.98143236,\n",
       "        0.98941799, 0.98680739, 0.98687664, 0.98680739, 0.98412698]),\n",
       " 'test_roc_auc': array([0.9987013 , 1.        , 1.        , 0.99338624, 0.97089947,\n",
       "        0.99603175, 0.99603175, 0.98015873, 0.99338624, 1.        ]),\n",
       " 'train_roc_auc': array([0.99833279, 0.99810396, 0.99791228, 0.99854838, 0.99858101,\n",
       "        0.99832004, 0.99859732, 0.99939652, 0.99817325, 0.99821144])}"
      ]
     },
     "execution_count": 20,
     "metadata": {},
     "output_type": "execute_result"
    }
   ],
   "source": [
    "logistic_regression(X,Y,5)  # right amount of regularization improves perfomance "
   ]
  },
  {
   "cell_type": "code",
   "execution_count": 21,
   "id": "1291487d-8f7d-4b5b-b846-2289cfc4925b",
   "metadata": {},
   "outputs": [
    {
     "data": {
      "text/plain": [
       "{'fit_time': array([0.02870488, 0.01867795, 0.01326489, 0.01514196, 0.01462889,\n",
       "        0.01723528, 0.01634097, 0.02004886, 0.02353907, 0.02004194]),\n",
       " 'score_time': array([0.00197411, 0.00190496, 0.00180101, 0.00179076, 0.0017941 ,\n",
       "        0.00179791, 0.00183201, 0.00184703, 0.00201488, 0.00190902]),\n",
       " 'test_accuracy': array([0.96491228, 1.        , 1.        , 0.96491228, 0.96491228,\n",
       "        0.98245614, 0.94736842, 0.96491228, 0.94736842, 0.96428571]),\n",
       " 'train_accuracy': array([0.99023438, 0.99023438, 0.99023438, 0.9921875 , 0.98828125,\n",
       "        0.99414062, 0.9921875 , 0.9921875 , 0.99023438, 0.99025341]),\n",
       " 'test_precision': array([0.95454545, 1.        , 1.        , 1.        , 1.        ,\n",
       "        1.        , 0.90909091, 0.95238095, 0.95      , 0.95238095]),\n",
       " 'train_precision': array([0.99465241, 0.99465241, 0.99468085, 1.        , 0.99465241,\n",
       "        1.        , 0.99470899, 0.99470899, 0.99468085, 0.99468085]),\n",
       " 'test_recall': array([0.95454545, 1.        , 1.        , 0.9047619 , 0.9047619 ,\n",
       "        0.95238095, 0.95238095, 0.95238095, 0.9047619 , 0.95238095]),\n",
       " 'train_recall': array([0.97894737, 0.97894737, 0.97905759, 0.97905759, 0.97382199,\n",
       "        0.98429319, 0.98429319, 0.98429319, 0.97905759, 0.97905759]),\n",
       " 'test_f1': array([0.95454545, 1.        , 1.        , 0.95      , 0.95      ,\n",
       "        0.97560976, 0.93023256, 0.95238095, 0.92682927, 0.95238095]),\n",
       " 'train_f1': array([0.9867374 , 0.9867374 , 0.98680739, 0.98941799, 0.98412698,\n",
       "        0.99208443, 0.98947368, 0.98947368, 0.98680739, 0.98680739]),\n",
       " 'test_roc_auc': array([0.9987013 , 1.        , 1.        , 0.99338624, 0.94973545,\n",
       "        0.99603175, 0.99603175, 0.98148148, 0.98544974, 0.99863946]),\n",
       " 'train_roc_auc': array([0.99906832, 0.99875776, 0.99864625, 0.99907031, 0.99928235,\n",
       "        0.99903769, 0.99916818, 0.99972273, 0.99877673, 0.99887809])}"
      ]
     },
     "execution_count": 21,
     "metadata": {},
     "output_type": "execute_result"
    }
   ],
   "source": [
    "logistic_regression(X,Y,20, max_iter=300)  # too strong regularization leads to underfitting\n",
    "# Rishabh - I had to increase max_iter because the model wasn't converging earlier\n",
    "# https://stackoverflow.com/questions/62658215/convergencewarning-lbfgs-failed-to-converge-status-1-stop-total-no-of-iter\n",
    "# TODO: Should we increase max_iter for all cases?"
   ]
  },
  {
   "cell_type": "code",
   "execution_count": 22,
   "id": "c67abf4a-6fae-4e47-946b-86da4e9e77e9",
   "metadata": {},
   "outputs": [],
   "source": [
    "# KNN classification\n",
    "# knn(x_train,x_test,y_train,y_test,1) # 1 neighbor would give perfect accuracy for training set, overfitting\n",
    "# knn(x_train,x_test,y_train,y_test,3) # 5 neighbors seems to generalize well\n",
    "# knn(x_train,x_test,y_train,y_test,100) # 100 neighbors will lead to underfitting"
   ]
  },
  {
   "cell_type": "code",
   "execution_count": 23,
   "id": "c802df16-e64b-4aa9-bedb-4b61374c5538",
   "metadata": {},
   "outputs": [
    {
     "data": {
      "text/plain": [
       "{'fit_time': array([0.00033307, 0.00027084, 0.00028419, 0.00026083, 0.00030208,\n",
       "        0.00029016, 0.00025988, 0.00024295, 0.00025296, 0.00024819]),\n",
       " 'score_time': array([0.00645685, 0.0035131 , 0.00348997, 0.0039742 , 0.00477123,\n",
       "        0.00369215, 0.00497389, 0.00358725, 0.00345588, 0.00542307]),\n",
       " 'test_accuracy': array([0.96491228, 0.94736842, 0.98245614, 0.92982456, 0.92982456,\n",
       "        0.94736842, 0.9122807 , 0.96491228, 0.94736842, 0.94642857]),\n",
       " 'train_accuracy': array([1., 1., 1., 1., 1., 1., 1., 1., 1., 1.]),\n",
       " 'test_precision': array([0.95454545, 0.91304348, 0.95454545, 0.94736842, 0.9047619 ,\n",
       "        0.95      , 1.        , 1.        , 0.95      , 0.875     ]),\n",
       " 'train_precision': array([1., 1., 1., 1., 1., 1., 1., 1., 1., 1.]),\n",
       " 'test_recall': array([0.95454545, 0.95454545, 1.        , 0.85714286, 0.9047619 ,\n",
       "        0.9047619 , 0.76190476, 0.9047619 , 0.9047619 , 1.        ]),\n",
       " 'train_recall': array([1., 1., 1., 1., 1., 1., 1., 1., 1., 1.]),\n",
       " 'test_f1': array([0.95454545, 0.93333333, 0.97674419, 0.9       , 0.9047619 ,\n",
       "        0.92682927, 0.86486486, 0.95      , 0.92682927, 0.93333333]),\n",
       " 'train_f1': array([1., 1., 1., 1., 1., 1., 1., 1., 1., 1.]),\n",
       " 'test_roc_auc': array([0.96298701, 0.9487013 , 0.98611111, 0.91468254, 0.92460317,\n",
       "        0.93849206, 0.88095238, 0.95238095, 0.93849206, 0.95714286]),\n",
       " 'train_roc_auc': array([1., 1., 1., 1., 1., 1., 1., 1., 1., 1.])}"
      ]
     },
     "execution_count": 23,
     "metadata": {},
     "output_type": "execute_result"
    }
   ],
   "source": [
    "knn(X,Y,1) # 1 neighbor would give perfect accuracy for training set, overfitting"
   ]
  },
  {
   "cell_type": "code",
   "execution_count": 24,
   "id": "2a8969b9-e4fc-45bc-86f4-cd9289285f7e",
   "metadata": {},
   "outputs": [
    {
     "data": {
      "text/plain": [
       "{'fit_time': array([0.00030589, 0.00027108, 0.00027084, 0.00024605, 0.00024819,\n",
       "        0.0002377 , 0.00024796, 0.00024509, 0.00023818, 0.0002408 ]),\n",
       " 'score_time': array([0.0047791 , 0.00399494, 0.0037272 , 0.00367498, 0.00366211,\n",
       "        0.00365114, 0.0038209 , 0.00367904, 0.00365901, 0.00413895]),\n",
       " 'test_accuracy': array([0.98245614, 0.96491228, 0.96491228, 0.9122807 , 0.98245614,\n",
       "        0.98245614, 0.94736842, 0.96491228, 0.96491228, 0.96428571]),\n",
       " 'train_accuracy': array([0.98046875, 0.97851562, 0.97851562, 0.98632812, 0.98242188,\n",
       "        0.98046875, 0.984375  , 0.98242188, 0.98242188, 0.98245614]),\n",
       " 'test_precision': array([1.        , 0.95454545, 0.95238095, 1.        , 1.        ,\n",
       "        1.        , 1.        , 1.        , 1.        , 0.91304348]),\n",
       " 'train_precision': array([0.99450549, 0.99447514, 0.99450549, 1.        , 0.99456522,\n",
       "        1.        , 0.99459459, 0.99456522, 0.99456522, 0.99456522]),\n",
       " 'test_recall': array([0.95454545, 0.95454545, 0.95238095, 0.76190476, 0.95238095,\n",
       "        0.95238095, 0.85714286, 0.9047619 , 0.9047619 , 1.        ]),\n",
       " 'train_recall': array([0.95263158, 0.94736842, 0.94764398, 0.96335079, 0.95811518,\n",
       "        0.94764398, 0.96335079, 0.95811518, 0.95811518, 0.95811518]),\n",
       " 'test_f1': array([0.97674419, 0.95454545, 0.95238095, 0.86486486, 0.97560976,\n",
       "        0.97560976, 0.92307692, 0.95      , 0.95      , 0.95454545]),\n",
       " 'train_f1': array([0.97311828, 0.9703504 , 0.97050938, 0.98133333, 0.976     ,\n",
       "        0.97311828, 0.9787234 , 0.976     , 0.976     , 0.976     ]),\n",
       " 'test_roc_auc': array([0.97532468, 0.97532468, 0.99669312, 0.93584656, 0.9973545 ,\n",
       "        0.97486772, 0.97619048, 0.97619048, 0.99470899, 1.        ]),\n",
       " 'train_roc_auc': array([0.99832462, 0.99868421, 0.99816509, 0.99880119, 0.99859732,\n",
       "        0.99836897, 0.99876042, 0.99871149, 0.99856469, 0.9989106 ])}"
      ]
     },
     "execution_count": 24,
     "metadata": {},
     "output_type": "execute_result"
    }
   ],
   "source": [
    "knn(X,Y,3) # 5 neighbors seems to generalize well"
   ]
  },
  {
   "cell_type": "code",
   "execution_count": 25,
   "id": "9558c52f-44bd-441a-b009-5c842eef69bd",
   "metadata": {},
   "outputs": [
    {
     "data": {
      "text/plain": [
       "{'fit_time': array([0.00028419, 0.00026512, 0.00026798, 0.00024796, 0.00026298,\n",
       "        0.00026894, 0.0002501 , 0.00026107, 0.00026488, 0.00026011]),\n",
       " 'score_time': array([0.00610685, 0.00539184, 0.00514388, 0.00501704, 0.00500393,\n",
       "        0.00493598, 0.00492978, 0.00557899, 0.00490189, 0.00484776]),\n",
       " 'test_accuracy': array([0.96491228, 0.9122807 , 0.94736842, 0.85964912, 0.96491228,\n",
       "        0.94736842, 0.9122807 , 0.94736842, 0.92982456, 0.94642857]),\n",
       " 'train_accuracy': array([0.92773438, 0.93359375, 0.93359375, 0.94335938, 0.93164062,\n",
       "        0.93359375, 0.9375    , 0.9296875 , 0.93554688, 0.93957115]),\n",
       " 'test_precision': array([1.        , 0.94736842, 1.        , 1.        , 1.        ,\n",
       "        1.        , 0.94444444, 1.        , 1.        , 1.        ]),\n",
       " 'train_precision': array([0.98726115, 0.99367089, 0.99371069, 0.99390244, 0.9875    ,\n",
       "        0.98757764, 1.        , 0.99363057, 0.99375   , 0.99382716]),\n",
       " 'test_recall': array([0.90909091, 0.81818182, 0.85714286, 0.61904762, 0.9047619 ,\n",
       "        0.85714286, 0.80952381, 0.85714286, 0.80952381, 0.85714286]),\n",
       " 'train_recall': array([0.81578947, 0.82631579, 0.82722513, 0.85340314, 0.82722513,\n",
       "        0.83246073, 0.83246073, 0.81675393, 0.83246073, 0.84293194]),\n",
       " 'test_f1': array([0.95238095, 0.87804878, 0.92307692, 0.76470588, 0.95      ,\n",
       "        0.92307692, 0.87179487, 0.92307692, 0.89473684, 0.92307692]),\n",
       " 'train_f1': array([0.89337176, 0.90229885, 0.90285714, 0.91830986, 0.9002849 ,\n",
       "        0.90340909, 0.90857143, 0.89655172, 0.90598291, 0.9121813 ]),\n",
       " 'test_roc_auc': array([0.99415584, 0.98896104, 0.99074074, 0.98809524, 0.99470899,\n",
       "        0.9973545 , 0.98280423, 0.97949735, 0.98941799, 0.9877551 ]),\n",
       " 'train_roc_auc': array([0.98983328, 0.98966165, 0.98932492, 0.98964297, 0.98931676,\n",
       "        0.98861542, 0.99014859, 0.99094779, 0.99043402, 0.99020357])}"
      ]
     },
     "execution_count": 25,
     "metadata": {},
     "output_type": "execute_result"
    }
   ],
   "source": [
    "knn(X,Y,100) # 100 neighbors will lead to underfitting"
   ]
  },
  {
   "cell_type": "code",
   "execution_count": 26,
   "id": "03b70dda-6ae7-4645-bb0c-af50bcdce772",
   "metadata": {},
   "outputs": [
    {
     "data": {
      "text/plain": [
       "{'fit_time': array([0.01040316, 0.00732517, 0.00635505, 0.00665975, 0.00657988,\n",
       "        0.00608301, 0.006001  , 0.00612879, 0.00934887, 0.00630808]),\n",
       " 'score_time': array([0.00454402, 0.00363398, 0.00349689, 0.00345397, 0.00348401,\n",
       "        0.0035789 , 0.00342894, 0.00341892, 0.00336814, 0.00339484]),\n",
       " 'test_accuracy': array([0.92982456, 0.84210526, 0.98245614, 0.87719298, 0.96491228,\n",
       "        0.89473684, 0.9122807 , 0.94736842, 0.94736842, 0.94642857]),\n",
       " 'train_accuracy': array([1., 1., 1., 1., 1., 1., 1., 1., 1., 1.]),\n",
       " 'test_precision': array([0.875     , 0.76      , 0.95454545, 0.9375    , 1.        ,\n",
       "        0.8       , 0.86363636, 0.95      , 0.95      , 0.90909091]),\n",
       " 'train_precision': array([1., 1., 1., 1., 1., 1., 1., 1., 1., 1.]),\n",
       " 'test_recall': array([0.95454545, 0.86363636, 1.        , 0.71428571, 0.9047619 ,\n",
       "        0.95238095, 0.9047619 , 0.9047619 , 0.9047619 , 0.95238095]),\n",
       " 'train_recall': array([1., 1., 1., 1., 1., 1., 1., 1., 1., 1.]),\n",
       " 'test_f1': array([0.91304348, 0.80851064, 0.97674419, 0.81081081, 0.95      ,\n",
       "        0.86956522, 0.88372093, 0.92682927, 0.92682927, 0.93023256]),\n",
       " 'train_f1': array([1., 1., 1., 1., 1., 1., 1., 1., 1., 1.]),\n",
       " 'test_roc_auc': array([0.93441558, 0.8461039 , 0.98611111, 0.84325397, 0.95238095,\n",
       "        0.90674603, 0.91071429, 0.93849206, 0.93849206, 0.94761905]),\n",
       " 'train_roc_auc': array([1., 1., 1., 1., 1., 1., 1., 1., 1., 1.])}"
      ]
     },
     "execution_count": 26,
     "metadata": {},
     "output_type": "execute_result"
    }
   ],
   "source": [
    "# decision tree\n",
    "#decision_tree(x_train,x_test,y_train,y_test)\n",
    "decision_tree(X,Y)"
   ]
  },
  {
   "cell_type": "code",
   "execution_count": 27,
   "id": "7fa61cd9-086d-4a6d-a2c6-247bb60f49ca",
   "metadata": {},
   "outputs": [
    {
     "data": {
      "text/plain": [
       "{'fit_time': array([0.00851393, 0.00681591, 0.00646114, 0.00605798, 0.00568604,\n",
       "        0.00606918, 0.0066812 , 0.00598979, 0.0066011 , 0.00611615]),\n",
       " 'score_time': array([0.00487685, 0.00376201, 0.00373888, 0.00358677, 0.00365806,\n",
       "        0.00378513, 0.00359702, 0.00406718, 0.00396705, 0.00362802]),\n",
       " 'test_accuracy': array([0.96491228, 0.94736842, 0.98245614, 0.9122807 , 0.92982456,\n",
       "        0.96491228, 0.92982456, 0.98245614, 1.        , 0.92857143]),\n",
       " 'train_accuracy': array([0.95898438, 0.95703125, 0.953125  , 0.96484375, 0.96289062,\n",
       "        0.95507812, 0.95703125, 0.95507812, 0.95507812, 0.96296296]),\n",
       " 'test_precision': array([0.95454545, 1.        , 1.        , 0.9       , 0.9047619 ,\n",
       "        1.        , 0.9047619 , 1.        , 1.        , 0.9047619 ]),\n",
       " 'train_precision': array([0.96174863, 0.9516129 , 0.94652406, 0.9726776 , 0.9673913 ,\n",
       "        0.9516129 , 0.95187166, 0.95652174, 0.9516129 , 0.96236559]),\n",
       " 'test_recall': array([0.95454545, 0.86363636, 0.95238095, 0.85714286, 0.9047619 ,\n",
       "        0.9047619 , 0.9047619 , 0.95238095, 1.        , 0.9047619 ]),\n",
       " 'train_recall': array([0.92631579, 0.93157895, 0.92670157, 0.93193717, 0.93193717,\n",
       "        0.92670157, 0.93193717, 0.92146597, 0.92670157, 0.93717277]),\n",
       " 'test_f1': array([0.95454545, 0.92682927, 0.97560976, 0.87804878, 0.9047619 ,\n",
       "        0.95      , 0.9047619 , 0.97560976, 1.        , 0.9047619 ]),\n",
       " 'train_f1': array([0.94369973, 0.94148936, 0.93650794, 0.95187166, 0.94933333,\n",
       "        0.93899204, 0.94179894, 0.93866667, 0.93899204, 0.94960212]),\n",
       " 'test_roc_auc': array([0.98961039, 0.9961039 , 0.97751323, 0.98544974, 0.98544974,\n",
       "        0.99867725, 0.98412698, 0.98412698, 1.        , 0.99319728]),\n",
       " 'train_roc_auc': array([0.99217064, 0.9923341 , 0.9919101 , 0.99342695, 0.9930192 ,\n",
       "        0.99189379, 0.9936553 , 0.9933454 , 0.99173068, 0.99240675])}"
      ]
     },
     "execution_count": 27,
     "metadata": {},
     "output_type": "execute_result"
    }
   ],
   "source": [
    "# svm\n",
    "#svm(x_train,x_test,y_train,y_test,0.001)\n",
    "svm(X,Y,0.001)"
   ]
  },
  {
   "cell_type": "code",
   "execution_count": 28,
   "id": "5f49aa41-50e0-4c8d-9e53-e7d9e2c56e45",
   "metadata": {},
   "outputs": [
    {
     "data": {
      "text/plain": [
       "{'fit_time': array([0.16954303, 0.16697717, 0.16718793, 0.16753387, 0.16661811,\n",
       "        0.16650009, 0.16641688, 0.16662574, 0.1671629 , 0.16692185]),\n",
       " 'score_time': array([0.01539993, 0.01510096, 0.01518798, 0.01512098, 0.01498795,\n",
       "        0.01503181, 0.01502419, 0.01495218, 0.0152812 , 0.01506734]),\n",
       " 'test_accuracy': array([0.96491228, 0.98245614, 0.98245614, 0.94736842, 0.98245614,\n",
       "        0.98245614, 0.98245614, 0.94736842, 0.94736842, 0.98214286]),\n",
       " 'train_accuracy': array([1., 1., 1., 1., 1., 1., 1., 1., 1., 1.]),\n",
       " 'test_precision': array([0.95454545, 1.        , 1.        , 0.95      , 1.        ,\n",
       "        1.        , 1.        , 0.95      , 0.95      , 0.95454545]),\n",
       " 'train_precision': array([1., 1., 1., 1., 1., 1., 1., 1., 1., 1.]),\n",
       " 'test_recall': array([0.95454545, 0.95454545, 0.95238095, 0.9047619 , 0.95238095,\n",
       "        0.95238095, 0.95238095, 0.9047619 , 0.9047619 , 1.        ]),\n",
       " 'train_recall': array([1., 1., 1., 1., 1., 1., 1., 1., 1., 1.]),\n",
       " 'test_f1': array([0.95454545, 0.97674419, 0.97560976, 0.92682927, 0.97560976,\n",
       "        0.97560976, 0.97560976, 0.92682927, 0.92682927, 0.97674419]),\n",
       " 'train_f1': array([1., 1., 1., 1., 1., 1., 1., 1., 1., 1.]),\n",
       " 'test_roc_auc': array([0.9987013 , 1.        , 1.        , 0.96164021, 0.98941799,\n",
       "        0.99206349, 0.99470899, 0.98015873, 0.98677249, 0.99727891]),\n",
       " 'train_roc_auc': array([1., 1., 1., 1., 1., 1., 1., 1., 1., 1.])}"
      ]
     },
     "execution_count": 28,
     "metadata": {},
     "output_type": "execute_result"
    }
   ],
   "source": [
    "#adaboost(x_train,x_test,y_train,y_test)\n",
    "adaboost(X,Y)"
   ]
  },
  {
   "cell_type": "code",
   "execution_count": 29,
   "id": "f5ce4d35-85b4-4f17-97ca-72d6bb21bb15",
   "metadata": {},
   "outputs": [
    {
     "data": {
      "text/plain": [
       "{'fit_time': array([0.0853579 , 0.08226204, 0.08298492, 0.08229208, 0.08250999,\n",
       "        0.08231592, 0.08229113, 0.08229303, 0.08249211, 0.08323812]),\n",
       " 'score_time': array([0.01145792, 0.01112008, 0.01118183, 0.01107216, 0.01115084,\n",
       "        0.01103115, 0.01101899, 0.01100898, 0.01115823, 0.01107693]),\n",
       " 'test_accuracy': array([0.94736842, 0.92982456, 0.98245614, 0.9122807 , 0.94736842,\n",
       "        0.94736842, 0.96491228, 0.96491228, 0.94736842, 0.92857143]),\n",
       " 'train_accuracy': array([0.96289062, 0.96484375, 0.95898438, 0.96289062, 0.9609375 ,\n",
       "        0.95703125, 0.95898438, 0.95703125, 0.95703125, 0.96101365]),\n",
       " 'test_precision': array([0.95238095, 0.95      , 1.        , 0.94444444, 0.95      ,\n",
       "        0.90909091, 1.        , 1.        , 0.90909091, 0.86956522]),\n",
       " 'train_precision': array([0.97237569, 0.9673913 , 0.96703297, 0.96236559, 0.95238095,\n",
       "        0.96174863, 0.95698925, 0.96174863, 0.95675676, 0.96721311]),\n",
       " 'test_recall': array([0.90909091, 0.86363636, 0.95238095, 0.80952381, 0.9047619 ,\n",
       "        0.95238095, 0.9047619 , 0.9047619 , 0.95238095, 0.95238095]),\n",
       " 'train_recall': array([0.92631579, 0.93684211, 0.92146597, 0.93717277, 0.94240838,\n",
       "        0.92146597, 0.93193717, 0.92146597, 0.92670157, 0.92670157]),\n",
       " 'test_f1': array([0.93023256, 0.9047619 , 0.97560976, 0.87179487, 0.92682927,\n",
       "        0.93023256, 0.95      , 0.95      , 0.93023256, 0.90909091]),\n",
       " 'train_f1': array([0.94878706, 0.95187166, 0.94369973, 0.94960212, 0.94736842,\n",
       "        0.94117647, 0.94429708, 0.94117647, 0.94148936, 0.94652406]),\n",
       " 'test_roc_auc': array([0.99480519, 0.98701299, 0.99338624, 0.97486772, 0.98941799,\n",
       "        0.98941799, 0.95767196, 0.99206349, 0.99206349, 0.9877551 ]),\n",
       " 'train_roc_auc': array([0.99235044, 0.99275907, 0.99199165, 0.99248096, 0.99166544,\n",
       "        0.99162467, 0.99372869, 0.99178777, 0.99041771, 0.99215473])}"
      ]
     },
     "execution_count": 29,
     "metadata": {},
     "output_type": "execute_result"
    }
   ],
   "source": [
    "#random_forest(x_train,x_test,y_train,y_test)\n",
    "random_forest(X,Y)"
   ]
  },
  {
   "cell_type": "markdown",
   "id": "c08c3355-9a95-429d-b37f-60f0671e17bf",
   "metadata": {},
   "source": [
    "#### DataSet 2 Training and Evaluation"
   ]
  },
  {
   "cell_type": "code",
   "execution_count": 30,
   "id": "6f08d099-f1c1-42e3-9166-39fcdae9ae99",
   "metadata": {},
   "outputs": [
    {
     "data": {
      "text/plain": [
       "{'fit_time': array([0.00190115, 0.00212908, 0.00210404, 0.00188708, 0.00173807,\n",
       "        0.00186491, 0.00176215, 0.00171804, 0.00198388, 0.00171089]),\n",
       " 'score_time': array([0.00174999, 0.00231981, 0.00210309, 0.00169897, 0.00165081,\n",
       "        0.00170803, 0.00166392, 0.00163412, 0.00163293, 0.00162196]),\n",
       " 'test_accuracy': array([0.65957447, 0.65957447, 0.65217391, 0.65217391, 0.65217391,\n",
       "        0.65217391, 0.65217391, 0.65217391, 0.65217391, 0.65217391]),\n",
       " 'train_accuracy': array([0.65301205, 0.65301205, 0.65384615, 0.65384615, 0.65384615,\n",
       "        0.65384615, 0.65384615, 0.65384615, 0.65384615, 0.65384615]),\n",
       " 'test_precision': array([0., 0., 0., 0., 0., 0., 0., 0., 0., 0.]),\n",
       " 'train_precision': array([0., 0., 0., 0., 0., 0., 0., 0., 0., 0.]),\n",
       " 'test_recall': array([0., 0., 0., 0., 0., 0., 0., 0., 0., 0.]),\n",
       " 'train_recall': array([0., 0., 0., 0., 0., 0., 0., 0., 0., 0.]),\n",
       " 'test_f1': array([0., 0., 0., 0., 0., 0., 0., 0., 0., 0.]),\n",
       " 'train_f1': array([0., 0., 0., 0., 0., 0., 0., 0., 0., 0.]),\n",
       " 'test_roc_auc': array([0.77822581, 0.82258065, 0.87708333, 0.79583333, 0.77708333,\n",
       "        0.70833333, 0.72916667, 0.71458333, 0.66666667, 0.73541667]),\n",
       " 'train_roc_auc': array([0.76737392, 0.76319701, 0.75860396, 0.76608456, 0.76723346,\n",
       "        0.77537786, 0.76940359, 0.77009293, 0.77611826, 0.77042484])}"
      ]
     },
     "execution_count": 30,
     "metadata": {},
     "output_type": "execute_result"
    }
   ],
   "source": [
    "#import warnings\n",
    "warnings.filterwarnings('ignore')\n",
    "logistic_regression(X2,Y2,10**-5) # weak regularization leads to overfitting\n",
    "# Warning is due to overfitting: https://github.com/Berkeley-Data/hpt/issues/52#issuecomment-803665466\n",
    "# Suppressed warning according to: https://stackoverflow.com/questions/43162506/undefinedmetricwarning-f-score-is-ill-defined-and-being-set-to-0-0-in-labels-wi"
   ]
  },
  {
   "cell_type": "code",
   "execution_count": 31,
   "id": "06275906-4215-4a65-baaa-d2f2857b0ea5",
   "metadata": {},
   "outputs": [],
   "source": [
    "warnings.filterwarnings('always')"
   ]
  },
  {
   "cell_type": "code",
   "execution_count": 32,
   "id": "df6cea36-5c4e-46a4-ad1c-b2b7c70dfdb6",
   "metadata": {},
   "outputs": [
    {
     "data": {
      "text/plain": [
       "{'fit_time': array([0.00187492, 0.00241518, 0.00179195, 0.00178313, 0.00164509,\n",
       "        0.00163889, 0.0016551 , 0.00170541, 0.00172496, 0.00177932]),\n",
       " 'score_time': array([0.00183725, 0.0018189 , 0.00187206, 0.00169182, 0.00162411,\n",
       "        0.00172114, 0.00162792, 0.00161886, 0.00162816, 0.00160789]),\n",
       " 'test_accuracy': array([0.74468085, 0.70212766, 0.7173913 , 0.73913043, 0.63043478,\n",
       "        0.7173913 , 0.7826087 , 0.73913043, 0.67391304, 0.7173913 ]),\n",
       " 'train_accuracy': array([0.73493976, 0.73493976, 0.73798077, 0.73798077, 0.74038462,\n",
       "        0.75240385, 0.72836538, 0.74038462, 0.74038462, 0.73798077]),\n",
       " 'test_precision': array([0.6       , 0.58333333, 0.58823529, 0.625     , 0.45454545,\n",
       "        0.66666667, 0.8       , 0.64285714, 0.54545455, 0.61538462]),\n",
       " 'train_precision': array([0.6440678 , 0.64166667, 0.64957265, 0.65486726, 0.65789474,\n",
       "        0.67521368, 0.6302521 , 0.65517241, 0.64516129, 0.64957265]),\n",
       " 'test_recall': array([0.75  , 0.4375, 0.625 , 0.625 , 0.3125, 0.375 , 0.5   , 0.5625,\n",
       "        0.375 , 0.5   ]),\n",
       " 'train_recall': array([0.52777778, 0.53472222, 0.52777778, 0.51388889, 0.52083333,\n",
       "        0.54861111, 0.52083333, 0.52777778, 0.55555556, 0.52777778]),\n",
       " 'test_f1': array([0.66666667, 0.5       , 0.60606061, 0.625     , 0.37037037,\n",
       "        0.48      , 0.61538462, 0.6       , 0.44444444, 0.55172414]),\n",
       " 'train_f1': array([0.58015267, 0.58333333, 0.58237548, 0.57587549, 0.58139535,\n",
       "        0.60536398, 0.57034221, 0.58461538, 0.59701493, 0.58237548]),\n",
       " 'test_roc_auc': array([0.78830645, 0.83870968, 0.83125   , 0.81666667, 0.775     ,\n",
       "        0.74166667, 0.74375   , 0.76666667, 0.68958333, 0.75625   ]),\n",
       " 'train_roc_auc': array([0.79551046, 0.79053916, 0.78827104, 0.79120711, 0.7976154 ,\n",
       "        0.80034722, 0.79861111, 0.79667075, 0.80315564, 0.79585376])}"
      ]
     },
     "execution_count": 32,
     "metadata": {},
     "output_type": "execute_result"
    }
   ],
   "source": [
    "logistic_regression(X2,Y2,5)  # right amount of regularization improves perfomance "
   ]
  },
  {
   "cell_type": "code",
   "execution_count": 33,
   "id": "703b45fe-797f-4398-b43e-46201463c740",
   "metadata": {},
   "outputs": [
    {
     "data": {
      "text/plain": [
       "{'fit_time': array([0.00219321, 0.00217485, 0.0018518 , 0.00193095, 0.00178289,\n",
       "        0.00173283, 0.00162387, 0.0016861 , 0.00161982, 0.00188994]),\n",
       " 'score_time': array([0.00204086, 0.00198412, 0.00166607, 0.00197387, 0.0016489 ,\n",
       "        0.00163913, 0.00163507, 0.00163078, 0.00161004, 0.00161004]),\n",
       " 'test_accuracy': array([0.74468085, 0.70212766, 0.7173913 , 0.73913043, 0.63043478,\n",
       "        0.7173913 , 0.7826087 , 0.73913043, 0.67391304, 0.7173913 ]),\n",
       " 'train_accuracy': array([0.73493976, 0.7373494 , 0.73798077, 0.73798077, 0.74038462,\n",
       "        0.75240385, 0.72836538, 0.74038462, 0.74038462, 0.73798077]),\n",
       " 'test_precision': array([0.6       , 0.58333333, 0.58823529, 0.625     , 0.45454545,\n",
       "        0.66666667, 0.8       , 0.64285714, 0.54545455, 0.61538462]),\n",
       " 'train_precision': array([0.6440678 , 0.6446281 , 0.64957265, 0.65486726, 0.65789474,\n",
       "        0.67521368, 0.6302521 , 0.65517241, 0.64516129, 0.64957265]),\n",
       " 'test_recall': array([0.75  , 0.4375, 0.625 , 0.625 , 0.3125, 0.375 , 0.5   , 0.5625,\n",
       "        0.375 , 0.5   ]),\n",
       " 'train_recall': array([0.52777778, 0.54166667, 0.52777778, 0.51388889, 0.52083333,\n",
       "        0.54861111, 0.52083333, 0.52777778, 0.55555556, 0.52777778]),\n",
       " 'test_f1': array([0.66666667, 0.5       , 0.60606061, 0.625     , 0.37037037,\n",
       "        0.48      , 0.61538462, 0.6       , 0.44444444, 0.55172414]),\n",
       " 'train_f1': array([0.58015267, 0.58867925, 0.58237548, 0.57587549, 0.58139535,\n",
       "        0.60536398, 0.57034221, 0.58461538, 0.59701493, 0.58237548]),\n",
       " 'test_roc_auc': array([0.78830645, 0.83870968, 0.83125   , 0.81666667, 0.775     ,\n",
       "        0.74166667, 0.74375   , 0.76666667, 0.68958333, 0.75833333]),\n",
       " 'train_roc_auc': array([0.79540795, 0.7904879 , 0.78839869, 0.79118158, 0.79753881,\n",
       "        0.80044935, 0.79866217, 0.79672181, 0.80307904, 0.79587929])}"
      ]
     },
     "execution_count": 33,
     "metadata": {},
     "output_type": "execute_result"
    }
   ],
   "source": [
    "logistic_regression(X2,Y2,20, max_iter=300)  # too strong regularization leads to underfitting\n",
    "# Rishabh - I had to increase max_iter because the model wasn't converging earlier\n",
    "# https://stackoverflow.com/questions/62658215/convergencewarning-lbfgs-failed-to-converge-status-1-stop-total-no-of-iter\n",
    "# TODO: Should we increase max_iter for all cases?"
   ]
  },
  {
   "cell_type": "code",
   "execution_count": 34,
   "id": "188e0906-b1f1-44d9-919e-52f47d7034b4",
   "metadata": {},
   "outputs": [
    {
     "data": {
      "text/plain": [
       "{'fit_time': array([0.00057983, 0.00036788, 0.00036097, 0.00033975, 0.00032902,\n",
       "        0.00032091, 0.00032067, 0.00032115, 0.00032473, 0.00031996]),\n",
       " 'score_time': array([0.00722909, 0.00306201, 0.00299811, 0.00301433, 0.003088  ,\n",
       "        0.0029161 , 0.00294018, 0.0029428 , 0.002913  , 0.00292492]),\n",
       " 'test_accuracy': array([0.61702128, 0.70212766, 0.69565217, 0.7173913 , 0.63043478,\n",
       "        0.60869565, 0.69565217, 0.69565217, 0.60869565, 0.63043478]),\n",
       " 'train_accuracy': array([1., 1., 1., 1., 1., 1., 1., 1., 1., 1.]),\n",
       " 'test_precision': array([0.45454545, 0.54545455, 0.625     , 0.61538462, 0.45454545,\n",
       "        0.4375    , 1.        , 0.57142857, 0.41666667, 0.47058824]),\n",
       " 'train_precision': array([1., 1., 1., 1., 1., 1., 1., 1., 1., 1.]),\n",
       " 'test_recall': array([0.625 , 0.75  , 0.3125, 0.5   , 0.3125, 0.4375, 0.125 , 0.5   ,\n",
       "        0.3125, 0.5   ]),\n",
       " 'train_recall': array([1., 1., 1., 1., 1., 1., 1., 1., 1., 1.]),\n",
       " 'test_f1': array([0.52631579, 0.63157895, 0.41666667, 0.55172414, 0.37037037,\n",
       "        0.4375    , 0.22222222, 0.53333333, 0.35714286, 0.48484848]),\n",
       " 'train_f1': array([1., 1., 1., 1., 1., 1., 1., 1., 1., 1.]),\n",
       " 'test_roc_auc': array([0.61895161, 0.71370968, 0.60625   , 0.66666667, 0.55625   ,\n",
       "        0.56875   , 0.5625    , 0.65      , 0.53958333, 0.6       ]),\n",
       " 'train_roc_auc': array([1., 1., 1., 1., 1., 1., 1., 1., 1., 1.])}"
      ]
     },
     "execution_count": 34,
     "metadata": {},
     "output_type": "execute_result"
    }
   ],
   "source": [
    "knn(X2,Y2,1) # 1 neighbor would give perfect accuracy for training set, overfitting"
   ]
  },
  {
   "cell_type": "code",
   "execution_count": 35,
   "id": "1b1b8d5c-e868-4d3d-8a50-47e8cc3bd914",
   "metadata": {},
   "outputs": [
    {
     "data": {
      "text/plain": [
       "{'fit_time': array([0.00055122, 0.00036693, 0.00036025, 0.00034308, 0.00032473,\n",
       "        0.00032425, 0.00032783, 0.00032115, 0.00032187, 0.00032091]),\n",
       " 'score_time': array([0.0036869 , 0.00329208, 0.00311685, 0.00307393, 0.00304222,\n",
       "        0.00306368, 0.00304317, 0.00302792, 0.003016  , 0.00302911]),\n",
       " 'test_accuracy': array([0.57446809, 0.63829787, 0.73913043, 0.73913043, 0.67391304,\n",
       "        0.63043478, 0.69565217, 0.69565217, 0.67391304, 0.67391304]),\n",
       " 'train_accuracy': array([0.80240964, 0.78554217, 0.79326923, 0.79807692, 0.80288462,\n",
       "        0.8125    , 0.79807692, 0.79807692, 0.80048077, 0.79086538]),\n",
       " 'test_precision': array([0.40909091, 0.47058824, 0.75      , 0.625     , 0.54545455,\n",
       "        0.45454545, 0.75      , 0.58333333, 0.55555556, 0.52941176]),\n",
       " 'train_precision': array([0.74603175, 0.72727273, 0.73387097, 0.75423729, 0.75833333,\n",
       "        0.7704918 , 0.74193548, 0.74193548, 0.744     , 0.73553719]),\n",
       " 'test_recall': array([0.5625, 0.5   , 0.375 , 0.625 , 0.375 , 0.3125, 0.1875, 0.4375,\n",
       "        0.3125, 0.5625]),\n",
       " 'train_recall': array([0.65277778, 0.61111111, 0.63194444, 0.61805556, 0.63194444,\n",
       "        0.65277778, 0.63888889, 0.63888889, 0.64583333, 0.61805556]),\n",
       " 'test_f1': array([0.47368421, 0.48484848, 0.5       , 0.625     , 0.44444444,\n",
       "        0.37037037, 0.3       , 0.5       , 0.4       , 0.54545455]),\n",
       " 'train_f1': array([0.6962963 , 0.66415094, 0.67910448, 0.67938931, 0.68939394,\n",
       "        0.70676692, 0.68656716, 0.68656716, 0.69144981, 0.67169811]),\n",
       " 'test_roc_auc': array([0.68649194, 0.625     , 0.70625   , 0.72916667, 0.57291667,\n",
       "        0.62291667, 0.696875  , 0.71666667, 0.65208333, 0.61979167]),\n",
       " 'train_roc_auc': array([0.8922458 , 0.87544844, 0.87932751, 0.87771906, 0.88830167,\n",
       "        0.89338235, 0.88153595, 0.87974877, 0.88019557, 0.87801266])}"
      ]
     },
     "execution_count": 35,
     "metadata": {},
     "output_type": "execute_result"
    }
   ],
   "source": [
    "knn(X2,Y2,3) # 5 neighbors seems to generalize well"
   ]
  },
  {
   "cell_type": "code",
   "execution_count": 36,
   "id": "fd2f5b0d-a412-468c-96cb-602da71bf81d",
   "metadata": {},
   "outputs": [
    {
     "data": {
      "text/plain": [
       "{'fit_time': array([0.00052214, 0.00037193, 0.00034404, 0.00033402, 0.00033164,\n",
       "        0.00033188, 0.00033402, 0.00033474, 0.00033379, 0.00033379]),\n",
       " 'score_time': array([0.00469017, 0.00459027, 0.00434303, 0.00437593, 0.00438237,\n",
       "        0.00437593, 0.00437999, 0.00436521, 0.00434017, 0.00436711]),\n",
       " 'test_accuracy': array([0.68085106, 0.72340426, 0.7173913 , 0.67391304, 0.65217391,\n",
       "        0.63043478, 0.67391304, 0.69565217, 0.73913043, 0.69565217]),\n",
       " 'train_accuracy': array([0.71325301, 0.69638554, 0.67788462, 0.69951923, 0.70673077,\n",
       "        0.70673077, 0.70673077, 0.70913462, 0.69471154, 0.69711538]),\n",
       " 'test_precision': array([0.66666667, 0.8       , 1.        , 0.6       , 0.5       ,\n",
       "        0.        , 1.        , 0.75      , 1.        , 0.75      ]),\n",
       " 'train_precision': array([0.83783784, 0.71428571, 0.85714286, 0.80645161, 0.86666667,\n",
       "        0.78947368, 0.75      , 0.81081081, 0.81481481, 0.82142857]),\n",
       " 'test_recall': array([0.125 , 0.25  , 0.1875, 0.1875, 0.0625, 0.    , 0.0625, 0.1875,\n",
       "        0.25  , 0.1875]),\n",
       " 'train_recall': array([0.21527778, 0.20833333, 0.08333333, 0.17361111, 0.18055556,\n",
       "        0.20833333, 0.22916667, 0.20833333, 0.15277778, 0.15972222]),\n",
       " 'test_f1': array([0.21052632, 0.38095238, 0.31578947, 0.28571429, 0.11111111,\n",
       "        0.        , 0.11764706, 0.3       , 0.4       , 0.3       ]),\n",
       " 'train_f1': array([0.34254144, 0.32258065, 0.15189873, 0.28571429, 0.29885057,\n",
       "        0.32967033, 0.35106383, 0.33149171, 0.25730994, 0.26744186]),\n",
       " 'test_roc_auc': array([0.80947581, 0.82762097, 0.87916667, 0.8       , 0.7625    ,\n",
       "        0.71145833, 0.7625    , 0.715625  , 0.68125   , 0.74375   ]),\n",
       " 'train_roc_auc': array([0.77943061, 0.76982114, 0.76956955, 0.77357792, 0.78132659,\n",
       "        0.78285846, 0.78044577, 0.78007557, 0.78529667, 0.77985856])}"
      ]
     },
     "execution_count": 36,
     "metadata": {},
     "output_type": "execute_result"
    }
   ],
   "source": [
    "knn(X2,Y2,100) # 100 neighbors will lead to underfitting"
   ]
  },
  {
   "cell_type": "code",
   "execution_count": 37,
   "id": "dd4dc5b9-843c-4846-9e94-49212afd127a",
   "metadata": {},
   "outputs": [
    {
     "data": {
      "text/plain": [
       "{'fit_time': array([0.00277591, 0.00271392, 0.00283504, 0.00241208, 0.00250292,\n",
       "        0.0023191 , 0.00231194, 0.0024519 , 0.00238705, 0.00226784]),\n",
       " 'score_time': array([0.00347996, 0.00320411, 0.00343275, 0.00306821, 0.00315404,\n",
       "        0.00306082, 0.0030489 , 0.00305414, 0.00307202, 0.00304508]),\n",
       " 'test_accuracy': array([0.57446809, 0.68085106, 0.65217391, 0.45652174, 0.60869565,\n",
       "        0.60869565, 0.60869565, 0.63043478, 0.65217391, 0.65217391]),\n",
       " 'train_accuracy': array([1., 1., 1., 1., 1., 1., 1., 1., 1., 1.]),\n",
       " 'test_precision': array([0.38888889, 0.53846154, 0.5       , 0.23529412, 0.44444444,\n",
       "        0.42857143, 0.4375    , 0.47058824, 0.5       , 0.5       ]),\n",
       " 'train_precision': array([1., 1., 1., 1., 1., 1., 1., 1., 1., 1.]),\n",
       " 'test_recall': array([0.4375, 0.4375, 0.4375, 0.25  , 0.5   , 0.375 , 0.4375, 0.5   ,\n",
       "        0.4375, 0.375 ]),\n",
       " 'train_recall': array([1., 1., 1., 1., 1., 1., 1., 1., 1., 1.]),\n",
       " 'test_f1': array([0.41176471, 0.48275862, 0.46666667, 0.24242424, 0.47058824,\n",
       "        0.4       , 0.4375    , 0.48484848, 0.46666667, 0.42857143]),\n",
       " 'train_f1': array([1., 1., 1., 1., 1., 1., 1., 1., 1., 1.]),\n",
       " 'test_roc_auc': array([0.54133065, 0.62197581, 0.60208333, 0.40833333, 0.58333333,\n",
       "        0.55416667, 0.56875   , 0.6       , 0.60208333, 0.5875    ]),\n",
       " 'train_roc_auc': array([1., 1., 1., 1., 1., 1., 1., 1., 1., 1.])}"
      ]
     },
     "execution_count": 37,
     "metadata": {},
     "output_type": "execute_result"
    }
   ],
   "source": [
    "# decision tree\n",
    "#decision_tree(x_train,x_test,y_train,y_test)\n",
    "decision_tree(X2,Y2)"
   ]
  },
  {
   "cell_type": "code",
   "execution_count": 38,
   "id": "b8bd38e0-67a7-48bd-968b-75c3fde79b24",
   "metadata": {},
   "outputs": [
    {
     "data": {
      "text/plain": [
       "{'fit_time': array([0.02203703, 0.0216949 , 0.02450514, 0.01970601, 0.02295089,\n",
       "        0.02301812, 0.02016377, 0.02209902, 0.01975393, 0.02273917]),\n",
       " 'score_time': array([0.0060401 , 0.00510597, 0.00499511, 0.00491619, 0.00485492,\n",
       "        0.00485969, 0.00491309, 0.00496888, 0.00479484, 0.00482368]),\n",
       " 'test_accuracy': array([0.65957447, 0.80851064, 0.80434783, 0.73913043, 0.67391304,\n",
       "        0.7173913 , 0.86956522, 0.76086957, 0.65217391, 0.63043478]),\n",
       " 'train_accuracy': array([0.80240964, 0.78795181, 0.78846154, 0.79326923, 0.81490385,\n",
       "        0.80288462, 0.78125   , 0.79326923, 0.81009615, 0.80048077]),\n",
       " 'test_precision': array([0.5       , 0.73333333, 0.76923077, 0.64285714, 0.55555556,\n",
       "        0.71428571, 1.        , 0.72727273, 0.5       , 0.42857143]),\n",
       " 'train_precision': array([0.79245283, 0.74561404, 0.75925926, 0.78431373, 0.78151261,\n",
       "        0.75833333, 0.73451327, 0.76363636, 0.77310924, 0.7699115 ]),\n",
       " 'test_recall': array([0.625 , 0.6875, 0.625 , 0.5625, 0.3125, 0.3125, 0.625 , 0.5   ,\n",
       "        0.375 , 0.1875]),\n",
       " 'train_recall': array([0.58333333, 0.59027778, 0.56944444, 0.55555556, 0.64583333,\n",
       "        0.63194444, 0.57638889, 0.58333333, 0.63888889, 0.60416667]),\n",
       " 'test_f1': array([0.55555556, 0.70967742, 0.68965517, 0.6       , 0.4       ,\n",
       "        0.43478261, 0.76923077, 0.59259259, 0.42857143, 0.26086957]),\n",
       " 'train_f1': array([0.672     , 0.65891473, 0.65079365, 0.6504065 , 0.70722433,\n",
       "        0.68939394, 0.6459144 , 0.66141732, 0.69961977, 0.6770428 ]),\n",
       " 'test_roc_auc': array([0.74193548, 0.88508065, 0.83125   , 0.75208333, 0.65416667,\n",
       "        0.76458333, 0.79583333, 0.75625   , 0.66041667, 0.625     ]),\n",
       " 'train_roc_auc': array([0.85196289, 0.84240467, 0.83358864, 0.8430096 , 0.8589665 ,\n",
       "        0.84180964, 0.84007353, 0.84487337, 0.86103452, 0.8515625 ])}"
      ]
     },
     "execution_count": 38,
     "metadata": {},
     "output_type": "execute_result"
    }
   ],
   "source": [
    "# svm\n",
    "#svm(x_train,x_test,y_train,y_test,0.001)\n",
    "svm(X2,Y2,0.001)"
   ]
  },
  {
   "cell_type": "code",
   "execution_count": 39,
   "id": "d75fe246-af96-49b7-a5be-a00904f53a20",
   "metadata": {},
   "outputs": [
    {
     "data": {
      "text/plain": [
       "{'fit_time': array([0.07746696, 0.07737875, 0.0775218 , 0.07684183, 0.07675815,\n",
       "        0.07670999, 0.07677817, 0.07802796, 0.07670617, 0.07661414]),\n",
       " 'score_time': array([0.0151    , 0.01548529, 0.0147469 , 0.01467919, 0.01469398,\n",
       "        0.01464796, 0.01510787, 0.01479602, 0.01552391, 0.01453686]),\n",
       " 'test_accuracy': array([0.59574468, 0.63829787, 0.65217391, 0.63043478, 0.52173913,\n",
       "        0.67391304, 0.69565217, 0.65217391, 0.69565217, 0.67391304]),\n",
       " 'train_accuracy': array([0.85060241, 0.86506024, 0.85336538, 0.87740385, 0.86298077,\n",
       "        0.87740385, 0.85336538, 0.84615385, 0.87259615, 0.86538462]),\n",
       " 'test_precision': array([0.4       , 0.47619048, 0.5       , 0.47368421, 0.28571429,\n",
       "        0.55555556, 0.58333333, 0.5       , 0.58333333, 0.57142857]),\n",
       " 'train_precision': array([0.80597015, 0.86065574, 0.82170543, 0.88429752, 0.84251969,\n",
       "        0.83941606, 0.81203008, 0.78985507, 0.85826772, 0.83846154]),\n",
       " 'test_recall': array([0.375 , 0.625 , 0.4375, 0.5625, 0.25  , 0.3125, 0.4375, 0.375 ,\n",
       "        0.4375, 0.25  ]),\n",
       " 'train_recall': array([0.75      , 0.72916667, 0.73611111, 0.74305556, 0.74305556,\n",
       "        0.79861111, 0.75      , 0.75694444, 0.75694444, 0.75694444]),\n",
       " 'test_f1': array([0.38709677, 0.54054054, 0.46666667, 0.51428571, 0.26666667,\n",
       "        0.4       , 0.5       , 0.42857143, 0.5       , 0.34782609]),\n",
       " 'train_f1': array([0.77697842, 0.78947368, 0.77655678, 0.80754717, 0.7896679 ,\n",
       "        0.81850534, 0.77978339, 0.77304965, 0.80442804, 0.79562044]),\n",
       " 'test_roc_auc': array([0.67540323, 0.70766129, 0.72291667, 0.62916667, 0.58333333,\n",
       "        0.61666667, 0.72083333, 0.61041667, 0.675     , 0.69583333]),\n",
       " 'train_roc_auc': array([0.93888376, 0.94482882, 0.93905739, 0.94401042, 0.95805249,\n",
       "        0.95570364, 0.94089563, 0.94115094, 0.95141442, 0.94279769])}"
      ]
     },
     "execution_count": 39,
     "metadata": {},
     "output_type": "execute_result"
    }
   ],
   "source": [
    "#adaboost(x_train,x_test,y_train,y_test)\n",
    "adaboost(X2,Y2)"
   ]
  },
  {
   "cell_type": "code",
   "execution_count": 40,
   "id": "35e08b8c-af2f-481a-8e80-355cdf0efa60",
   "metadata": {},
   "outputs": [
    {
     "data": {
      "text/plain": [
       "{'fit_time': array([0.07062721, 0.06813478, 0.06928897, 0.06853294, 0.06882691,\n",
       "        0.06925988, 0.06884289, 0.06789303, 0.06789613, 0.06750584]),\n",
       " 'score_time': array([0.01136684, 0.01126599, 0.01143289, 0.01125884, 0.011379  ,\n",
       "        0.01154709, 0.01125002, 0.01106405, 0.0109489 , 0.01092315]),\n",
       " 'test_accuracy': array([0.72340426, 0.72340426, 0.76086957, 0.67391304, 0.69565217,\n",
       "        0.69565217, 0.63043478, 0.67391304, 0.76086957, 0.73913043]),\n",
       " 'train_accuracy': array([0.74457831, 0.74939759, 0.75721154, 0.75721154, 0.74759615,\n",
       "        0.74519231, 0.74278846, 0.74519231, 0.75480769, 0.76682692]),\n",
       " 'test_precision': array([0.63636364, 0.71428571, 0.77777778, 0.54545455, 0.75      ,\n",
       "        0.66666667, 0.33333333, 0.57142857, 0.85714286, 0.83333333]),\n",
       " 'train_precision': array([0.796875  , 0.8125    , 0.79452055, 0.83076923, 0.80952381,\n",
       "        0.77941176, 0.76056338, 0.80645161, 0.81818182, 0.85074627]),\n",
       " 'test_recall': array([0.4375, 0.3125, 0.4375, 0.375 , 0.1875, 0.25  , 0.0625, 0.25  ,\n",
       "        0.375 , 0.3125]),\n",
       " 'train_recall': array([0.35416667, 0.36111111, 0.40277778, 0.375     , 0.35416667,\n",
       "        0.36805556, 0.375     , 0.34722222, 0.375     , 0.39583333]),\n",
       " 'test_f1': array([0.51851852, 0.43478261, 0.56      , 0.44444444, 0.3       ,\n",
       "        0.36363636, 0.10526316, 0.34782609, 0.52173913, 0.45454545]),\n",
       " 'train_f1': array([0.49038462, 0.5       , 0.53456221, 0.51674641, 0.49275362,\n",
       "        0.5       , 0.50232558, 0.48543689, 0.51428571, 0.54028436]),\n",
       " 'test_roc_auc': array([0.79233871, 0.78427419, 0.82083333, 0.80208333, 0.78333333,\n",
       "        0.71041667, 0.72291667, 0.68333333, 0.70416667, 0.74583333]),\n",
       " 'train_roc_auc': array([0.81750974, 0.81597222, 0.81381485, 0.82201031, 0.8236443 ,\n",
       "        0.83435458, 0.82192096, 0.83074193, 0.82932496, 0.82838031])}"
      ]
     },
     "execution_count": 40,
     "metadata": {},
     "output_type": "execute_result"
    }
   ],
   "source": [
    "#random_forest(x_train,x_test,y_train,y_test)\n",
    "random_forest(X2,Y2)"
   ]
  },
  {
   "cell_type": "code",
   "execution_count": null,
   "id": "fe478ffe-f03c-4d6f-9a80-65179b56221d",
   "metadata": {},
   "outputs": [],
   "source": []
  }
 ],
 "metadata": {
  "kernelspec": {
   "display_name": "Python 3 (ipykernel)",
   "language": "python",
   "name": "python3"
  },
  "language_info": {
   "codemirror_mode": {
    "name": "ipython",
    "version": 3
   },
   "file_extension": ".py",
   "mimetype": "text/x-python",
   "name": "python",
   "nbconvert_exporter": "python",
   "pygments_lexer": "ipython3",
   "version": "3.9.12"
  }
 },
 "nbformat": 4,
 "nbformat_minor": 5
}
