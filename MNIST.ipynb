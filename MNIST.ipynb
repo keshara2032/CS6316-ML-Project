{
  "nbformat": 4,
  "nbformat_minor": 0,
  "metadata": {
    "colab": {
      "provenance": [],
      "collapsed_sections": []
    },
    "kernelspec": {
      "name": "python3",
      "display_name": "Python 3"
    },
    "language_info": {
      "name": "python"
    }
  },
  "cells": [
    {
      "cell_type": "code",
      "execution_count": 44,
      "metadata": {
        "id": "-VSJGO_9_eQi"
      },
      "outputs": [],
      "source": [
        "import pickle\n",
        "import gzip\n",
        "import numpy as np\n",
        "import tensorflow as tf\n",
        "\n",
        "def load_data():\n",
        "    f = gzip.open('mnist.pkl.gz', 'rb')  # unzip and open\n",
        "    training_data, validation_data, test_data = pickle.load(f, encoding=\"latin1\") \n",
        "    # training_data : a tuple with 2 entries 1. (28*28 * 50,000) / 2. right difits between (0,9) for the corresponding images\n",
        "    # validation_data : similar but contains only 10,000 images \n",
        "    # test_data : similar but contains only 10,000 images\n",
        "    f.close()\n",
        "    return (training_data, validation_data, test_data)\n",
        "\n",
        "def load_data_wrapper():\n",
        "    tr_d, va_d, te_d = load_data()\n",
        "\n",
        "    training_inputs = [np.reshape(x, (784, 1)) for x in tr_d[0]]\n",
        "    training_results = [vectorized_result(y) for y in tr_d[1]]\n",
        "    training_data = zip(training_inputs, training_results)\n",
        "    validation_inputs = [np.reshape(x, (784, 1)) for x in va_d[0]]\n",
        "    validation_data = zip(validation_inputs, va_d[1])\n",
        "    test_inputs = [np.reshape(x, (784, 1)) for x in te_d[0]]\n",
        "    test_data = zip(test_inputs, te_d[1])\n",
        "    return (training_data, validation_data, test_data)\n",
        "\n",
        "def vectorized_result(j):\n",
        "    # e.g.) (0,0,0,0,0,1,0,0,0,0) --> 5\n",
        "    # e.g.) (0,0,0,0,0,0,0,0,0,1) --> 9\n",
        "    e = np.zeros((10, 1))\n",
        "    e[j] = 1.0\n",
        "    return e"
      ]
    },
    {
      "cell_type": "code",
      "source": [
        "training, validation, test = load_data()\n",
        "training2, validation2, test2 = load_data_wrapper()"
      ],
      "metadata": {
        "id": "okia-weREFkx"
      },
      "execution_count": 45,
      "outputs": []
    },
    {
      "cell_type": "markdown",
      "source": [
        "# New Section"
      ],
      "metadata": {
        "id": "5dHRQ_4EBo-F"
      }
    },
    {
      "cell_type": "markdown",
      "source": [
        "# New Section"
      ],
      "metadata": {
        "id": "IwrgW9-1BpeR"
      }
    },
    {
      "cell_type": "code",
      "source": [
        "print(training[0].shape)\n",
        "print(type(training[0]))\n",
        "print(training[1].shape)\n",
        "print(type(training[1]))\n",
        "print()"
      ],
      "metadata": {
        "colab": {
          "base_uri": "https://localhost:8080/"
        },
        "id": "E0cRcacWEiuH",
        "outputId": "c0e976e7-ddcb-42b2-9c49-55c25186d1d2"
      },
      "execution_count": 4,
      "outputs": [
        {
          "output_type": "stream",
          "name": "stdout",
          "text": [
            "(50000, 784)\n",
            "<class 'numpy.ndarray'>\n",
            "(50000,)\n",
            "<class 'numpy.ndarray'>\n",
            "\n"
          ]
        }
      ]
    },
    {
      "cell_type": "code",
      "source": [
        "training_data = list(training2)\n",
        "test_data = list(test2)"
      ],
      "metadata": {
        "id": "z9kvH8AnFb9p"
      },
      "execution_count": 50,
      "outputs": []
    },
    {
      "cell_type": "code",
      "source": [
        "from tensorflow import keras\n",
        "from tensorflow.keras import layers, models\n",
        "model = models.Sequential()\n",
        "\n",
        "model.add(layers.Dense(25, activation='sigmoid'))\n",
        "model.add(layers.Dense(25, activation='sigmoid'))\n",
        "model.add(layers.Dense(10, activation='softmax'))"
      ],
      "metadata": {
        "id": "ifbuIBcZBQHO"
      },
      "execution_count": 69,
      "outputs": []
    },
    {
      "cell_type": "code",
      "source": [
        "model.compile(optimizer='adam', loss='sparse_categorical_crossentropy', metrics=['accuracy'])\n",
        "history = model.fit(training[0], training[1], validation_data=(test[0], test[1]), epochs=15)"
      ],
      "metadata": {
        "colab": {
          "base_uri": "https://localhost:8080/"
        },
        "id": "dbCc505OGDEu",
        "outputId": "90115442-f9ea-4a08-f923-fdc1fe25f806"
      },
      "execution_count": 70,
      "outputs": [
        {
          "output_type": "stream",
          "name": "stdout",
          "text": [
            "Epoch 1/15\n",
            "1563/1563 [==============================] - 4s 3ms/step - loss: 0.9941 - accuracy: 0.7669 - val_loss: 0.4140 - val_accuracy: 0.8965\n",
            "Epoch 2/15\n",
            "1563/1563 [==============================] - 4s 3ms/step - loss: 0.3325 - accuracy: 0.9114 - val_loss: 0.2644 - val_accuracy: 0.9263\n",
            "Epoch 3/15\n",
            "1563/1563 [==============================] - 5s 3ms/step - loss: 0.2390 - accuracy: 0.9320 - val_loss: 0.2143 - val_accuracy: 0.9377\n",
            "Epoch 4/15\n",
            "1563/1563 [==============================] - 4s 2ms/step - loss: 0.1972 - accuracy: 0.9432 - val_loss: 0.1865 - val_accuracy: 0.9437\n",
            "Epoch 5/15\n",
            "1563/1563 [==============================] - 4s 3ms/step - loss: 0.1705 - accuracy: 0.9511 - val_loss: 0.1735 - val_accuracy: 0.9456\n",
            "Epoch 6/15\n",
            "1563/1563 [==============================] - 4s 2ms/step - loss: 0.1522 - accuracy: 0.9555 - val_loss: 0.1616 - val_accuracy: 0.9498\n",
            "Epoch 7/15\n",
            "1563/1563 [==============================] - 4s 3ms/step - loss: 0.1390 - accuracy: 0.9597 - val_loss: 0.1558 - val_accuracy: 0.9522\n",
            "Epoch 8/15\n",
            "1563/1563 [==============================] - 4s 2ms/step - loss: 0.1280 - accuracy: 0.9633 - val_loss: 0.1511 - val_accuracy: 0.9528\n",
            "Epoch 9/15\n",
            "1563/1563 [==============================] - 4s 3ms/step - loss: 0.1190 - accuracy: 0.9645 - val_loss: 0.1503 - val_accuracy: 0.9537\n",
            "Epoch 10/15\n",
            "1563/1563 [==============================] - 4s 3ms/step - loss: 0.1114 - accuracy: 0.9672 - val_loss: 0.1422 - val_accuracy: 0.9565\n",
            "Epoch 11/15\n",
            "1563/1563 [==============================] - 4s 3ms/step - loss: 0.1046 - accuracy: 0.9696 - val_loss: 0.1445 - val_accuracy: 0.9553\n",
            "Epoch 12/15\n",
            "1563/1563 [==============================] - 4s 3ms/step - loss: 0.0989 - accuracy: 0.9712 - val_loss: 0.1408 - val_accuracy: 0.9573\n",
            "Epoch 13/15\n",
            "1563/1563 [==============================] - 4s 3ms/step - loss: 0.0938 - accuracy: 0.9726 - val_loss: 0.1428 - val_accuracy: 0.9565\n",
            "Epoch 14/15\n",
            "1563/1563 [==============================] - 4s 2ms/step - loss: 0.0888 - accuracy: 0.9735 - val_loss: 0.1369 - val_accuracy: 0.9583\n",
            "Epoch 15/15\n",
            "1563/1563 [==============================] - 5s 3ms/step - loss: 0.0843 - accuracy: 0.9751 - val_loss: 0.1389 - val_accuracy: 0.9576\n"
          ]
        }
      ]
    },
    {
      "cell_type": "code",
      "source": [
        "test_loss, test_acc = model.evaluate(test[0], test[1])\n",
        "print(test_loss)\n",
        "print(test_acc)"
      ],
      "metadata": {
        "colab": {
          "base_uri": "https://localhost:8080/"
        },
        "id": "v1Iyxe6YPhH8",
        "outputId": "fbab5b54-a560-464a-e18d-122782314b64"
      },
      "execution_count": 71,
      "outputs": [
        {
          "output_type": "stream",
          "name": "stdout",
          "text": [
            "313/313 [==============================] - 1s 2ms/step - loss: 0.1389 - accuracy: 0.9576\n",
            "0.1388643980026245\n",
            "0.9575999975204468\n"
          ]
        }
      ]
    },
    {
      "cell_type": "code",
      "source": [
        "import matplotlib.pyplot as plt\n",
        "\n",
        "print(history.history['accuracy'])\n",
        "print(history.history['val_accuracy'])\n",
        "\n",
        "print(history.history['loss'])\n",
        "print(history.history['val_loss'])\n",
        "\n",
        "plt.plot(history.history['accuracy'])\n",
        "plt.plot(history.history['val_accuracy'])\n",
        "plt.title('Model accuracy')\n",
        "plt.ylabel('accuracy')\n",
        "plt.ylim(0.7,1.0)\n",
        "plt.xlabel('epoch')\n",
        "plt.legend(['train', 'test'])\n",
        "plt.show()\n",
        "\n",
        "\n",
        "plt.plot(history.history['loss'])\n",
        "plt.plot(history.history['val_loss'])\n",
        "plt.title('Model loss')\n",
        "plt.ylabel('loss')\n",
        "plt.xlabel('epoch')\n",
        "plt.legend(['train', 'test'])\n",
        "plt.show()"
      ],
      "metadata": {
        "colab": {
          "base_uri": "https://localhost:8080/",
          "height": 662
        },
        "id": "Jb3q3TUjPVKP",
        "outputId": "1930977f-3975-4b60-98f6-4627179a399f"
      },
      "execution_count": 73,
      "outputs": [
        {
          "output_type": "stream",
          "name": "stdout",
          "text": [
            "[0.7668600082397461, 0.9114000201225281, 0.9319800138473511, 0.9431999921798706, 0.9510599970817566, 0.9554600119590759, 0.959659993648529, 0.9632599949836731, 0.964460015296936, 0.9671800136566162, 0.9695799946784973, 0.9712200164794922, 0.972599983215332, 0.9735199809074402, 0.9751200079917908]\n",
            "[0.8964999914169312, 0.9262999892234802, 0.9376999735832214, 0.9437000155448914, 0.9455999732017517, 0.9498000144958496, 0.9521999955177307, 0.9527999758720398, 0.9537000060081482, 0.9564999938011169, 0.955299973487854, 0.9573000073432922, 0.9564999938011169, 0.958299994468689, 0.9575999975204468]\n",
            "[0.9940947890281677, 0.3324817717075348, 0.2389904111623764, 0.19716763496398926, 0.1704731583595276, 0.15224245190620422, 0.13897423446178436, 0.1279786378145218, 0.11898114532232285, 0.11140402406454086, 0.10460131615400314, 0.09888838231563568, 0.09380200505256653, 0.08877859264612198, 0.08425220847129822]\n",
            "[0.41397225856781006, 0.26438337564468384, 0.21428683400154114, 0.18648463487625122, 0.17345193028450012, 0.16156063973903656, 0.15584227442741394, 0.15107183158397675, 0.150325745344162, 0.1421969085931778, 0.1444825828075409, 0.14084520936012268, 0.1428033709526062, 0.1369449645280838, 0.1388643980026245]\n"
          ]
        },
        {
          "output_type": "display_data",
          "data": {
            "text/plain": [
              "<Figure size 432x288 with 1 Axes>"
            ],
            "image/png": "[encoded data removed]"
          },
          "metadata": {
            "needs_background": "light"
          }
        },
        {
          "output_type": "display_data",
          "data": {
            "text/plain": [
              "<Figure size 432x288 with 1 Axes>"
            ],
            "image/png": "[encoded data removed]"
          },
          "metadata": {
            "needs_background": "light"
          }
        }
      ]
    }
  ]
}